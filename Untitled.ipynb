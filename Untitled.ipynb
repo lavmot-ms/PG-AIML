{
 "cells": [
  {
   "cell_type": "code",
   "execution_count": 15,
   "id": "67d86fbf",
   "metadata": {},
   "outputs": [],
   "source": [
    "import pandas as pd\n",
    "import numpy as np\n",
    "import seaborn as sns\n",
    "import matplotlib.pyplot as plt\n",
    "import os\n",
    "\n",
    "%matplotlib notebook"
   ]
  },
  {
   "cell_type": "code",
   "execution_count": 16,
   "id": "31b4ec73",
   "metadata": {},
   "outputs": [
    {
     "data": {
      "text/plain": [
       "'/Users/laviusmotileng/Desktop/AIML'"
      ]
     },
     "execution_count": 16,
     "metadata": {},
     "output_type": "execute_result"
    }
   ],
   "source": [
    "os.getcwd()"
   ]
  },
  {
   "cell_type": "code",
   "execution_count": 17,
   "id": "6e876f3f",
   "metadata": {},
   "outputs": [
    {
     "data": {
      "text/plain": [
       "['Setup.sh',\n",
       " '.DS_Store',\n",
       " 'LICENSE',\n",
       " 'Untitled.ipynb',\n",
       " 'Resources',\n",
       " 'Utils',\n",
       " 'README.MD',\n",
       " '.gitignore',\n",
       " '.ipynb_checkpoints',\n",
       " 'prework',\n",
       " '.git']"
      ]
     },
     "execution_count": 17,
     "metadata": {},
     "output_type": "execute_result"
    }
   ],
   "source": [
    "os.listdir()"
   ]
  },
  {
   "cell_type": "code",
   "execution_count": 18,
   "id": "07d5bb22",
   "metadata": {},
   "outputs": [],
   "source": [
    "sampleData = pd.read_csv(\"prework/sample.csv\");"
   ]
  },
  {
   "cell_type": "code",
   "execution_count": 19,
   "id": "fade54f0",
   "metadata": {},
   "outputs": [
    {
     "data": {
      "text/html": [
       "<div>\n",
       "<style scoped>\n",
       "    .dataframe tbody tr th:only-of-type {\n",
       "        vertical-align: middle;\n",
       "    }\n",
       "\n",
       "    .dataframe tbody tr th {\n",
       "        vertical-align: top;\n",
       "    }\n",
       "\n",
       "    .dataframe thead th {\n",
       "        text-align: right;\n",
       "    }\n",
       "</style>\n",
       "<table border=\"1\" class=\"dataframe\">\n",
       "  <thead>\n",
       "    <tr style=\"text-align: right;\">\n",
       "      <th></th>\n",
       "      <th>User;Name;Date;changes</th>\n",
       "    </tr>\n",
       "  </thead>\n",
       "  <tbody>\n",
       "    <tr>\n",
       "      <th>0</th>\n",
       "      <td>Category;Category;Date[dd/MM/yyyy HH:mm];int</td>\n",
       "    </tr>\n",
       "    <tr>\n",
       "      <th>1</th>\n",
       "      <td>194.210.1.51;Bonnet_phrygien;19/10/2004 11:02;163</td>\n",
       "    </tr>\n",
       "    <tr>\n",
       "      <th>2</th>\n",
       "      <td>Ske;Bonnet_phrygien;19/10/2004 12:11;751</td>\n",
       "    </tr>\n",
       "    <tr>\n",
       "      <th>3</th>\n",
       "      <td>Ske;Bonnet_phrygien;19/10/2004 12:12;17</td>\n",
       "    </tr>\n",
       "    <tr>\n",
       "      <th>4</th>\n",
       "      <td>83.27.202.42;Bonnet_phrygien;21/10/2004 10:39;42</td>\n",
       "    </tr>\n",
       "  </tbody>\n",
       "</table>\n",
       "</div>"
      ],
      "text/plain": [
       "                              User;Name;Date;changes\n",
       "0       Category;Category;Date[dd/MM/yyyy HH:mm];int\n",
       "1  194.210.1.51;Bonnet_phrygien;19/10/2004 11:02;163\n",
       "2           Ske;Bonnet_phrygien;19/10/2004 12:11;751\n",
       "3            Ske;Bonnet_phrygien;19/10/2004 12:12;17\n",
       "4   83.27.202.42;Bonnet_phrygien;21/10/2004 10:39;42"
      ]
     },
     "execution_count": 19,
     "metadata": {},
     "output_type": "execute_result"
    }
   ],
   "source": [
    "sampleData.head()"
   ]
  },
  {
   "cell_type": "code",
   "execution_count": 20,
   "id": "a5c40d5c",
   "metadata": {},
   "outputs": [
    {
     "data": {
      "text/html": [
       "<div>\n",
       "<style scoped>\n",
       "    .dataframe tbody tr th:only-of-type {\n",
       "        vertical-align: middle;\n",
       "    }\n",
       "\n",
       "    .dataframe tbody tr th {\n",
       "        vertical-align: top;\n",
       "    }\n",
       "\n",
       "    .dataframe thead th {\n",
       "        text-align: right;\n",
       "    }\n",
       "</style>\n",
       "<table border=\"1\" class=\"dataframe\">\n",
       "  <thead>\n",
       "    <tr style=\"text-align: right;\">\n",
       "      <th></th>\n",
       "      <th>User;Name;Date;changes</th>\n",
       "    </tr>\n",
       "  </thead>\n",
       "  <tbody>\n",
       "    <tr>\n",
       "      <th>count</th>\n",
       "      <td>999</td>\n",
       "    </tr>\n",
       "    <tr>\n",
       "      <th>unique</th>\n",
       "      <td>997</td>\n",
       "    </tr>\n",
       "    <tr>\n",
       "      <th>top</th>\n",
       "      <td>86.212.193.123;Caroline_chérie_(1951);26/10/20...</td>\n",
       "    </tr>\n",
       "    <tr>\n",
       "      <th>freq</th>\n",
       "      <td>2</td>\n",
       "    </tr>\n",
       "  </tbody>\n",
       "</table>\n",
       "</div>"
      ],
      "text/plain": [
       "                                   User;Name;Date;changes\n",
       "count                                                 999\n",
       "unique                                                997\n",
       "top     86.212.193.123;Caroline_chérie_(1951);26/10/20...\n",
       "freq                                                    2"
      ]
     },
     "execution_count": 20,
     "metadata": {},
     "output_type": "execute_result"
    }
   ],
   "source": [
    "sampleData.describe()"
   ]
  },
  {
   "cell_type": "code",
   "execution_count": null,
   "id": "06307c3a",
   "metadata": {},
   "outputs": [],
   "source": []
  }
 ],
 "metadata": {
  "kernelspec": {
   "display_name": "Python 3",
   "language": "python",
   "name": "python3"
  },
  "language_info": {
   "codemirror_mode": {
    "name": "ipython",
    "version": 3
   },
   "file_extension": ".py",
   "mimetype": "text/x-python",
   "name": "python",
   "nbconvert_exporter": "python",
   "pygments_lexer": "ipython3",
   "version": "3.8.8"
  }
 },
 "nbformat": 4,
 "nbformat_minor": 5
}
