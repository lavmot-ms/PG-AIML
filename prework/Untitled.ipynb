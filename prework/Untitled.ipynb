{
 "cells": [
  {
   "cell_type": "code",
   "execution_count": 25,
   "id": "2b63bded",
   "metadata": {},
   "outputs": [],
   "source": [
    "import os\n",
    "import warnings\n",
    "import pprint\n",
    "import pandas as pd\n",
    "import numpy as np\n",
    "import seaborn as sns\n",
    "import matplotlib.pyplot as plt\n",
    "import sklearn.metrics as metrics\n",
    "\n",
    "from matplotlib import gridspec\n",
    "from sklearn.ensemble import BaggingClassifier, RandomForestClassifier\n",
    "from sklearn.linear_model import LogisticRegression\n",
    "from sklearn.model_selection import train_test_split\n",
    "from sklearn.tree import DecisionTreeClassifier\n",
    "from sklearn.model_selection import GridSearchCV\n",
    "from sklearn.ensemble import AdaBoostClassifier, GradientBoostingClassifier, StackingClassifier\n",
    "from xgboost import XGBClassifier\n",
    "\n",
    "\n",
    "from sklearn import tree\n",
    "\n",
    "from os import system\n",
    "from IPython.display import Image\n",
    "\n",
    "\n",
    "warnings.filterwarnings('ignore')                                       # Ignore/Do not display warnings\n",
    "\n",
    "main_data = pd.read_csv('Cars-dataset.csv')"
   ]
  },
  {
   "cell_type": "code",
   "execution_count": 2,
   "id": "e0832631",
   "metadata": {},
   "outputs": [
    {
     "data": {
      "text/html": [
       "<div>\n",
       "<style scoped>\n",
       "    .dataframe tbody tr th:only-of-type {\n",
       "        vertical-align: middle;\n",
       "    }\n",
       "\n",
       "    .dataframe tbody tr th {\n",
       "        vertical-align: top;\n",
       "    }\n",
       "\n",
       "    .dataframe thead th {\n",
       "        text-align: right;\n",
       "    }\n",
       "</style>\n",
       "<table border=\"1\" class=\"dataframe\">\n",
       "  <thead>\n",
       "    <tr style=\"text-align: right;\">\n",
       "      <th></th>\n",
       "      <th>Age</th>\n",
       "      <th>Gender</th>\n",
       "      <th>Engineer</th>\n",
       "      <th>MBA</th>\n",
       "      <th>Work Exp</th>\n",
       "      <th>Salary</th>\n",
       "      <th>Distance</th>\n",
       "      <th>license</th>\n",
       "      <th>Opt_service</th>\n",
       "    </tr>\n",
       "  </thead>\n",
       "  <tbody>\n",
       "    <tr>\n",
       "      <th>0</th>\n",
       "      <td>28</td>\n",
       "      <td>Male</td>\n",
       "      <td>1</td>\n",
       "      <td>0</td>\n",
       "      <td>5</td>\n",
       "      <td>14.4</td>\n",
       "      <td>5.1</td>\n",
       "      <td>0</td>\n",
       "      <td>0</td>\n",
       "    </tr>\n",
       "    <tr>\n",
       "      <th>1</th>\n",
       "      <td>24</td>\n",
       "      <td>Male</td>\n",
       "      <td>1</td>\n",
       "      <td>0</td>\n",
       "      <td>6</td>\n",
       "      <td>10.6</td>\n",
       "      <td>6.1</td>\n",
       "      <td>0</td>\n",
       "      <td>0</td>\n",
       "    </tr>\n",
       "    <tr>\n",
       "      <th>2</th>\n",
       "      <td>27</td>\n",
       "      <td>Female</td>\n",
       "      <td>1</td>\n",
       "      <td>0</td>\n",
       "      <td>9</td>\n",
       "      <td>15.5</td>\n",
       "      <td>6.1</td>\n",
       "      <td>0</td>\n",
       "      <td>0</td>\n",
       "    </tr>\n",
       "    <tr>\n",
       "      <th>3</th>\n",
       "      <td>25</td>\n",
       "      <td>Male</td>\n",
       "      <td>0</td>\n",
       "      <td>0</td>\n",
       "      <td>1</td>\n",
       "      <td>7.6</td>\n",
       "      <td>6.3</td>\n",
       "      <td>0</td>\n",
       "      <td>0</td>\n",
       "    </tr>\n",
       "    <tr>\n",
       "      <th>4</th>\n",
       "      <td>25</td>\n",
       "      <td>Female</td>\n",
       "      <td>0</td>\n",
       "      <td>0</td>\n",
       "      <td>3</td>\n",
       "      <td>9.6</td>\n",
       "      <td>6.7</td>\n",
       "      <td>0</td>\n",
       "      <td>0</td>\n",
       "    </tr>\n",
       "    <tr>\n",
       "      <th>5</th>\n",
       "      <td>21</td>\n",
       "      <td>Male</td>\n",
       "      <td>0</td>\n",
       "      <td>0</td>\n",
       "      <td>3</td>\n",
       "      <td>9.5</td>\n",
       "      <td>7.1</td>\n",
       "      <td>0</td>\n",
       "      <td>0</td>\n",
       "    </tr>\n",
       "    <tr>\n",
       "      <th>6</th>\n",
       "      <td>23</td>\n",
       "      <td>Male</td>\n",
       "      <td>1</td>\n",
       "      <td>1</td>\n",
       "      <td>3</td>\n",
       "      <td>11.7</td>\n",
       "      <td>7.2</td>\n",
       "      <td>0</td>\n",
       "      <td>0</td>\n",
       "    </tr>\n",
       "    <tr>\n",
       "      <th>7</th>\n",
       "      <td>23</td>\n",
       "      <td>Male</td>\n",
       "      <td>0</td>\n",
       "      <td>0</td>\n",
       "      <td>0</td>\n",
       "      <td>6.5</td>\n",
       "      <td>7.3</td>\n",
       "      <td>0</td>\n",
       "      <td>0</td>\n",
       "    </tr>\n",
       "    <tr>\n",
       "      <th>8</th>\n",
       "      <td>24</td>\n",
       "      <td>Male</td>\n",
       "      <td>1</td>\n",
       "      <td>0</td>\n",
       "      <td>4</td>\n",
       "      <td>8.5</td>\n",
       "      <td>7.5</td>\n",
       "      <td>0</td>\n",
       "      <td>0</td>\n",
       "    </tr>\n",
       "    <tr>\n",
       "      <th>9</th>\n",
       "      <td>28</td>\n",
       "      <td>Male</td>\n",
       "      <td>1</td>\n",
       "      <td>0</td>\n",
       "      <td>6</td>\n",
       "      <td>13.7</td>\n",
       "      <td>7.5</td>\n",
       "      <td>1</td>\n",
       "      <td>0</td>\n",
       "    </tr>\n",
       "  </tbody>\n",
       "</table>\n",
       "</div>"
      ],
      "text/plain": [
       "   Age  Gender  Engineer  MBA  Work Exp  Salary  Distance  license  \\\n",
       "0   28    Male         1    0         5    14.4       5.1        0   \n",
       "1   24    Male         1    0         6    10.6       6.1        0   \n",
       "2   27  Female         1    0         9    15.5       6.1        0   \n",
       "3   25    Male         0    0         1     7.6       6.3        0   \n",
       "4   25  Female         0    0         3     9.6       6.7        0   \n",
       "5   21    Male         0    0         3     9.5       7.1        0   \n",
       "6   23    Male         1    1         3    11.7       7.2        0   \n",
       "7   23    Male         0    0         0     6.5       7.3        0   \n",
       "8   24    Male         1    0         4     8.5       7.5        0   \n",
       "9   28    Male         1    0         6    13.7       7.5        1   \n",
       "\n",
       "   Opt_service  \n",
       "0            0  \n",
       "1            0  \n",
       "2            0  \n",
       "3            0  \n",
       "4            0  \n",
       "5            0  \n",
       "6            0  \n",
       "7            0  \n",
       "8            0  \n",
       "9            0  "
      ]
     },
     "execution_count": 2,
     "metadata": {},
     "output_type": "execute_result"
    }
   ],
   "source": [
    "main_data.head(10)"
   ]
  },
  {
   "cell_type": "code",
   "execution_count": 3,
   "id": "6492e200",
   "metadata": {},
   "outputs": [
    {
     "name": "stdout",
     "output_type": "stream",
     "text": [
      "<class 'pandas.core.frame.DataFrame'>\n",
      "RangeIndex: 418 entries, 0 to 417\n",
      "Data columns (total 9 columns):\n",
      " #   Column       Non-Null Count  Dtype  \n",
      "---  ------       --------------  -----  \n",
      " 0   Age          418 non-null    int64  \n",
      " 1   Gender       418 non-null    object \n",
      " 2   Engineer     418 non-null    int64  \n",
      " 3   MBA          418 non-null    int64  \n",
      " 4   Work Exp     418 non-null    int64  \n",
      " 5   Salary       418 non-null    float64\n",
      " 6   Distance     418 non-null    float64\n",
      " 7   license      418 non-null    int64  \n",
      " 8   Opt_service  418 non-null    int64  \n",
      "dtypes: float64(2), int64(6), object(1)\n",
      "memory usage: 29.5+ KB\n"
     ]
    }
   ],
   "source": [
    "main_data.info()"
   ]
  },
  {
   "cell_type": "code",
   "execution_count": 4,
   "id": "bb39f523",
   "metadata": {},
   "outputs": [
    {
     "data": {
      "text/html": [
       "<div>\n",
       "<style scoped>\n",
       "    .dataframe tbody tr th:only-of-type {\n",
       "        vertical-align: middle;\n",
       "    }\n",
       "\n",
       "    .dataframe tbody tr th {\n",
       "        vertical-align: top;\n",
       "    }\n",
       "\n",
       "    .dataframe thead th {\n",
       "        text-align: right;\n",
       "    }\n",
       "</style>\n",
       "<table border=\"1\" class=\"dataframe\">\n",
       "  <thead>\n",
       "    <tr style=\"text-align: right;\">\n",
       "      <th></th>\n",
       "      <th>Age</th>\n",
       "      <th>Engineer</th>\n",
       "      <th>MBA</th>\n",
       "      <th>Work Exp</th>\n",
       "      <th>Salary</th>\n",
       "      <th>Distance</th>\n",
       "      <th>license</th>\n",
       "      <th>Opt_service</th>\n",
       "      <th>Gender_Female</th>\n",
       "      <th>Gender_Male</th>\n",
       "    </tr>\n",
       "  </thead>\n",
       "  <tbody>\n",
       "    <tr>\n",
       "      <th>0</th>\n",
       "      <td>28</td>\n",
       "      <td>1</td>\n",
       "      <td>0</td>\n",
       "      <td>5</td>\n",
       "      <td>14.4</td>\n",
       "      <td>5.1</td>\n",
       "      <td>0</td>\n",
       "      <td>0</td>\n",
       "      <td>0</td>\n",
       "      <td>1</td>\n",
       "    </tr>\n",
       "    <tr>\n",
       "      <th>1</th>\n",
       "      <td>24</td>\n",
       "      <td>1</td>\n",
       "      <td>0</td>\n",
       "      <td>6</td>\n",
       "      <td>10.6</td>\n",
       "      <td>6.1</td>\n",
       "      <td>0</td>\n",
       "      <td>0</td>\n",
       "      <td>0</td>\n",
       "      <td>1</td>\n",
       "    </tr>\n",
       "    <tr>\n",
       "      <th>2</th>\n",
       "      <td>27</td>\n",
       "      <td>1</td>\n",
       "      <td>0</td>\n",
       "      <td>9</td>\n",
       "      <td>15.5</td>\n",
       "      <td>6.1</td>\n",
       "      <td>0</td>\n",
       "      <td>0</td>\n",
       "      <td>1</td>\n",
       "      <td>0</td>\n",
       "    </tr>\n",
       "    <tr>\n",
       "      <th>3</th>\n",
       "      <td>25</td>\n",
       "      <td>0</td>\n",
       "      <td>0</td>\n",
       "      <td>1</td>\n",
       "      <td>7.6</td>\n",
       "      <td>6.3</td>\n",
       "      <td>0</td>\n",
       "      <td>0</td>\n",
       "      <td>0</td>\n",
       "      <td>1</td>\n",
       "    </tr>\n",
       "    <tr>\n",
       "      <th>4</th>\n",
       "      <td>25</td>\n",
       "      <td>0</td>\n",
       "      <td>0</td>\n",
       "      <td>3</td>\n",
       "      <td>9.6</td>\n",
       "      <td>6.7</td>\n",
       "      <td>0</td>\n",
       "      <td>0</td>\n",
       "      <td>1</td>\n",
       "      <td>0</td>\n",
       "    </tr>\n",
       "    <tr>\n",
       "      <th>5</th>\n",
       "      <td>21</td>\n",
       "      <td>0</td>\n",
       "      <td>0</td>\n",
       "      <td>3</td>\n",
       "      <td>9.5</td>\n",
       "      <td>7.1</td>\n",
       "      <td>0</td>\n",
       "      <td>0</td>\n",
       "      <td>0</td>\n",
       "      <td>1</td>\n",
       "    </tr>\n",
       "    <tr>\n",
       "      <th>6</th>\n",
       "      <td>23</td>\n",
       "      <td>1</td>\n",
       "      <td>1</td>\n",
       "      <td>3</td>\n",
       "      <td>11.7</td>\n",
       "      <td>7.2</td>\n",
       "      <td>0</td>\n",
       "      <td>0</td>\n",
       "      <td>0</td>\n",
       "      <td>1</td>\n",
       "    </tr>\n",
       "    <tr>\n",
       "      <th>7</th>\n",
       "      <td>23</td>\n",
       "      <td>0</td>\n",
       "      <td>0</td>\n",
       "      <td>0</td>\n",
       "      <td>6.5</td>\n",
       "      <td>7.3</td>\n",
       "      <td>0</td>\n",
       "      <td>0</td>\n",
       "      <td>0</td>\n",
       "      <td>1</td>\n",
       "    </tr>\n",
       "    <tr>\n",
       "      <th>8</th>\n",
       "      <td>24</td>\n",
       "      <td>1</td>\n",
       "      <td>0</td>\n",
       "      <td>4</td>\n",
       "      <td>8.5</td>\n",
       "      <td>7.5</td>\n",
       "      <td>0</td>\n",
       "      <td>0</td>\n",
       "      <td>0</td>\n",
       "      <td>1</td>\n",
       "    </tr>\n",
       "    <tr>\n",
       "      <th>9</th>\n",
       "      <td>28</td>\n",
       "      <td>1</td>\n",
       "      <td>0</td>\n",
       "      <td>6</td>\n",
       "      <td>13.7</td>\n",
       "      <td>7.5</td>\n",
       "      <td>1</td>\n",
       "      <td>0</td>\n",
       "      <td>0</td>\n",
       "      <td>1</td>\n",
       "    </tr>\n",
       "  </tbody>\n",
       "</table>\n",
       "</div>"
      ],
      "text/plain": [
       "   Age  Engineer  MBA  Work Exp  Salary  Distance  license  Opt_service  \\\n",
       "0   28         1    0         5    14.4       5.1        0            0   \n",
       "1   24         1    0         6    10.6       6.1        0            0   \n",
       "2   27         1    0         9    15.5       6.1        0            0   \n",
       "3   25         0    0         1     7.6       6.3        0            0   \n",
       "4   25         0    0         3     9.6       6.7        0            0   \n",
       "5   21         0    0         3     9.5       7.1        0            0   \n",
       "6   23         1    1         3    11.7       7.2        0            0   \n",
       "7   23         0    0         0     6.5       7.3        0            0   \n",
       "8   24         1    0         4     8.5       7.5        0            0   \n",
       "9   28         1    0         6    13.7       7.5        1            0   \n",
       "\n",
       "   Gender_Female  Gender_Male  \n",
       "0              0            1  \n",
       "1              0            1  \n",
       "2              1            0  \n",
       "3              0            1  \n",
       "4              1            0  \n",
       "5              0            1  \n",
       "6              0            1  \n",
       "7              0            1  \n",
       "8              0            1  \n",
       "9              0            1  "
      ]
     },
     "execution_count": 4,
     "metadata": {},
     "output_type": "execute_result"
    }
   ],
   "source": [
    "oneHotCols = [\"Gender\"]\n",
    "main_data = pd.get_dummies(main_data, columns=oneHotCols)\n",
    "main_data.head(10)"
   ]
  },
  {
   "cell_type": "code",
   "execution_count": 5,
   "id": "2e86958f",
   "metadata": {},
   "outputs": [
    {
     "data": {
      "image/png": "[encoded data removed]",
      "text/plain": [
       "<Figure size 720x504 with 2 Axes>"
      ]
     },
     "metadata": {
      "needs_background": "light"
     },
     "output_type": "display_data"
    }
   ],
   "source": [
    "# variables that have more than 0.7 correlation\n",
    "df = main_data.copy()\n",
    "plt.figure(figsize=(10,7))\n",
    "sns.heatmap(df.corr()[df.corr()>0.7],annot = True,vmax = 1, vmin = -1, cmap='Spectral');"
   ]
  },
  {
   "cell_type": "code",
   "execution_count": 6,
   "id": "5fea1333",
   "metadata": {},
   "outputs": [],
   "source": [
    "# Functions to calculate different metrics\n",
    "\n",
    "def DisplayConfusionMatrix(model, y_actual, labels=[1,0]):\n",
    "    y_predict = model.predict(x_test)\n",
    "    confusion_matrix = metrics.confusion_matrix(y_actual, y_predict, labels=[0, 1])\n",
    "    confusion_matix_df = pd.DataFrame(\n",
    "        confusion_matrix,\n",
    "        index   = [i for i in [\"Actual No\", \"Actual Yes\"]],\n",
    "        columns = [i for i in [\"Predicted - No\", \"Predicted - Yes\"]])\n",
    "    \n",
    "    group_counts = [\"{0:0.0f}\".format(value) for value in confusion_matrix.flatten()]\n",
    "    group_percetages = [\"{0:.2%}\".format(value) for value in confusion_matrix.flatten()/np.sum(confusion_matrix)]\n",
    "    \n",
    "    labels = [f\"{v1}\\n{v2}\" for v1, v2 in zip(group_counts, group_percetages)]\n",
    "    labels = np.array(labels).reshape(2, 2)\n",
    "    plt.figure(figsize= (10,7))\n",
    "    sns.heatmap(confusion_matix_df, annot=labels,fmt='')\n",
    "    plt.ylabel(\"True Label\")\n",
    "    plt.xlabel(\"Predicted Label\")\n",
    "    \n",
    "def GetMetricsScore(model):\n",
    "    \n",
    "    pred_train = model.predict(x_train)\n",
    "    pred_test  = model.predict(x_test)\n",
    "    \n",
    "    train_accuracy = model.score(x_train, y_train)\n",
    "    test_accuracy  = model.score(x_test, y_test)\n",
    "    \n",
    "    train_recall = metrics.recall_score(y_train, pred_train)\n",
    "    test_recall  = metrics.recall_score(y_test, pred_test)\n",
    "    \n",
    "    train_precision = metrics.precision_score(y_train, pred_train)\n",
    "    test_precision  = metrics.precision_score(y_test, pred_test)\n",
    "\n",
    "    f1_score_train = 2 * ((train_precision * train_recall)/(train_precision + train_recall))\n",
    "    f1_score_test = 2 * ((test_precision * test_recall)/(test_precision + test_recall))\n",
    "    \n",
    "    return {\n",
    "        'Accuracy_Test'   : test_accuracy,\n",
    "        'Accuracy_Train'  : train_accuracy,\n",
    "        'Recall_Test'     : test_recall,\n",
    "        'Recall_Train'    : train_recall,\n",
    "        'Precision_Test'  : test_precision,\n",
    "        'Precision_Train' : train_precision,\n",
    "        'F1_Score_Train'  : f1_score_train,\n",
    "        'F1_Score_Test'   : f1_score_test\n",
    "    }\n",
    "        \n",
    "\n",
    "def DisplayImportance(model):\n",
    "    gini_importances = pd.DataFrame(model.feature_importances_, columns=[\"Imp\"], index=x_train.columns).sort_values(by = \"Imp\")\n",
    "    print(gini_importances)\n",
    "    \n",
    "def DisplayImportanceChart(model):\n",
    "    importances = model.feature_importances_\n",
    "    indices = np.argsort(importances)\n",
    "\n",
    "    plt.figure(figsize=(12, 12))\n",
    "    plt.title('Feature Importance')\n",
    "    plt.barh(range(len(indices)), importances[indices], color='violet', align='center')\n",
    "    plt.yticks(range(len(indices)), [list(X.columns)[i] for i in indices])\n",
    "    plt.xlabel('Relative Importance')\n",
    "    plt.show()\n",
    "    \n",
    "def PlotTree(model, size = [20, 30]):\n",
    "    plt.figure(figsize=(size[0],size[1]))\n",
    "    tree.plot_tree(model, feature_names=feature_names, filled=True, fontsize=9, node_ids=True, class_names=True)\n",
    "    plt.show()\n",
    "    \n",
    "def PrintCoeficients(model):\n",
    "    coefs = pd.DataFrame(\n",
    "        np.append(model.coef_, model.intercept_),\n",
    "        index=x_train.columns.tolist() + [\"Intercept\"],\n",
    "        columns=[\"Coefficients\"],\n",
    "    )\n",
    "\n",
    "    coefs.sort_values('Coefficients')"
   ]
  },
  {
   "cell_type": "code",
   "execution_count": 7,
   "id": "e87ffb21",
   "metadata": {},
   "outputs": [],
   "source": [
    "X = main_data.drop(\"Opt_service\", axis=1)\n",
    "Y = main_data.pop(\"Opt_service\")\n",
    "x_train, x_test, y_train, y_test = train_test_split(X, Y, test_size=0.3, random_state=1)"
   ]
  },
  {
   "cell_type": "code",
   "execution_count": 8,
   "id": "f8b3cd26",
   "metadata": {},
   "outputs": [
    {
     "name": "stdout",
     "output_type": "stream",
     "text": [
      "(292, 9) (126, 9)\n"
     ]
    }
   ],
   "source": [
    "print(x_train.shape, x_test.shape)"
   ]
  },
  {
   "cell_type": "code",
   "execution_count": 9,
   "id": "3eb66b95",
   "metadata": {},
   "outputs": [
    {
     "name": "stdout",
     "output_type": "stream",
     "text": [
      "0    0.912698\n",
      "1    0.087302\n",
      "Name: Opt_service, dtype: float64\n"
     ]
    }
   ],
   "source": [
    "print(y_test.value_counts(1))"
   ]
  },
  {
   "cell_type": "code",
   "execution_count": 10,
   "id": "e1367263",
   "metadata": {},
   "outputs": [
    {
     "data": {
      "text/plain": [
       "RandomForestClassifier(random_state=1)"
      ]
     },
     "execution_count": 10,
     "metadata": {},
     "output_type": "execute_result"
    }
   ],
   "source": [
    "rf = RandomForestClassifier(random_state=1)\n",
    "rf.fit(x_train, y_train)"
   ]
  },
  {
   "cell_type": "code",
   "execution_count": 11,
   "id": "b76d8a91",
   "metadata": {},
   "outputs": [
    {
     "name": "stdout",
     "output_type": "stream",
     "text": [
      "{'Accuracy_Test': 1.0,\n",
      " 'Accuracy_Train': 1.0,\n",
      " 'F1_Score_Test': 1.0,\n",
      " 'F1_Score_Train': 1.0,\n",
      " 'Precision_Test': 1.0,\n",
      " 'Precision_Train': 1.0,\n",
      " 'Recall_Test': 1.0,\n",
      " 'Recall_Train': 1.0}\n"
     ]
    }
   ],
   "source": [
    "rf_score = GetMetricsScore(rf)\n",
    "pprint.pprint(rf_score)"
   ]
  },
  {
   "cell_type": "code",
   "execution_count": 12,
   "id": "de7d119a",
   "metadata": {},
   "outputs": [
    {
     "data": {
      "text/plain": [
       "BaggingClassifier(base_estimator=LogisticRegression(random_state=1),\n",
       "                  random_state=1)"
      ]
     },
     "execution_count": 12,
     "metadata": {},
     "output_type": "execute_result"
    }
   ],
   "source": [
    "# bagging classifier with base estimator  =Logistic Regression\n",
    "bag_lr = BaggingClassifier(random_state=1, base_estimator = LogisticRegression(random_state = 1))\n",
    "bag_lr.fit(x_train, y_train)"
   ]
  },
  {
   "cell_type": "code",
   "execution_count": 13,
   "id": "f87bd11a",
   "metadata": {},
   "outputs": [
    {
     "name": "stdout",
     "output_type": "stream",
     "text": [
      "{'Accuracy_Test': 0.9841269841269841,\n",
      " 'Accuracy_Train': 0.9897260273972602,\n",
      " 'F1_Score_Test': 0.9166666666666666,\n",
      " 'F1_Score_Train': 0.9361702127659574,\n",
      " 'Precision_Test': 0.8461538461538461,\n",
      " 'Precision_Train': 0.9565217391304348,\n",
      " 'Recall_Test': 1.0,\n",
      " 'Recall_Train': 0.9166666666666666}\n"
     ]
    }
   ],
   "source": [
    "bag_lr_score = GetMetricsScore(bag_lr)\n",
    "pprint.pprint(bag_lr_score)"
   ]
  },
  {
   "cell_type": "code",
   "execution_count": 35,
   "id": "1ba74728",
   "metadata": {},
   "outputs": [
    {
     "name": "stdout",
     "output_type": "stream",
     "text": [
      "Bagging\n",
      "{'Accuracy_Test': 0.9841269841269841,\n",
      " 'Accuracy_Train': 0.9897260273972602,\n",
      " 'F1_Score_Test': 0.9166666666666666,\n",
      " 'F1_Score_Train': 0.9361702127659574,\n",
      " 'Precision_Test': 0.8461538461538461,\n",
      " 'Precision_Train': 0.9565217391304348,\n",
      " 'Recall_Test': 1.0,\n",
      " 'Recall_Train': 0.9166666666666666}\n",
      "Forest\n",
      "{'Accuracy_Test': 1.0,\n",
      " 'Accuracy_Train': 1.0,\n",
      " 'F1_Score_Test': 1.0,\n",
      " 'F1_Score_Train': 1.0,\n",
      " 'Precision_Test': 1.0,\n",
      " 'Precision_Train': 1.0,\n",
      " 'Recall_Test': 1.0,\n",
      " 'Recall_Train': 1.0}\n"
     ]
    }
   ],
   "source": [
    "print(\"Bagging\")\n",
    "bag_lr = BaggingClassifier(random_state=1, base_estimator = LogisticRegression(random_state = 1))\n",
    "bag_lr.fit(x_train, y_train)\n",
    "bag_lr_score = GetMetricsScore(bag_lr)\n",
    "pprint.pprint(bag_lr_score)\n",
    "\n",
    "print(\"Forest\")\n",
    "forest = RandomForestClassifier()\n",
    "forest.fit(x_train, y_train)\n",
    "forest_score = GetMetricsScore(forest)\n",
    "pprint.pprint(forest_score)"
   ]
  },
  {
   "cell_type": "code",
   "execution_count": 40,
   "id": "5f5d76a5",
   "metadata": {},
   "outputs": [
    {
     "name": "stdout",
     "output_type": "stream",
     "text": [
      "1\n",
      "'F1 Train : 0.8400000000000001'\n",
      "2\n",
      "'F1 Train : 0.9787234042553191'\n",
      "3\n",
      "'F1 Train : 0.9787234042553191'\n",
      "4\n",
      "'F1 Train : 0.9787234042553191'\n",
      "5\n",
      "'F1 Train : 1.0'\n"
     ]
    }
   ],
   "source": [
    "scores = []\n",
    "for i in range(1,6):\n",
    "    bag = BaggingClassifier(base_estimator=DecisionTreeClassifier(random_state=1,max_depth = i),random_state=1)\n",
    "    bag.fit(x_train, y_train)\n",
    "    bag_lr_score = GetMetricsScore(bag)\n",
    "    print(i)\n",
    "    pprint.pprint(f\"F1 Train : {bag_lr_score['F1_Score_Train']}\")"
   ]
  },
  {
   "cell_type": "code",
   "execution_count": 41,
   "id": "61adc37d",
   "metadata": {},
   "outputs": [
    {
     "name": "stdout",
     "output_type": "stream",
     "text": [
      "ABC\n",
      "{'Accuracy_Test': 1.0,\n",
      " 'Accuracy_Train': 1.0,\n",
      " 'F1_Score_Test': 1.0,\n",
      " 'F1_Score_Train': 1.0,\n",
      " 'Precision_Test': 1.0,\n",
      " 'Precision_Train': 1.0,\n",
      " 'Recall_Test': 1.0,\n",
      " 'Recall_Train': 1.0}\n",
      "GBM\n",
      "{'Accuracy_Test': 0.9920634920634921,\n",
      " 'Accuracy_Train': 1.0,\n",
      " 'F1_Score_Test': 0.9565217391304348,\n",
      " 'F1_Score_Train': 1.0,\n",
      " 'Precision_Test': 0.9166666666666666,\n",
      " 'Precision_Train': 1.0,\n",
      " 'Recall_Test': 1.0,\n",
      " 'Recall_Train': 1.0}\n",
      "XGB\n",
      "{'Accuracy_Test': 1.0,\n",
      " 'Accuracy_Train': 1.0,\n",
      " 'F1_Score_Test': 1.0,\n",
      " 'F1_Score_Train': 1.0,\n",
      " 'Precision_Test': 1.0,\n",
      " 'Precision_Train': 1.0,\n",
      " 'Recall_Test': 1.0,\n",
      " 'Recall_Train': 1.0}\n"
     ]
    }
   ],
   "source": [
    "# Adaboost classifier\n",
    "X_train = x_train\n",
    "abc = AdaBoostClassifier(random_state=1)\n",
    "abc.fit(X_train, y_train)\n",
    "\n",
    "# GradientBoost classifier\n",
    "gbm = GradientBoostingClassifier(random_state=1)\n",
    "gbm.fit(X_train, y_train)\n",
    "\n",
    "#XGBoost classifier\n",
    "xgb = XGBClassifier(random_state=1, eval_metric = 'logloss')\n",
    "xgb.fit(X_train, y_train)\n",
    "\n",
    "# predicting on training set\n",
    "abc_predict = abc.predict(X_train)\n",
    "gbm_predict = gbm.predict(X_train)\n",
    "xgb_predict = xgb.predict(X_train)\n",
    "\n",
    "# Checking model performance\n",
    "print('ABC')\n",
    "score = GetMetricsScore(abc)\n",
    "pprint.pprint(score)\n",
    "\n",
    "print('GBM')\n",
    "score = GetMetricsScore(gbm)\n",
    "pprint.pprint(score)\n",
    "\n",
    "print('XGB')\n",
    "score = GetMetricsScore(xgb)\n",
    "pprint.pprint(score)"
   ]
  },
  {
   "cell_type": "code",
   "execution_count": 22,
   "id": "4a9fab1e",
   "metadata": {},
   "outputs": [
    {
     "data": {
      "image/png": "[encoded data removed]",
      "text/plain": [
       "<Figure size 864x864 with 1 Axes>"
      ]
     },
     "metadata": {
      "needs_background": "light"
     },
     "output_type": "display_data"
    }
   ],
   "source": [
    "DisplayImportanceChart(gbm)"
   ]
  },
  {
   "cell_type": "code",
   "execution_count": 23,
   "id": "47bc4978",
   "metadata": {},
   "outputs": [
    {
     "name": "stdout",
     "output_type": "stream",
     "text": [
      "gbm1\n",
      "{'Accuracy_Test': 0.9126984126984127,\n",
      " 'Accuracy_Train': 0.9178082191780822,\n",
      " 'F1_Score_Test': nan,\n",
      " 'F1_Score_Train': nan,\n",
      " 'Precision_Test': 0.0,\n",
      " 'Precision_Train': 0.0,\n",
      " 'Recall_Test': 0.0,\n",
      " 'Recall_Train': 0.0}\n",
      "gbm2\n",
      "{'Accuracy_Test': 0.9761904761904762,\n",
      " 'Accuracy_Train': 0.9965753424657534,\n",
      " 'F1_Score_Test': 0.88,\n",
      " 'F1_Score_Train': 0.9787234042553191,\n",
      " 'Precision_Test': 0.7857142857142857,\n",
      " 'Precision_Train': 1.0,\n",
      " 'Recall_Test': 1.0,\n",
      " 'Recall_Train': 0.9583333333333334}\n",
      "gbm3\n",
      "{'Accuracy_Test': 0.9761904761904762,\n",
      " 'Accuracy_Train': 1.0,\n",
      " 'F1_Score_Test': 0.88,\n",
      " 'F1_Score_Train': 1.0,\n",
      " 'Precision_Test': 0.7857142857142857,\n",
      " 'Precision_Train': 1.0,\n",
      " 'Recall_Test': 1.0,\n",
      " 'Recall_Train': 1.0}\n"
     ]
    }
   ],
   "source": [
    "# Training first model\n",
    "gbm1 = GradientBoostingClassifier(random_state=1, n_estimators=50, learning_rate = 0.01 )\n",
    "gbm1.fit(X_train,y_train)\n",
    "\n",
    "# Training second model\n",
    "gbm2 = GradientBoostingClassifier(random_state=1, n_estimators=100, learning_rate = 0.01 )\n",
    "gbm2.fit(X_train,y_train)\n",
    "\n",
    "# Training third model\n",
    "gbm3 = GradientBoostingClassifier(random_state=1, n_estimators=400, learning_rate = 0.01 )\n",
    "gbm3.fit(X_train,y_train)\n",
    "\n",
    "print('gbm1')\n",
    "score = GetMetricsScore(gbm1)\n",
    "pprint.pprint(score)\n",
    "\n",
    "print('gbm2')\n",
    "score = GetMetricsScore(gbm2)\n",
    "pprint.pprint(score)\n",
    "\n",
    "print('gbm3')\n",
    "score = GetMetricsScore(gbm3)\n",
    "pprint.pprint(score)"
   ]
  },
  {
   "cell_type": "code",
   "execution_count": 42,
   "id": "41526f20",
   "metadata": {},
   "outputs": [
    {
     "data": {
      "text/plain": [
       "StackingClassifier(estimators=[('DT', DecisionTreeClassifier(random_state=1)),\n",
       "                               ('BAG', BaggingClassifier(random_state=1))],\n",
       "                   final_estimator=RandomForestClassifier(random_state=1))"
      ]
     },
     "execution_count": 42,
     "metadata": {},
     "output_type": "execute_result"
    }
   ],
   "source": [
    "estimators = [('DT',DecisionTreeClassifier(random_state=1)),\n",
    " ('BAG',BaggingClassifier(random_state=1))]\n",
    "\n",
    "# Training stacking classifier\n",
    "clf = StackingClassifier(estimators = estimators, final_estimator = RandomForestClassifier(random_state=1))\n",
    "clf.fit(X_train, y_train)"
   ]
  },
  {
   "cell_type": "code",
   "execution_count": 43,
   "id": "43fee534",
   "metadata": {},
   "outputs": [],
   "source": [
    "y_pred = clf.predict(X_train)"
   ]
  },
  {
   "cell_type": "code",
   "execution_count": 44,
   "id": "8e0be9d1",
   "metadata": {},
   "outputs": [
    {
     "name": "stdout",
     "output_type": "stream",
     "text": [
      "{'Accuracy_Test': 0.9920634920634921,\n",
      " 'Accuracy_Train': 0.9828767123287672,\n",
      " 'F1_Score_Test': 0.9523809523809523,\n",
      " 'F1_Score_Train': 0.8837209302325582,\n",
      " 'Precision_Test': 1.0,\n",
      " 'Precision_Train': 1.0,\n",
      " 'Recall_Test': 0.9090909090909091,\n",
      " 'Recall_Train': 0.7916666666666666}\n"
     ]
    }
   ],
   "source": [
    "score = GetMetricsScore(clf)\n",
    "pprint.pprint(score)"
   ]
  },
  {
   "cell_type": "code",
   "execution_count": 29,
   "id": "1cc13b83",
   "metadata": {},
   "outputs": [
    {
     "name": "stdout",
     "output_type": "stream",
     "text": [
      "{'Accuracy_Test': 0.9761904761904762,\n",
      " 'Accuracy_Train': 1.0,\n",
      " 'F1_Score_Test': 0.88,\n",
      " 'F1_Score_Train': 1.0,\n",
      " 'Precision_Test': 0.7857142857142857,\n",
      " 'Precision_Train': 1.0,\n",
      " 'Recall_Test': 1.0,\n",
      " 'Recall_Train': 1.0}\n"
     ]
    }
   ],
   "source": [
    "estimators = [('GBM',GradientBoostingClassifier(random_state=1)),\n",
    " ('ABC',AdaBoostClassifier(random_state=1)),\n",
    " ]\n",
    "\n",
    "# Training stacking classifier\n",
    "clf = StackingClassifier(estimators = estimators, final_estimator = XGBClassifier(random_state=1, eval_metric='logloss'))\n",
    "clf.fit(X_train, y_train)\n",
    "\n",
    "score = GetMetricsScore(clf)\n",
    "pprint.pprint(score)"
   ]
  },
  {
   "cell_type": "code",
   "execution_count": null,
   "id": "e7c4e02a",
   "metadata": {},
   "outputs": [],
   "source": []
  }
 ],
 "metadata": {
  "kernelspec": {
   "display_name": "Python 3",
   "language": "python",
   "name": "python3"
  },
  "language_info": {
   "codemirror_mode": {
    "name": "ipython",
    "version": 3
   },
   "file_extension": ".py",
   "mimetype": "text/x-python",
   "name": "python",
   "nbconvert_exporter": "python",
   "pygments_lexer": "ipython3",
   "version": "3.8.8"
  }
 },
 "nbformat": 4,
 "nbformat_minor": 5
}
