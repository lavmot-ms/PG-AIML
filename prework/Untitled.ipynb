{
 "cells": [
  {
   "cell_type": "code",
   "execution_count": 1,
   "id": "2b63bded",
   "metadata": {},
   "outputs": [],
   "source": [
    "import os\n",
    "import warnings\n",
    "import pprint\n",
    "import pandas as pd\n",
    "import numpy as np\n",
    "import seaborn as sns\n",
    "import matplotlib.pyplot as plt\n",
    "import sklearn.metrics as metrics\n",
    "\n",
    "from matplotlib import gridspec\n",
    "from sklearn.ensemble import BaggingClassifier, RandomForestClassifier\n",
    "from sklearn.linear_model import LogisticRegression\n",
    "from sklearn.model_selection import train_test_split\n",
    "from sklearn.tree import DecisionTreeClassifier\n",
    "from sklearn.model_selection import GridSearchCV\n",
    "from sklearn.ensemble import AdaBoostClassifier, GradientBoostingClassifier, StackingClassifier\n",
    "#from xgboost import XGBClassifier\n",
    "\n",
    "\n",
    "from sklearn import tree\n",
    "\n",
    "from os import system\n",
    "from IPython.display import Image\n",
    "\n",
    "\n",
    "warnings.filterwarnings('ignore')                                       # Ignore/Do not display warnings\n",
    "\n",
    "main_data = pd.read_csv('backpain.csv')"
   ]
  },
  {
   "cell_type": "code",
   "execution_count": 2,
   "id": "e0832631",
   "metadata": {},
   "outputs": [
    {
     "data": {
      "text/html": [
       "<div>\n",
       "<style scoped>\n",
       "    .dataframe tbody tr th:only-of-type {\n",
       "        vertical-align: middle;\n",
       "    }\n",
       "\n",
       "    .dataframe tbody tr th {\n",
       "        vertical-align: top;\n",
       "    }\n",
       "\n",
       "    .dataframe thead th {\n",
       "        text-align: right;\n",
       "    }\n",
       "</style>\n",
       "<table border=\"1\" class=\"dataframe\">\n",
       "  <thead>\n",
       "    <tr style=\"text-align: right;\">\n",
       "      <th></th>\n",
       "      <th>pelvic_incidence</th>\n",
       "      <th>pelvic tilt</th>\n",
       "      <th>lumbar_lordosis_angle</th>\n",
       "      <th>sacral_slope</th>\n",
       "      <th>pelvic_radius</th>\n",
       "      <th>degree_spondylolisthesis</th>\n",
       "      <th>pelvic_slope</th>\n",
       "      <th>Direct_tilt</th>\n",
       "      <th>thoracic_slope</th>\n",
       "      <th>cervical_tilt</th>\n",
       "      <th>sacrum_angle</th>\n",
       "      <th>scoliosis_slope</th>\n",
       "      <th>Status</th>\n",
       "    </tr>\n",
       "  </thead>\n",
       "  <tbody>\n",
       "    <tr>\n",
       "      <th>0</th>\n",
       "      <td>63.027817</td>\n",
       "      <td>22.552586</td>\n",
       "      <td>39.609117</td>\n",
       "      <td>40.475232</td>\n",
       "      <td>98.672917</td>\n",
       "      <td>-0.254400</td>\n",
       "      <td>0.744503</td>\n",
       "      <td>12.5661</td>\n",
       "      <td>14.5386</td>\n",
       "      <td>15.30468</td>\n",
       "      <td>-28.658501</td>\n",
       "      <td>43.5123</td>\n",
       "      <td>Abnormal</td>\n",
       "    </tr>\n",
       "    <tr>\n",
       "      <th>1</th>\n",
       "      <td>39.056951</td>\n",
       "      <td>10.060991</td>\n",
       "      <td>25.015378</td>\n",
       "      <td>28.995960</td>\n",
       "      <td>114.405425</td>\n",
       "      <td>4.564259</td>\n",
       "      <td>0.415186</td>\n",
       "      <td>12.8874</td>\n",
       "      <td>17.5323</td>\n",
       "      <td>16.78486</td>\n",
       "      <td>-25.530607</td>\n",
       "      <td>16.1102</td>\n",
       "      <td>Abnormal</td>\n",
       "    </tr>\n",
       "    <tr>\n",
       "      <th>2</th>\n",
       "      <td>68.832021</td>\n",
       "      <td>22.218482</td>\n",
       "      <td>50.092194</td>\n",
       "      <td>46.613539</td>\n",
       "      <td>105.985135</td>\n",
       "      <td>-3.530317</td>\n",
       "      <td>0.474889</td>\n",
       "      <td>26.8343</td>\n",
       "      <td>17.4861</td>\n",
       "      <td>16.65897</td>\n",
       "      <td>-29.031888</td>\n",
       "      <td>19.2221</td>\n",
       "      <td>Abnormal</td>\n",
       "    </tr>\n",
       "    <tr>\n",
       "      <th>3</th>\n",
       "      <td>69.297008</td>\n",
       "      <td>24.652878</td>\n",
       "      <td>44.311238</td>\n",
       "      <td>44.644130</td>\n",
       "      <td>101.868495</td>\n",
       "      <td>11.211523</td>\n",
       "      <td>0.369345</td>\n",
       "      <td>23.5603</td>\n",
       "      <td>12.7074</td>\n",
       "      <td>11.42447</td>\n",
       "      <td>-30.470246</td>\n",
       "      <td>18.8329</td>\n",
       "      <td>Abnormal</td>\n",
       "    </tr>\n",
       "    <tr>\n",
       "      <th>4</th>\n",
       "      <td>49.712859</td>\n",
       "      <td>9.652075</td>\n",
       "      <td>28.317406</td>\n",
       "      <td>40.060784</td>\n",
       "      <td>108.168725</td>\n",
       "      <td>7.918501</td>\n",
       "      <td>0.543360</td>\n",
       "      <td>35.4940</td>\n",
       "      <td>15.9546</td>\n",
       "      <td>8.87237</td>\n",
       "      <td>-16.378376</td>\n",
       "      <td>24.9171</td>\n",
       "      <td>Abnormal</td>\n",
       "    </tr>\n",
       "    <tr>\n",
       "      <th>5</th>\n",
       "      <td>40.250200</td>\n",
       "      <td>13.921907</td>\n",
       "      <td>25.124950</td>\n",
       "      <td>26.328293</td>\n",
       "      <td>130.327871</td>\n",
       "      <td>2.230652</td>\n",
       "      <td>0.789993</td>\n",
       "      <td>29.3230</td>\n",
       "      <td>12.0036</td>\n",
       "      <td>10.40462</td>\n",
       "      <td>-1.512209</td>\n",
       "      <td>9.6548</td>\n",
       "      <td>Abnormal</td>\n",
       "    </tr>\n",
       "    <tr>\n",
       "      <th>6</th>\n",
       "      <td>53.432928</td>\n",
       "      <td>15.864336</td>\n",
       "      <td>37.165934</td>\n",
       "      <td>37.568592</td>\n",
       "      <td>120.567523</td>\n",
       "      <td>5.988551</td>\n",
       "      <td>0.198920</td>\n",
       "      <td>13.8514</td>\n",
       "      <td>10.7146</td>\n",
       "      <td>11.37832</td>\n",
       "      <td>-20.510434</td>\n",
       "      <td>25.9477</td>\n",
       "      <td>Abnormal</td>\n",
       "    </tr>\n",
       "    <tr>\n",
       "      <th>7</th>\n",
       "      <td>45.366754</td>\n",
       "      <td>10.755611</td>\n",
       "      <td>29.038349</td>\n",
       "      <td>34.611142</td>\n",
       "      <td>117.270067</td>\n",
       "      <td>-10.675871</td>\n",
       "      <td>0.131973</td>\n",
       "      <td>28.8165</td>\n",
       "      <td>7.7676</td>\n",
       "      <td>7.60961</td>\n",
       "      <td>-25.111459</td>\n",
       "      <td>26.3543</td>\n",
       "      <td>Abnormal</td>\n",
       "    </tr>\n",
       "    <tr>\n",
       "      <th>8</th>\n",
       "      <td>43.790190</td>\n",
       "      <td>13.533753</td>\n",
       "      <td>42.690814</td>\n",
       "      <td>30.256437</td>\n",
       "      <td>125.002893</td>\n",
       "      <td>13.289018</td>\n",
       "      <td>0.190408</td>\n",
       "      <td>22.7085</td>\n",
       "      <td>11.4234</td>\n",
       "      <td>10.59188</td>\n",
       "      <td>-20.020075</td>\n",
       "      <td>40.0276</td>\n",
       "      <td>Abnormal</td>\n",
       "    </tr>\n",
       "    <tr>\n",
       "      <th>9</th>\n",
       "      <td>36.686353</td>\n",
       "      <td>5.010884</td>\n",
       "      <td>41.948751</td>\n",
       "      <td>31.675469</td>\n",
       "      <td>84.241415</td>\n",
       "      <td>0.664437</td>\n",
       "      <td>0.367700</td>\n",
       "      <td>26.2011</td>\n",
       "      <td>8.7380</td>\n",
       "      <td>14.91416</td>\n",
       "      <td>-1.702097</td>\n",
       "      <td>21.4320</td>\n",
       "      <td>Abnormal</td>\n",
       "    </tr>\n",
       "  </tbody>\n",
       "</table>\n",
       "</div>"
      ],
      "text/plain": [
       "   pelvic_incidence  pelvic tilt  lumbar_lordosis_angle  sacral_slope  \\\n",
       "0         63.027817    22.552586              39.609117     40.475232   \n",
       "1         39.056951    10.060991              25.015378     28.995960   \n",
       "2         68.832021    22.218482              50.092194     46.613539   \n",
       "3         69.297008    24.652878              44.311238     44.644130   \n",
       "4         49.712859     9.652075              28.317406     40.060784   \n",
       "5         40.250200    13.921907              25.124950     26.328293   \n",
       "6         53.432928    15.864336              37.165934     37.568592   \n",
       "7         45.366754    10.755611              29.038349     34.611142   \n",
       "8         43.790190    13.533753              42.690814     30.256437   \n",
       "9         36.686353     5.010884              41.948751     31.675469   \n",
       "\n",
       "   pelvic_radius  degree_spondylolisthesis  pelvic_slope  Direct_tilt  \\\n",
       "0      98.672917                 -0.254400      0.744503      12.5661   \n",
       "1     114.405425                  4.564259      0.415186      12.8874   \n",
       "2     105.985135                 -3.530317      0.474889      26.8343   \n",
       "3     101.868495                 11.211523      0.369345      23.5603   \n",
       "4     108.168725                  7.918501      0.543360      35.4940   \n",
       "5     130.327871                  2.230652      0.789993      29.3230   \n",
       "6     120.567523                  5.988551      0.198920      13.8514   \n",
       "7     117.270067                -10.675871      0.131973      28.8165   \n",
       "8     125.002893                 13.289018      0.190408      22.7085   \n",
       "9      84.241415                  0.664437      0.367700      26.2011   \n",
       "\n",
       "   thoracic_slope  cervical_tilt  sacrum_angle  scoliosis_slope    Status  \n",
       "0         14.5386       15.30468    -28.658501          43.5123  Abnormal  \n",
       "1         17.5323       16.78486    -25.530607          16.1102  Abnormal  \n",
       "2         17.4861       16.65897    -29.031888          19.2221  Abnormal  \n",
       "3         12.7074       11.42447    -30.470246          18.8329  Abnormal  \n",
       "4         15.9546        8.87237    -16.378376          24.9171  Abnormal  \n",
       "5         12.0036       10.40462     -1.512209           9.6548  Abnormal  \n",
       "6         10.7146       11.37832    -20.510434          25.9477  Abnormal  \n",
       "7          7.7676        7.60961    -25.111459          26.3543  Abnormal  \n",
       "8         11.4234       10.59188    -20.020075          40.0276  Abnormal  \n",
       "9          8.7380       14.91416     -1.702097          21.4320  Abnormal  "
      ]
     },
     "execution_count": 2,
     "metadata": {},
     "output_type": "execute_result"
    }
   ],
   "source": [
    "main_data.head(10)"
   ]
  },
  {
   "cell_type": "code",
   "execution_count": 3,
   "id": "6492e200",
   "metadata": {},
   "outputs": [
    {
     "name": "stdout",
     "output_type": "stream",
     "text": [
      "<class 'pandas.core.frame.DataFrame'>\n",
      "RangeIndex: 310 entries, 0 to 309\n",
      "Data columns (total 13 columns):\n",
      " #   Column                    Non-Null Count  Dtype  \n",
      "---  ------                    --------------  -----  \n",
      " 0   pelvic_incidence          310 non-null    float64\n",
      " 1   pelvic tilt               310 non-null    float64\n",
      " 2   lumbar_lordosis_angle     310 non-null    float64\n",
      " 3   sacral_slope              310 non-null    float64\n",
      " 4   pelvic_radius             310 non-null    float64\n",
      " 5   degree_spondylolisthesis  310 non-null    float64\n",
      " 6   pelvic_slope              310 non-null    float64\n",
      " 7   Direct_tilt               310 non-null    float64\n",
      " 8   thoracic_slope            310 non-null    float64\n",
      " 9   cervical_tilt             310 non-null    float64\n",
      " 10  sacrum_angle              310 non-null    float64\n",
      " 11  scoliosis_slope           310 non-null    float64\n",
      " 12  Status                    310 non-null    object \n",
      "dtypes: float64(12), object(1)\n",
      "memory usage: 31.6+ KB\n"
     ]
    }
   ],
   "source": [
    "main_data.info()"
   ]
  },
  {
   "cell_type": "code",
   "execution_count": 4,
   "id": "2e86958f",
   "metadata": {},
   "outputs": [
    {
     "data": {
      "image/png": "[encoded data removed]",
      "text/plain": [
       "<Figure size 720x504 with 2 Axes>"
      ]
     },
     "metadata": {
      "needs_background": "light"
     },
     "output_type": "display_data"
    }
   ],
   "source": [
    "# variables that have more than 0.7 correlation\n",
    "df = main_data.copy()\n",
    "plt.figure(figsize=(10,7))\n",
    "sns.heatmap(df.corr()[df.corr()>0.7],annot = True,vmax = 1, vmin = -1, cmap='Spectral');"
   ]
  },
  {
   "cell_type": "code",
   "execution_count": 5,
   "id": "55ec58ef",
   "metadata": {},
   "outputs": [],
   "source": [
    "'''\n",
    "Input:\n",
    "Pandas DataFrame\n",
    "\n",
    "Output:\n",
    "Displays DataFrame structure \n",
    "(columns, nulls and non nulls counts and percentage highlighing columns with most number of nulls)\n",
    "\n",
    "Retunrs:\n",
    "N/A\n",
    "'''\n",
    "def info(dataFrame):\n",
    "    print(f\"{dataFrame.shape[0]} Rows x {dataFrame.shape[1]} Columns\")\n",
    "    nulls_series      = dataFrame.isna().sum()         # Get a series counting number of empty values for each column\n",
    "    nonnulls_series   = dataFrame.notnull().sum()      # Get a series counting number of non empty valuesfor each column \n",
    "    nulls_percentage  = ((nulls_series * 100)/(nulls_series + nonnulls_series)).astype(float)\n",
    "    column_datatypes  = dataFrame.dtypes               # Get a series containing data types for each column \n",
    "    \n",
    "    series_arr    = [nulls_series, nonnulls_series, nulls_percentage, column_datatypes]\n",
    "    col_names_arr = [\"Nulls\", \"Non-Nulls\",\"Nulls %\", \"Type\"]\n",
    "    \n",
    "    nulls_count_df = pd.concat(\n",
    "        objs = series_arr,\n",
    "        axis = 1,\n",
    "        keys = col_names_arr, \n",
    "        sort = True)\n",
    "    \n",
    "    cm = sns.light_palette(\"red\", as_cmap=True)\n",
    "    display(nulls_count_df.style.background_gradient(cmap=cm, subset=pd.IndexSlice[:, ['Nulls %']]).format(formatter={('Nulls %'): \"{:.2f}%\"})) \n",
    "    \n",
    "\n",
    "'''\n",
    "Input:\n",
    "Target type and a list of feature names.\n",
    "\n",
    "Output:\n",
    "Convert all features provided in 'column_names' to Target type provided in 'toType'\n",
    "\n",
    "Returns:\n",
    "modifies main original data frame and returns nothing.\n",
    "'''\n",
    "def ConvertColTo(toType, column_names=np.nan, df = np.nan):\n",
    "    for col_name in column_names:\n",
    "        df[col_name] = df[col_name].astype(toType)\n",
    "\n",
    "\n",
    "'''\n",
    "Input:\n",
    "N/A\n",
    "\n",
    "Output:\n",
    "Go through each categorial column and print unique values for that column.\n",
    "\n",
    "Retunrs:\n",
    "N/A\n",
    "'''\n",
    "def CountUniqueValues(col_names):\n",
    "    for col_name in col_names:\n",
    "        print(f\"======================='{col_name}'==================\")\n",
    "        for unique_col_value in  main_data[col_name].unique().tolist():\n",
    "            total_count = main_data[col_name].count()\n",
    "            unique_values_count = main_data[main_data[col_name] == unique_col_value][col_name].count()\n",
    "            percentage = str(round((unique_values_count/total_count) * 100, 2))\n",
    "            print(f\"{unique_col_value} \\t: {unique_values_count} ({percentage}%)\")\n",
    "        print(f\"=========================================================\\n\")"
   ]
  },
  {
   "cell_type": "code",
   "execution_count": 6,
   "id": "bd597e68",
   "metadata": {},
   "outputs": [],
   "source": [
    "catgry_col_names = df.select_dtypes(include=['object']).columns.tolist()\n",
    "ConvertColTo('category', catgry_col_names, df)"
   ]
  },
  {
   "cell_type": "code",
   "execution_count": 7,
   "id": "79bc7f30",
   "metadata": {},
   "outputs": [
    {
     "name": "stdout",
     "output_type": "stream",
     "text": [
      "======================='Status'==================\n",
      "Abnormal \t: 210 (67.74%)\n",
      "Normal \t: 100 (32.26%)\n",
      "=========================================================\n",
      "\n"
     ]
    }
   ],
   "source": [
    "CountUniqueValues(catgry_col_names)"
   ]
  },
  {
   "cell_type": "code",
   "execution_count": 8,
   "id": "65c6ebc8",
   "metadata": {},
   "outputs": [
    {
     "data": {
      "text/html": [
       "<div>\n",
       "<style scoped>\n",
       "    .dataframe tbody tr th:only-of-type {\n",
       "        vertical-align: middle;\n",
       "    }\n",
       "\n",
       "    .dataframe tbody tr th {\n",
       "        vertical-align: top;\n",
       "    }\n",
       "\n",
       "    .dataframe thead th {\n",
       "        text-align: right;\n",
       "    }\n",
       "</style>\n",
       "<table border=\"1\" class=\"dataframe\">\n",
       "  <thead>\n",
       "    <tr style=\"text-align: right;\">\n",
       "      <th></th>\n",
       "      <th>pelvic_incidence</th>\n",
       "      <th>pelvic tilt</th>\n",
       "      <th>lumbar_lordosis_angle</th>\n",
       "      <th>sacral_slope</th>\n",
       "      <th>pelvic_radius</th>\n",
       "      <th>degree_spondylolisthesis</th>\n",
       "      <th>pelvic_slope</th>\n",
       "      <th>Direct_tilt</th>\n",
       "      <th>thoracic_slope</th>\n",
       "      <th>cervical_tilt</th>\n",
       "      <th>sacrum_angle</th>\n",
       "      <th>scoliosis_slope</th>\n",
       "      <th>Status</th>\n",
       "    </tr>\n",
       "  </thead>\n",
       "  <tbody>\n",
       "    <tr>\n",
       "      <th>0</th>\n",
       "      <td>63.027817</td>\n",
       "      <td>22.552586</td>\n",
       "      <td>39.609117</td>\n",
       "      <td>40.475232</td>\n",
       "      <td>98.672917</td>\n",
       "      <td>-0.254400</td>\n",
       "      <td>0.744503</td>\n",
       "      <td>12.5661</td>\n",
       "      <td>14.5386</td>\n",
       "      <td>15.30468</td>\n",
       "      <td>-28.658501</td>\n",
       "      <td>43.5123</td>\n",
       "      <td>1</td>\n",
       "    </tr>\n",
       "    <tr>\n",
       "      <th>1</th>\n",
       "      <td>39.056951</td>\n",
       "      <td>10.060991</td>\n",
       "      <td>25.015378</td>\n",
       "      <td>28.995960</td>\n",
       "      <td>114.405425</td>\n",
       "      <td>4.564259</td>\n",
       "      <td>0.415186</td>\n",
       "      <td>12.8874</td>\n",
       "      <td>17.5323</td>\n",
       "      <td>16.78486</td>\n",
       "      <td>-25.530607</td>\n",
       "      <td>16.1102</td>\n",
       "      <td>1</td>\n",
       "    </tr>\n",
       "    <tr>\n",
       "      <th>2</th>\n",
       "      <td>68.832021</td>\n",
       "      <td>22.218482</td>\n",
       "      <td>50.092194</td>\n",
       "      <td>46.613539</td>\n",
       "      <td>105.985135</td>\n",
       "      <td>-3.530317</td>\n",
       "      <td>0.474889</td>\n",
       "      <td>26.8343</td>\n",
       "      <td>17.4861</td>\n",
       "      <td>16.65897</td>\n",
       "      <td>-29.031888</td>\n",
       "      <td>19.2221</td>\n",
       "      <td>1</td>\n",
       "    </tr>\n",
       "    <tr>\n",
       "      <th>3</th>\n",
       "      <td>69.297008</td>\n",
       "      <td>24.652878</td>\n",
       "      <td>44.311238</td>\n",
       "      <td>44.644130</td>\n",
       "      <td>101.868495</td>\n",
       "      <td>11.211523</td>\n",
       "      <td>0.369345</td>\n",
       "      <td>23.5603</td>\n",
       "      <td>12.7074</td>\n",
       "      <td>11.42447</td>\n",
       "      <td>-30.470246</td>\n",
       "      <td>18.8329</td>\n",
       "      <td>1</td>\n",
       "    </tr>\n",
       "    <tr>\n",
       "      <th>4</th>\n",
       "      <td>49.712859</td>\n",
       "      <td>9.652075</td>\n",
       "      <td>28.317406</td>\n",
       "      <td>40.060784</td>\n",
       "      <td>108.168725</td>\n",
       "      <td>7.918501</td>\n",
       "      <td>0.543360</td>\n",
       "      <td>35.4940</td>\n",
       "      <td>15.9546</td>\n",
       "      <td>8.87237</td>\n",
       "      <td>-16.378376</td>\n",
       "      <td>24.9171</td>\n",
       "      <td>1</td>\n",
       "    </tr>\n",
       "    <tr>\n",
       "      <th>5</th>\n",
       "      <td>40.250200</td>\n",
       "      <td>13.921907</td>\n",
       "      <td>25.124950</td>\n",
       "      <td>26.328293</td>\n",
       "      <td>130.327871</td>\n",
       "      <td>2.230652</td>\n",
       "      <td>0.789993</td>\n",
       "      <td>29.3230</td>\n",
       "      <td>12.0036</td>\n",
       "      <td>10.40462</td>\n",
       "      <td>-1.512209</td>\n",
       "      <td>9.6548</td>\n",
       "      <td>1</td>\n",
       "    </tr>\n",
       "    <tr>\n",
       "      <th>6</th>\n",
       "      <td>53.432928</td>\n",
       "      <td>15.864336</td>\n",
       "      <td>37.165934</td>\n",
       "      <td>37.568592</td>\n",
       "      <td>120.567523</td>\n",
       "      <td>5.988551</td>\n",
       "      <td>0.198920</td>\n",
       "      <td>13.8514</td>\n",
       "      <td>10.7146</td>\n",
       "      <td>11.37832</td>\n",
       "      <td>-20.510434</td>\n",
       "      <td>25.9477</td>\n",
       "      <td>1</td>\n",
       "    </tr>\n",
       "    <tr>\n",
       "      <th>7</th>\n",
       "      <td>45.366754</td>\n",
       "      <td>10.755611</td>\n",
       "      <td>29.038349</td>\n",
       "      <td>34.611142</td>\n",
       "      <td>117.270067</td>\n",
       "      <td>-10.675871</td>\n",
       "      <td>0.131973</td>\n",
       "      <td>28.8165</td>\n",
       "      <td>7.7676</td>\n",
       "      <td>7.60961</td>\n",
       "      <td>-25.111459</td>\n",
       "      <td>26.3543</td>\n",
       "      <td>1</td>\n",
       "    </tr>\n",
       "    <tr>\n",
       "      <th>8</th>\n",
       "      <td>43.790190</td>\n",
       "      <td>13.533753</td>\n",
       "      <td>42.690814</td>\n",
       "      <td>30.256437</td>\n",
       "      <td>125.002893</td>\n",
       "      <td>13.289018</td>\n",
       "      <td>0.190408</td>\n",
       "      <td>22.7085</td>\n",
       "      <td>11.4234</td>\n",
       "      <td>10.59188</td>\n",
       "      <td>-20.020075</td>\n",
       "      <td>40.0276</td>\n",
       "      <td>1</td>\n",
       "    </tr>\n",
       "    <tr>\n",
       "      <th>9</th>\n",
       "      <td>36.686353</td>\n",
       "      <td>5.010884</td>\n",
       "      <td>41.948751</td>\n",
       "      <td>31.675469</td>\n",
       "      <td>84.241415</td>\n",
       "      <td>0.664437</td>\n",
       "      <td>0.367700</td>\n",
       "      <td>26.2011</td>\n",
       "      <td>8.7380</td>\n",
       "      <td>14.91416</td>\n",
       "      <td>-1.702097</td>\n",
       "      <td>21.4320</td>\n",
       "      <td>1</td>\n",
       "    </tr>\n",
       "  </tbody>\n",
       "</table>\n",
       "</div>"
      ],
      "text/plain": [
       "   pelvic_incidence  pelvic tilt  lumbar_lordosis_angle  sacral_slope  \\\n",
       "0         63.027817    22.552586              39.609117     40.475232   \n",
       "1         39.056951    10.060991              25.015378     28.995960   \n",
       "2         68.832021    22.218482              50.092194     46.613539   \n",
       "3         69.297008    24.652878              44.311238     44.644130   \n",
       "4         49.712859     9.652075              28.317406     40.060784   \n",
       "5         40.250200    13.921907              25.124950     26.328293   \n",
       "6         53.432928    15.864336              37.165934     37.568592   \n",
       "7         45.366754    10.755611              29.038349     34.611142   \n",
       "8         43.790190    13.533753              42.690814     30.256437   \n",
       "9         36.686353     5.010884              41.948751     31.675469   \n",
       "\n",
       "   pelvic_radius  degree_spondylolisthesis  pelvic_slope  Direct_tilt  \\\n",
       "0      98.672917                 -0.254400      0.744503      12.5661   \n",
       "1     114.405425                  4.564259      0.415186      12.8874   \n",
       "2     105.985135                 -3.530317      0.474889      26.8343   \n",
       "3     101.868495                 11.211523      0.369345      23.5603   \n",
       "4     108.168725                  7.918501      0.543360      35.4940   \n",
       "5     130.327871                  2.230652      0.789993      29.3230   \n",
       "6     120.567523                  5.988551      0.198920      13.8514   \n",
       "7     117.270067                -10.675871      0.131973      28.8165   \n",
       "8     125.002893                 13.289018      0.190408      22.7085   \n",
       "9      84.241415                  0.664437      0.367700      26.2011   \n",
       "\n",
       "   thoracic_slope  cervical_tilt  sacrum_angle  scoliosis_slope  Status  \n",
       "0         14.5386       15.30468    -28.658501          43.5123       1  \n",
       "1         17.5323       16.78486    -25.530607          16.1102       1  \n",
       "2         17.4861       16.65897    -29.031888          19.2221       1  \n",
       "3         12.7074       11.42447    -30.470246          18.8329       1  \n",
       "4         15.9546        8.87237    -16.378376          24.9171       1  \n",
       "5         12.0036       10.40462     -1.512209           9.6548       1  \n",
       "6         10.7146       11.37832    -20.510434          25.9477       1  \n",
       "7          7.7676        7.60961    -25.111459          26.3543       1  \n",
       "8         11.4234       10.59188    -20.020075          40.0276       1  \n",
       "9          8.7380       14.91416     -1.702097          21.4320       1  "
      ]
     },
     "execution_count": 8,
     "metadata": {},
     "output_type": "execute_result"
    }
   ],
   "source": [
    "replace_struct = {\n",
    "    \"Status\"      : {\"Normal\": 0, \"Abnormal\": 1},\n",
    "}\n",
    "\n",
    "df = df.replace(replace_struct)\n",
    "df.head(10)"
   ]
  },
  {
   "cell_type": "code",
   "execution_count": 9,
   "id": "9a427577",
   "metadata": {},
   "outputs": [
    {
     "name": "stdout",
     "output_type": "stream",
     "text": [
      "<class 'pandas.core.frame.DataFrame'>\n",
      "RangeIndex: 310 entries, 0 to 309\n",
      "Data columns (total 13 columns):\n",
      " #   Column                    Non-Null Count  Dtype  \n",
      "---  ------                    --------------  -----  \n",
      " 0   pelvic_incidence          310 non-null    float64\n",
      " 1   pelvic tilt               310 non-null    float64\n",
      " 2   lumbar_lordosis_angle     310 non-null    float64\n",
      " 3   sacral_slope              310 non-null    float64\n",
      " 4   pelvic_radius             310 non-null    float64\n",
      " 5   degree_spondylolisthesis  310 non-null    float64\n",
      " 6   pelvic_slope              310 non-null    float64\n",
      " 7   Direct_tilt               310 non-null    float64\n",
      " 8   thoracic_slope            310 non-null    float64\n",
      " 9   cervical_tilt             310 non-null    float64\n",
      " 10  sacrum_angle              310 non-null    float64\n",
      " 11  scoliosis_slope           310 non-null    float64\n",
      " 12  Status                    310 non-null    int64  \n",
      "dtypes: float64(12), int64(1)\n",
      "memory usage: 31.6 KB\n"
     ]
    }
   ],
   "source": [
    "df.info()"
   ]
  },
  {
   "cell_type": "code",
   "execution_count": 18,
   "id": "5fea1333",
   "metadata": {},
   "outputs": [],
   "source": [
    "# Functions to calculate different metrics\n",
    "\n",
    "def DisplayConfusionMatrix(model, y_actual, labels=[1,0]):\n",
    "    y_predict = model.predict(x_test)\n",
    "    confusion_matrix = metrics.confusion_matrix(y_actual, y_predict, labels=[0, 1])\n",
    "    confusion_matix_df = pd.DataFrame(\n",
    "        confusion_matrix,\n",
    "        index   = [i for i in [\"Actual No\", \"Actual Yes\"]],\n",
    "        columns = [i for i in [\"Predicted - No\", \"Predicted - Yes\"]])\n",
    "    \n",
    "    group_counts = [\"{0:0.0f}\".format(value) for value in confusion_matrix.flatten()]\n",
    "    group_percetages = [\"{0:.2%}\".format(value) for value in confusion_matrix.flatten()/np.sum(confusion_matrix)]\n",
    "    \n",
    "    labels = [f\"{v1}\\n{v2}\" for v1, v2 in zip(group_counts, group_percetages)]\n",
    "    labels = np.array(labels).reshape(2, 2)\n",
    "    plt.figure(figsize= (10,7))\n",
    "    sns.heatmap(confusion_matix_df, annot=labels,fmt='')\n",
    "    plt.ylabel(\"True Label\")\n",
    "    plt.xlabel(\"Predicted Label\")\n",
    "    \n",
    "def GetMetricsScore(model):\n",
    "    \n",
    "    pred_train = model.predict(x_train)\n",
    "    pred_test  = model.predict(x_test)\n",
    "    \n",
    "    train_accuracy = model.score(x_train, y_train)\n",
    "    test_accuracy  = model.score(x_test, y_test)\n",
    "    \n",
    "    train_recall = metrics.recall_score(y_train, pred_train)\n",
    "    test_recall  = metrics.recall_score(y_test, pred_test)\n",
    "    \n",
    "    train_precision = metrics.precision_score(y_train, pred_train)\n",
    "    test_precision  = metrics.precision_score(y_test, pred_test)\n",
    "\n",
    "    f1_score_train = 2 * ((train_precision * train_recall)/(train_precision + train_recall))\n",
    "    f1_score_test = 2 * ((test_precision * test_recall)/(test_precision + test_recall))\n",
    "    \n",
    "    return {\n",
    "        'Accuracy_Test'   : test_accuracy,\n",
    "        'Accuracy_Train'  : train_accuracy,\n",
    "        'Recall_Test'     : test_recall,\n",
    "        'Recall_Train'    : train_recall,\n",
    "        'Precision_Test'  : test_precision,\n",
    "        'Precision_Train' : train_precision,\n",
    "        'F1_Score_Train'  : f1_score_train,\n",
    "        'F1_Score_Test'   : f1_score_test\n",
    "    }\n",
    "\n",
    "def DisplayImportance(model):\n",
    "    gini_importances = pd.DataFrame(model.feature_importances_, columns=[\"Imp\"], index=x_train.columns).sort_values(by = \"Imp\")\n",
    "    print(gini_importances)\n",
    "    \n",
    "def DisplayImportanceChart(model):\n",
    "    importances = model.feature_importances_\n",
    "    indices = np.argsort(importances)\n",
    "\n",
    "    plt.figure(figsize=(12, 12))\n",
    "    plt.title('Feature Importance')\n",
    "    plt.barh(range(len(indices)), importances[indices], color='violet', align='center')\n",
    "    plt.yticks(range(len(indices)), [list(X.columns)[i] for i in indices])\n",
    "    plt.xlabel('Relative Importance')\n",
    "    plt.show()\n",
    "    \n",
    "def PlotTree(model, size = [20, 30]):\n",
    "    plt.figure(figsize=(size[0],size[1]))\n",
    "    tree.plot_tree(model, feature_names=feature_names, filled=True, fontsize=9, node_ids=True, class_names=True)\n",
    "    plt.show()\n",
    "    \n",
    "def PrintCoeficients(model):\n",
    "    coefs = pd.DataFrame(\n",
    "        np.append(model.coef_, model.intercept_),\n",
    "        index=x_train.columns.tolist() + [\"Intercept\"],\n",
    "        columns=[\"Coefficients\"],\n",
    "    )\n",
    "\n",
    "    coefs.sort_values('Coefficients')"
   ]
  },
  {
   "cell_type": "code",
   "execution_count": 8,
   "id": "60f6b51b",
   "metadata": {},
   "outputs": [],
   "source": []
  },
  {
   "cell_type": "code",
   "execution_count": 13,
   "id": "e87ffb21",
   "metadata": {},
   "outputs": [],
   "source": [
    "X = df.drop(\"Status\", axis=1)\n",
    "Y = df.pop(\"Status\")\n",
    "x_train, x_test, y_train, y_test = train_test_split(X, Y, test_size=0.3, random_state=1)"
   ]
  },
  {
   "cell_type": "code",
   "execution_count": 14,
   "id": "f8b3cd26",
   "metadata": {},
   "outputs": [
    {
     "name": "stdout",
     "output_type": "stream",
     "text": [
      "(217, 12) (93, 12)\n"
     ]
    }
   ],
   "source": [
    "print(x_train.shape, x_test.shape)"
   ]
  },
  {
   "cell_type": "code",
   "execution_count": 15,
   "id": "3eb66b95",
   "metadata": {},
   "outputs": [
    {
     "name": "stdout",
     "output_type": "stream",
     "text": [
      "1    0.709677\n",
      "0    0.290323\n",
      "Name: Status, dtype: float64\n"
     ]
    }
   ],
   "source": [
    "print(y_test.value_counts(normalize=True))"
   ]
  },
  {
   "cell_type": "code",
   "execution_count": 16,
   "id": "b1ab2eaf",
   "metadata": {},
   "outputs": [
    {
     "data": {
      "text/plain": [
       "LogisticRegression()"
      ]
     },
     "execution_count": 16,
     "metadata": {},
     "output_type": "execute_result"
    }
   ],
   "source": [
    "logistic_reg_model = LogisticRegression()\n",
    "logistic_reg_model.fit(x_train,y_train)"
   ]
  },
  {
   "cell_type": "code",
   "execution_count": 19,
   "id": "1fd95f89",
   "metadata": {},
   "outputs": [
    {
     "name": "stdout",
     "output_type": "stream",
     "text": [
      "{'Accuracy_Test': 0.8924731182795699,\n",
      " 'Accuracy_Train': 0.8433179723502304,\n",
      " 'F1_Score_Test': 0.923076923076923,\n",
      " 'F1_Score_Train': 0.881118881118881,\n",
      " 'Precision_Test': 0.9375,\n",
      " 'Precision_Train': 0.8873239436619719,\n",
      " 'Recall_Test': 0.9090909090909091,\n",
      " 'Recall_Train': 0.875}\n"
     ]
    }
   ],
   "source": [
    "rf_score = GetMetricsScore(logistic_reg_model)\n",
    "pprint.pprint(rf_score)"
   ]
  },
  {
   "cell_type": "code",
   "execution_count": 21,
   "id": "69c9bd92",
   "metadata": {},
   "outputs": [
    {
     "data": {
      "text/html": [
       "<div>\n",
       "<style scoped>\n",
       "    .dataframe tbody tr th:only-of-type {\n",
       "        vertical-align: middle;\n",
       "    }\n",
       "\n",
       "    .dataframe tbody tr th {\n",
       "        vertical-align: top;\n",
       "    }\n",
       "\n",
       "    .dataframe thead th {\n",
       "        text-align: right;\n",
       "    }\n",
       "</style>\n",
       "<table border=\"1\" class=\"dataframe\">\n",
       "  <thead>\n",
       "    <tr style=\"text-align: right;\">\n",
       "      <th></th>\n",
       "      <th>Coefficients</th>\n",
       "    </tr>\n",
       "  </thead>\n",
       "  <tbody>\n",
       "    <tr>\n",
       "      <th>pelvic_radius</th>\n",
       "      <td>-0.089799</td>\n",
       "    </tr>\n",
       "    <tr>\n",
       "      <th>sacral_slope</th>\n",
       "      <td>-0.070545</td>\n",
       "    </tr>\n",
       "    <tr>\n",
       "      <th>lumbar_lordosis_angle</th>\n",
       "      <td>-0.020201</td>\n",
       "    </tr>\n",
       "    <tr>\n",
       "      <th>scoliosis_slope</th>\n",
       "      <td>-0.014293</td>\n",
       "    </tr>\n",
       "    <tr>\n",
       "      <th>Direct_tilt</th>\n",
       "      <td>-0.010797</td>\n",
       "    </tr>\n",
       "    <tr>\n",
       "      <th>sacrum_angle</th>\n",
       "      <td>0.006773</td>\n",
       "    </tr>\n",
       "    <tr>\n",
       "      <th>thoracic_slope</th>\n",
       "      <td>0.013921</td>\n",
       "    </tr>\n",
       "    <tr>\n",
       "      <th>pelvic_incidence</th>\n",
       "      <td>0.014534</td>\n",
       "    </tr>\n",
       "    <tr>\n",
       "      <th>pelvic tilt</th>\n",
       "      <td>0.085079</td>\n",
       "    </tr>\n",
       "    <tr>\n",
       "      <th>degree_spondylolisthesis</th>\n",
       "      <td>0.140103</td>\n",
       "    </tr>\n",
       "    <tr>\n",
       "      <th>cervical_tilt</th>\n",
       "      <td>0.141010</td>\n",
       "    </tr>\n",
       "    <tr>\n",
       "      <th>pelvic_slope</th>\n",
       "      <td>0.809894</td>\n",
       "    </tr>\n",
       "    <tr>\n",
       "      <th>Intercept</th>\n",
       "      <td>9.921752</td>\n",
       "    </tr>\n",
       "  </tbody>\n",
       "</table>\n",
       "</div>"
      ],
      "text/plain": [
       "                          Coefficients\n",
       "pelvic_radius                -0.089799\n",
       "sacral_slope                 -0.070545\n",
       "lumbar_lordosis_angle        -0.020201\n",
       "scoliosis_slope              -0.014293\n",
       "Direct_tilt                  -0.010797\n",
       "sacrum_angle                  0.006773\n",
       "thoracic_slope                0.013921\n",
       "pelvic_incidence              0.014534\n",
       "pelvic tilt                   0.085079\n",
       "degree_spondylolisthesis      0.140103\n",
       "cervical_tilt                 0.141010\n",
       "pelvic_slope                  0.809894\n",
       "Intercept                     9.921752"
      ]
     },
     "execution_count": 21,
     "metadata": {},
     "output_type": "execute_result"
    }
   ],
   "source": [
    "coefs = pd.DataFrame(\n",
    "    np.append(logistic_reg_model.coef_, logistic_reg_model.intercept_),\n",
    "    index=x_train.columns.tolist() + [\"Intercept\"],\n",
    "    columns=[\"Coefficients\"],\n",
    ")\n",
    "\n",
    "coefs.sort_values('Coefficients')"
   ]
  },
  {
   "cell_type": "code",
   "execution_count": 28,
   "id": "ba1f0dc7",
   "metadata": {},
   "outputs": [],
   "source": [
    "from sklearn.metrics import (\n",
    "    classification_report,\n",
    "    confusion_matrix,\n",
    "    recall_score,\n",
    "    accuracy_score,\n",
    "    precision_score,\n",
    "    f1_score,\n",
    ")\n",
    "\n",
    "score_DT = []\n",
    "for i in range(1,9):\n",
    "    dTree = DecisionTreeClassifier(max_depth=i,criterion = 'gini', random_state=1)\n",
    "    dTree.fit(x_train, y_train)\n",
    "    pred = dTree.predict(x_train)\n",
    "    case = {'Depth':i,'Recall':recall_score(y_train,pred)}\n",
    "    score_DT.append(case)"
   ]
  },
  {
   "cell_type": "code",
   "execution_count": 30,
   "id": "a5e9e12e",
   "metadata": {},
   "outputs": [
    {
     "name": "stdout",
     "output_type": "stream",
     "text": [
      "[{'Depth': 1, 'Recall': 0.6875},\n",
      " {'Depth': 2, 'Recall': 0.8888888888888888},\n",
      " {'Depth': 3, 'Recall': 0.8888888888888888},\n",
      " {'Depth': 4, 'Recall': 0.9583333333333334},\n",
      " {'Depth': 5, 'Recall': 0.9652777777777778},\n",
      " {'Depth': 6, 'Recall': 0.9930555555555556},\n",
      " {'Depth': 7, 'Recall': 0.9861111111111112},\n",
      " {'Depth': 8, 'Recall': 1.0}]\n"
     ]
    }
   ],
   "source": [
    "pprint.pprint(score_DT)"
   ]
  },
  {
   "cell_type": "code",
   "execution_count": 43,
   "id": "900e3f16",
   "metadata": {},
   "outputs": [
    {
     "data": {
      "text/plain": [
       "DecisionTreeClassifier()"
      ]
     },
     "execution_count": 43,
     "metadata": {},
     "output_type": "execute_result"
    }
   ],
   "source": [
    "dTree = DecisionTreeClassifier()\n",
    "dTree.fit(x_train, y_train)"
   ]
  },
  {
   "cell_type": "code",
   "execution_count": 44,
   "id": "566710f1",
   "metadata": {},
   "outputs": [
    {
     "name": "stdout",
     "output_type": "stream",
     "text": [
      "{'Accuracy_Test': 0.7956989247311828,\n",
      " 'Accuracy_Train': 1.0,\n",
      " 'F1_Score_Test': 0.8455284552845528,\n",
      " 'F1_Score_Train': 1.0,\n",
      " 'Precision_Test': 0.9122807017543859,\n",
      " 'Precision_Train': 1.0,\n",
      " 'Recall_Test': 0.7878787878787878,\n",
      " 'Recall_Train': 1.0}\n"
     ]
    }
   ],
   "source": [
    "dTree_score = GetMetricsScore(dTree)\n",
    "pprint.pprint(dTree_score)"
   ]
  },
  {
   "cell_type": "code",
   "execution_count": 32,
   "id": "f3ac253a",
   "metadata": {},
   "outputs": [
    {
     "data": {
      "image/png": "[encoded data removed]",
      "text/plain": [
       "<Figure size 864x864 with 1 Axes>"
      ]
     },
     "metadata": {
      "needs_background": "light"
     },
     "output_type": "display_data"
    }
   ],
   "source": [
    "DisplayImportanceChart(dTree)"
   ]
  },
  {
   "cell_type": "code",
   "execution_count": 45,
   "id": "94cf88d6",
   "metadata": {},
   "outputs": [
    {
     "data": {
      "text/plain": [
       "DecisionTreeClassifier(criterion='entropy', max_depth=10, random_state=1,\n",
       "                       splitter='random')"
      ]
     },
     "execution_count": 45,
     "metadata": {},
     "output_type": "execute_result"
    }
   ],
   "source": [
    "\n",
    "# choose the type of classifier\n",
    "dTree_Model_tuned = DecisionTreeClassifier(random_state=1, criterion= 'gini')\n",
    "\n",
    "# Grid of params to choose from\n",
    "parameters = {\n",
    "    \"max_depth\": [5,10,15, None],\n",
    "    \"criterion\": ['gini','entropy'],\n",
    "    \"splitter\": ['best','random']\n",
    "}\n",
    "\n",
    "# type of score used to compare paramter combinations\n",
    "acc_scorer =metrics.make_scorer(metrics.recall_score)\n",
    "\n",
    "# run the grid search\n",
    "grid_obj = GridSearchCV(dTree_Model_tuned, parameters, scoring=acc_scorer, cv=3)\n",
    "grid_obj = grid_obj.fit(x_train, y_train)\n",
    "\n",
    "# set the clf to the best combination of parameters\n",
    "dTree_Model_tuned = grid_obj.best_estimator_\n",
    "\n",
    "# fit the best algorithm to the data\n",
    "dTree_Model_tuned.fit(x_train, y_train)"
   ]
  },
  {
   "cell_type": "code",
   "execution_count": 47,
   "id": "613a354a",
   "metadata": {},
   "outputs": [],
   "source": [
    "dTree_Model_tuned_score = GetMetricsScore(dTree_Model_tuned)\n"
   ]
  },
  {
   "cell_type": "code",
   "execution_count": 48,
   "id": "1c77f9f7",
   "metadata": {},
   "outputs": [
    {
     "name": "stdout",
     "output_type": "stream",
     "text": [
      "{'default': {'Accuracy_Test': 0.7956989247311828,\n",
      "             'Accuracy_Train': 1.0,\n",
      "             'F1_Score_Test': 0.8455284552845528,\n",
      "             'F1_Score_Train': 1.0,\n",
      "             'Precision_Test': 0.9122807017543859,\n",
      "             'Precision_Train': 1.0,\n",
      "             'Recall_Test': 0.7878787878787878,\n",
      "             'Recall_Train': 1.0},\n",
      " 'tuned': {'Accuracy_Test': 0.7419354838709677,\n",
      "           'Accuracy_Train': 0.967741935483871,\n",
      "           'F1_Score_Test': 0.8153846153846153,\n",
      "           'F1_Score_Train': 0.9757785467128027,\n",
      "           'Precision_Test': 0.828125,\n",
      "           'Precision_Train': 0.9724137931034482,\n",
      "           'Recall_Test': 0.803030303030303,\n",
      "           'Recall_Train': 0.9791666666666666}}\n"
     ]
    }
   ],
   "source": [
    "pprint.pprint({\"default\":dTree_score, \"tuned\": dTree_Model_tuned_score})"
   ]
  },
  {
   "cell_type": "code",
   "execution_count": 50,
   "id": "49a05ad8",
   "metadata": {},
   "outputs": [
    {
     "name": "stdout",
     "output_type": "stream",
     "text": [
      "DecisionTreeClassifier(ccp_alpha=0.029595494111623127, random_state=1)\n"
     ]
    }
   ],
   "source": [
    "clf = DecisionTreeClassifier(random_state=1)\n",
    "path = clf.cost_complexity_pruning_path(x_train, y_train)\n",
    "ccp_alphas, impurities = path.ccp_alphas, path.impurities\n",
    "\n",
    "# Training DecisionTreeClassifiers at different ccp_alpha values\n",
    "clfs = []\n",
    "for ccp_alpha in ccp_alphas:\n",
    " clf = DecisionTreeClassifier(random_state=1, ccp_alpha=ccp_alpha)\n",
    " clf.fit(x_train, y_train)\n",
    " clfs.append(clf)\n",
    "clfs = clfs[:-1]\n",
    "ccp_alphas = ccp_alphas[:-1]\n",
    "node_counts = [clf.tree_.node_count for clf in clfs]\n",
    "depth = [clf.tree_.max_depth for clf in clfs]\n",
    "\n",
    "# Finding recall score on training and test set\n",
    "recall_train=[]\n",
    "for clf in clfs:\n",
    " pred_train=clf.predict(x_train)\n",
    " values_train=metrics.recall_score(y_train,pred_train)\n",
    " recall_train.append(values_train)\n",
    "recall_test=[]\n",
    "for clf in clfs:\n",
    " pred_test=clf.predict(x_test)\n",
    " values_test=metrics.recall_score(y_test,pred_test)\n",
    " recall_test.append(values_test)\n",
    "\n",
    "# Finding the best ccp_alpha value\n",
    "index_best_model = np.argmax(recall_test)\n",
    "best_model = clfs[index_best_model]\n",
    "print(best_model)"
   ]
  },
  {
   "cell_type": "code",
   "execution_count": null,
   "id": "6f8513d9",
   "metadata": {},
   "outputs": [],
   "source": [
    "dTree_Model"
   ]
  },
  {
   "cell_type": "code",
   "execution_count": 10,
   "id": "e1367263",
   "metadata": {},
   "outputs": [
    {
     "data": {
      "text/plain": [
       "RandomForestClassifier(random_state=1)"
      ]
     },
     "execution_count": 10,
     "metadata": {},
     "output_type": "execute_result"
    }
   ],
   "source": [
    "rf = RandomForestClassifier(random_state=1)\n",
    "rf.fit(x_train, y_train)"
   ]
  },
  {
   "cell_type": "code",
   "execution_count": 11,
   "id": "b76d8a91",
   "metadata": {},
   "outputs": [
    {
     "name": "stdout",
     "output_type": "stream",
     "text": [
      "{'Accuracy_Test': 1.0,\n",
      " 'Accuracy_Train': 1.0,\n",
      " 'F1_Score_Test': 1.0,\n",
      " 'F1_Score_Train': 1.0,\n",
      " 'Precision_Test': 1.0,\n",
      " 'Precision_Train': 1.0,\n",
      " 'Recall_Test': 1.0,\n",
      " 'Recall_Train': 1.0}\n"
     ]
    }
   ],
   "source": [
    "rf_score = GetMetricsScore(rf)\n",
    "pprint.pprint(rf_score)"
   ]
  },
  {
   "cell_type": "code",
   "execution_count": 12,
   "id": "de7d119a",
   "metadata": {},
   "outputs": [
    {
     "data": {
      "text/plain": [
       "BaggingClassifier(base_estimator=LogisticRegression(random_state=1),\n",
       "                  random_state=1)"
      ]
     },
     "execution_count": 12,
     "metadata": {},
     "output_type": "execute_result"
    }
   ],
   "source": [
    "# bagging classifier with base estimator  =Logistic Regression\n",
    "bag_lr = BaggingClassifier(random_state=1, base_estimator = LogisticRegression(random_state = 1))\n",
    "bag_lr.fit(x_train, y_train)"
   ]
  },
  {
   "cell_type": "code",
   "execution_count": 13,
   "id": "f87bd11a",
   "metadata": {},
   "outputs": [
    {
     "name": "stdout",
     "output_type": "stream",
     "text": [
      "{'Accuracy_Test': 0.9841269841269841,\n",
      " 'Accuracy_Train': 0.9897260273972602,\n",
      " 'F1_Score_Test': 0.9166666666666666,\n",
      " 'F1_Score_Train': 0.9361702127659574,\n",
      " 'Precision_Test': 0.8461538461538461,\n",
      " 'Precision_Train': 0.9565217391304348,\n",
      " 'Recall_Test': 1.0,\n",
      " 'Recall_Train': 0.9166666666666666}\n"
     ]
    }
   ],
   "source": [
    "bag_lr_score = GetMetricsScore(bag_lr)\n",
    "pprint.pprint(bag_lr_score)"
   ]
  },
  {
   "cell_type": "code",
   "execution_count": 35,
   "id": "1ba74728",
   "metadata": {},
   "outputs": [
    {
     "name": "stdout",
     "output_type": "stream",
     "text": [
      "Bagging\n",
      "{'Accuracy_Test': 0.9841269841269841,\n",
      " 'Accuracy_Train': 0.9897260273972602,\n",
      " 'F1_Score_Test': 0.9166666666666666,\n",
      " 'F1_Score_Train': 0.9361702127659574,\n",
      " 'Precision_Test': 0.8461538461538461,\n",
      " 'Precision_Train': 0.9565217391304348,\n",
      " 'Recall_Test': 1.0,\n",
      " 'Recall_Train': 0.9166666666666666}\n",
      "Forest\n",
      "{'Accuracy_Test': 1.0,\n",
      " 'Accuracy_Train': 1.0,\n",
      " 'F1_Score_Test': 1.0,\n",
      " 'F1_Score_Train': 1.0,\n",
      " 'Precision_Test': 1.0,\n",
      " 'Precision_Train': 1.0,\n",
      " 'Recall_Test': 1.0,\n",
      " 'Recall_Train': 1.0}\n"
     ]
    }
   ],
   "source": [
    "print(\"Bagging\")\n",
    "bag_lr = BaggingClassifier(random_state=1, base_estimator = LogisticRegression(random_state = 1))\n",
    "bag_lr.fit(x_train, y_train)\n",
    "bag_lr_score = GetMetricsScore(bag_lr)\n",
    "pprint.pprint(bag_lr_score)\n",
    "\n",
    "print(\"Forest\")\n",
    "forest = RandomForestClassifier()\n",
    "forest.fit(x_train, y_train)\n",
    "forest_score = GetMetricsScore(forest)\n",
    "pprint.pprint(forest_score)"
   ]
  },
  {
   "cell_type": "code",
   "execution_count": 40,
   "id": "5f5d76a5",
   "metadata": {},
   "outputs": [
    {
     "name": "stdout",
     "output_type": "stream",
     "text": [
      "1\n",
      "'F1 Train : 0.8400000000000001'\n",
      "2\n",
      "'F1 Train : 0.9787234042553191'\n",
      "3\n",
      "'F1 Train : 0.9787234042553191'\n",
      "4\n",
      "'F1 Train : 0.9787234042553191'\n",
      "5\n",
      "'F1 Train : 1.0'\n"
     ]
    }
   ],
   "source": [
    "scores = []\n",
    "for i in range(1,6):\n",
    "    bag = BaggingClassifier(base_estimator=DecisionTreeClassifier(random_state=1,max_depth = i),random_state=1)\n",
    "    bag.fit(x_train, y_train)\n",
    "    bag_lr_score = GetMetricsScore(bag)\n",
    "    print(i)\n",
    "    pprint.pprint(f\"F1 Train : {bag_lr_score['F1_Score_Train']}\")"
   ]
  },
  {
   "cell_type": "code",
   "execution_count": 41,
   "id": "61adc37d",
   "metadata": {},
   "outputs": [
    {
     "name": "stdout",
     "output_type": "stream",
     "text": [
      "ABC\n",
      "{'Accuracy_Test': 1.0,\n",
      " 'Accuracy_Train': 1.0,\n",
      " 'F1_Score_Test': 1.0,\n",
      " 'F1_Score_Train': 1.0,\n",
      " 'Precision_Test': 1.0,\n",
      " 'Precision_Train': 1.0,\n",
      " 'Recall_Test': 1.0,\n",
      " 'Recall_Train': 1.0}\n",
      "GBM\n",
      "{'Accuracy_Test': 0.9920634920634921,\n",
      " 'Accuracy_Train': 1.0,\n",
      " 'F1_Score_Test': 0.9565217391304348,\n",
      " 'F1_Score_Train': 1.0,\n",
      " 'Precision_Test': 0.9166666666666666,\n",
      " 'Precision_Train': 1.0,\n",
      " 'Recall_Test': 1.0,\n",
      " 'Recall_Train': 1.0}\n",
      "XGB\n",
      "{'Accuracy_Test': 1.0,\n",
      " 'Accuracy_Train': 1.0,\n",
      " 'F1_Score_Test': 1.0,\n",
      " 'F1_Score_Train': 1.0,\n",
      " 'Precision_Test': 1.0,\n",
      " 'Precision_Train': 1.0,\n",
      " 'Recall_Test': 1.0,\n",
      " 'Recall_Train': 1.0}\n"
     ]
    }
   ],
   "source": [
    "# Adaboost classifier\n",
    "X_train = x_train\n",
    "abc = AdaBoostClassifier(random_state=1)\n",
    "abc.fit(X_train, y_train)\n",
    "\n",
    "# GradientBoost classifier\n",
    "gbm = GradientBoostingClassifier(random_state=1)\n",
    "gbm.fit(X_train, y_train)\n",
    "\n",
    "#XGBoost classifier\n",
    "xgb = XGBClassifier(random_state=1, eval_metric = 'logloss')\n",
    "xgb.fit(X_train, y_train)\n",
    "\n",
    "# predicting on training set\n",
    "abc_predict = abc.predict(X_train)\n",
    "gbm_predict = gbm.predict(X_train)\n",
    "xgb_predict = xgb.predict(X_train)\n",
    "\n",
    "# Checking model performance\n",
    "print('ABC')\n",
    "score = GetMetricsScore(abc)\n",
    "pprint.pprint(score)\n",
    "\n",
    "print('GBM')\n",
    "score = GetMetricsScore(gbm)\n",
    "pprint.pprint(score)\n",
    "\n",
    "print('XGB')\n",
    "score = GetMetricsScore(xgb)\n",
    "pprint.pprint(score)"
   ]
  },
  {
   "cell_type": "code",
   "execution_count": 22,
   "id": "4a9fab1e",
   "metadata": {},
   "outputs": [
    {
     "data": {
      "image/png": "[encoded data removed]",
      "text/plain": [
       "<Figure size 864x864 with 1 Axes>"
      ]
     },
     "metadata": {
      "needs_background": "light"
     },
     "output_type": "display_data"
    }
   ],
   "source": [
    "DisplayImportanceChart(gbm)"
   ]
  },
  {
   "cell_type": "code",
   "execution_count": 23,
   "id": "47bc4978",
   "metadata": {},
   "outputs": [
    {
     "name": "stdout",
     "output_type": "stream",
     "text": [
      "gbm1\n",
      "{'Accuracy_Test': 0.9126984126984127,\n",
      " 'Accuracy_Train': 0.9178082191780822,\n",
      " 'F1_Score_Test': nan,\n",
      " 'F1_Score_Train': nan,\n",
      " 'Precision_Test': 0.0,\n",
      " 'Precision_Train': 0.0,\n",
      " 'Recall_Test': 0.0,\n",
      " 'Recall_Train': 0.0}\n",
      "gbm2\n",
      "{'Accuracy_Test': 0.9761904761904762,\n",
      " 'Accuracy_Train': 0.9965753424657534,\n",
      " 'F1_Score_Test': 0.88,\n",
      " 'F1_Score_Train': 0.9787234042553191,\n",
      " 'Precision_Test': 0.7857142857142857,\n",
      " 'Precision_Train': 1.0,\n",
      " 'Recall_Test': 1.0,\n",
      " 'Recall_Train': 0.9583333333333334}\n",
      "gbm3\n",
      "{'Accuracy_Test': 0.9761904761904762,\n",
      " 'Accuracy_Train': 1.0,\n",
      " 'F1_Score_Test': 0.88,\n",
      " 'F1_Score_Train': 1.0,\n",
      " 'Precision_Test': 0.7857142857142857,\n",
      " 'Precision_Train': 1.0,\n",
      " 'Recall_Test': 1.0,\n",
      " 'Recall_Train': 1.0}\n"
     ]
    }
   ],
   "source": [
    "# Training first model\n",
    "gbm1 = GradientBoostingClassifier(random_state=1, n_estimators=50, learning_rate = 0.01 )\n",
    "gbm1.fit(X_train,y_train)\n",
    "\n",
    "# Training second model\n",
    "gbm2 = GradientBoostingClassifier(random_state=1, n_estimators=100, learning_rate = 0.01 )\n",
    "gbm2.fit(X_train,y_train)\n",
    "\n",
    "# Training third model\n",
    "gbm3 = GradientBoostingClassifier(random_state=1, n_estimators=400, learning_rate = 0.01 )\n",
    "gbm3.fit(X_train,y_train)\n",
    "\n",
    "print('gbm1')\n",
    "score = GetMetricsScore(gbm1)\n",
    "pprint.pprint(score)\n",
    "\n",
    "print('gbm2')\n",
    "score = GetMetricsScore(gbm2)\n",
    "pprint.pprint(score)\n",
    "\n",
    "print('gbm3')\n",
    "score = GetMetricsScore(gbm3)\n",
    "pprint.pprint(score)"
   ]
  },
  {
   "cell_type": "code",
   "execution_count": 42,
   "id": "41526f20",
   "metadata": {},
   "outputs": [
    {
     "data": {
      "text/plain": [
       "StackingClassifier(estimators=[('DT', DecisionTreeClassifier(random_state=1)),\n",
       "                               ('BAG', BaggingClassifier(random_state=1))],\n",
       "                   final_estimator=RandomForestClassifier(random_state=1))"
      ]
     },
     "execution_count": 42,
     "metadata": {},
     "output_type": "execute_result"
    }
   ],
   "source": [
    "estimators = [('DT',DecisionTreeClassifier(random_state=1)),\n",
    " ('BAG',BaggingClassifier(random_state=1))]\n",
    "\n",
    "# Training stacking classifier\n",
    "clf = StackingClassifier(estimators = estimators, final_estimator = RandomForestClassifier(random_state=1))\n",
    "clf.fit(X_train, y_train)"
   ]
  },
  {
   "cell_type": "code",
   "execution_count": 43,
   "id": "43fee534",
   "metadata": {},
   "outputs": [],
   "source": [
    "y_pred = clf.predict(X_train)"
   ]
  },
  {
   "cell_type": "code",
   "execution_count": 44,
   "id": "8e0be9d1",
   "metadata": {},
   "outputs": [
    {
     "name": "stdout",
     "output_type": "stream",
     "text": [
      "{'Accuracy_Test': 0.9920634920634921,\n",
      " 'Accuracy_Train': 0.9828767123287672,\n",
      " 'F1_Score_Test': 0.9523809523809523,\n",
      " 'F1_Score_Train': 0.8837209302325582,\n",
      " 'Precision_Test': 1.0,\n",
      " 'Precision_Train': 1.0,\n",
      " 'Recall_Test': 0.9090909090909091,\n",
      " 'Recall_Train': 0.7916666666666666}\n"
     ]
    }
   ],
   "source": [
    "score = GetMetricsScore(clf)\n",
    "pprint.pprint(score)"
   ]
  },
  {
   "cell_type": "code",
   "execution_count": 29,
   "id": "1cc13b83",
   "metadata": {},
   "outputs": [
    {
     "name": "stdout",
     "output_type": "stream",
     "text": [
      "{'Accuracy_Test': 0.9761904761904762,\n",
      " 'Accuracy_Train': 1.0,\n",
      " 'F1_Score_Test': 0.88,\n",
      " 'F1_Score_Train': 1.0,\n",
      " 'Precision_Test': 0.7857142857142857,\n",
      " 'Precision_Train': 1.0,\n",
      " 'Recall_Test': 1.0,\n",
      " 'Recall_Train': 1.0}\n"
     ]
    }
   ],
   "source": [
    "estimators = [('GBM',GradientBoostingClassifier(random_state=1)),\n",
    " ('ABC',AdaBoostClassifier(random_state=1)),\n",
    " ]\n",
    "\n",
    "# Training stacking classifier\n",
    "clf = StackingClassifier(estimators = estimators, final_estimator = XGBClassifier(random_state=1, eval_metric='logloss'))\n",
    "clf.fit(X_train, y_train)\n",
    "\n",
    "score = GetMetricsScore(clf)\n",
    "pprint.pprint(score)"
   ]
  },
  {
   "cell_type": "code",
   "execution_count": null,
   "id": "e7c4e02a",
   "metadata": {},
   "outputs": [],
   "source": []
  }
 ],
 "metadata": {
  "kernelspec": {
   "display_name": "Python 3 (ipykernel)",
   "language": "python",
   "name": "python3"
  },
  "language_info": {
   "codemirror_mode": {
    "name": "ipython",
    "version": 3
   },
   "file_extension": ".py",
   "mimetype": "text/x-python",
   "name": "python",
   "nbconvert_exporter": "python",
   "pygments_lexer": "ipython3",
   "version": "3.8.11"
  }
 },
 "nbformat": 4,
 "nbformat_minor": 5
}
