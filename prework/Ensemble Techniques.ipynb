{
 "cells": [
  {
   "cell_type": "markdown",
   "id": "e5faab02",
   "metadata": {},
   "source": [
    "####  <span style=\"font-family: Arial; font-weight:bold;font-size:1.9em;color:#0e92ea\"> EnsembleTechniques"
   ]
  },
  {
   "cell_type": "code",
   "execution_count": 1,
   "id": "2a19ff45",
   "metadata": {},
   "outputs": [],
   "source": [
    "import os\n",
    "import warnings\n",
    "import pprint\n",
    "import pandas as pd\n",
    "import numpy as np\n",
    "import seaborn as sns\n",
    "import matplotlib.pyplot as plt\n",
    "import sklearn.metrics as metrics\n",
    "\n",
    "from matplotlib import gridspec\n",
    "from sklearn.ensemble import BaggingClassifier, RandomForestClassifier\n",
    "from sklearn.linear_model import LogisticRegression\n",
    "from sklearn.model_selection import train_test_split\n",
    "from sklearn.tree import DecisionTreeClassifier\n",
    "from sklearn.model_selection import GridSearchCV\n",
    "from sklearn import tree\n",
    "\n",
    "from os import system\n",
    "from IPython.display import Image\n",
    "\n",
    "\n",
    "warnings.filterwarnings('ignore')                                       # Ignore/Do not display warnings\n",
    "\n",
    "main_data = pd.read_csv('credit_2.csv')"
   ]
  },
  {
   "cell_type": "code",
   "execution_count": 2,
   "id": "51209a1a",
   "metadata": {},
   "outputs": [
    {
     "data": {
      "text/html": [
       "<div>\n",
       "<style scoped>\n",
       "    .dataframe tbody tr th:only-of-type {\n",
       "        vertical-align: middle;\n",
       "    }\n",
       "\n",
       "    .dataframe tbody tr th {\n",
       "        vertical-align: top;\n",
       "    }\n",
       "\n",
       "    .dataframe thead th {\n",
       "        text-align: right;\n",
       "    }\n",
       "</style>\n",
       "<table border=\"1\" class=\"dataframe\">\n",
       "  <thead>\n",
       "    <tr style=\"text-align: right;\">\n",
       "      <th></th>\n",
       "      <th>checking_balance</th>\n",
       "      <th>months_loan_duration</th>\n",
       "      <th>credit_history</th>\n",
       "      <th>purpose</th>\n",
       "      <th>amount</th>\n",
       "      <th>savings_balance</th>\n",
       "      <th>employment_duration</th>\n",
       "      <th>percent_of_income</th>\n",
       "      <th>years_at_residence</th>\n",
       "      <th>age</th>\n",
       "      <th>other_credit</th>\n",
       "      <th>housing</th>\n",
       "      <th>existing_loans_count</th>\n",
       "      <th>job</th>\n",
       "      <th>dependents</th>\n",
       "      <th>phone</th>\n",
       "      <th>default</th>\n",
       "    </tr>\n",
       "  </thead>\n",
       "  <tbody>\n",
       "    <tr>\n",
       "      <th>0</th>\n",
       "      <td>&lt; 0 DM</td>\n",
       "      <td>6</td>\n",
       "      <td>critical</td>\n",
       "      <td>furniture/appliances</td>\n",
       "      <td>1169</td>\n",
       "      <td>unknown</td>\n",
       "      <td>&gt; 7 years</td>\n",
       "      <td>4</td>\n",
       "      <td>4</td>\n",
       "      <td>67</td>\n",
       "      <td>none</td>\n",
       "      <td>own</td>\n",
       "      <td>2</td>\n",
       "      <td>skilled</td>\n",
       "      <td>1</td>\n",
       "      <td>yes</td>\n",
       "      <td>no</td>\n",
       "    </tr>\n",
       "    <tr>\n",
       "      <th>1</th>\n",
       "      <td>1 - 200 DM</td>\n",
       "      <td>48</td>\n",
       "      <td>good</td>\n",
       "      <td>furniture/appliances</td>\n",
       "      <td>5951</td>\n",
       "      <td>&lt; 100 DM</td>\n",
       "      <td>1 - 4 years</td>\n",
       "      <td>2</td>\n",
       "      <td>2</td>\n",
       "      <td>22</td>\n",
       "      <td>none</td>\n",
       "      <td>own</td>\n",
       "      <td>1</td>\n",
       "      <td>skilled</td>\n",
       "      <td>1</td>\n",
       "      <td>no</td>\n",
       "      <td>yes</td>\n",
       "    </tr>\n",
       "    <tr>\n",
       "      <th>2</th>\n",
       "      <td>unknown</td>\n",
       "      <td>12</td>\n",
       "      <td>critical</td>\n",
       "      <td>education</td>\n",
       "      <td>2096</td>\n",
       "      <td>&lt; 100 DM</td>\n",
       "      <td>4 - 7 years</td>\n",
       "      <td>2</td>\n",
       "      <td>3</td>\n",
       "      <td>49</td>\n",
       "      <td>none</td>\n",
       "      <td>own</td>\n",
       "      <td>1</td>\n",
       "      <td>unskilled</td>\n",
       "      <td>2</td>\n",
       "      <td>no</td>\n",
       "      <td>no</td>\n",
       "    </tr>\n",
       "    <tr>\n",
       "      <th>3</th>\n",
       "      <td>&lt; 0 DM</td>\n",
       "      <td>42</td>\n",
       "      <td>good</td>\n",
       "      <td>furniture/appliances</td>\n",
       "      <td>7882</td>\n",
       "      <td>&lt; 100 DM</td>\n",
       "      <td>4 - 7 years</td>\n",
       "      <td>2</td>\n",
       "      <td>4</td>\n",
       "      <td>45</td>\n",
       "      <td>none</td>\n",
       "      <td>other</td>\n",
       "      <td>1</td>\n",
       "      <td>skilled</td>\n",
       "      <td>2</td>\n",
       "      <td>no</td>\n",
       "      <td>no</td>\n",
       "    </tr>\n",
       "    <tr>\n",
       "      <th>4</th>\n",
       "      <td>&lt; 0 DM</td>\n",
       "      <td>24</td>\n",
       "      <td>poor</td>\n",
       "      <td>car</td>\n",
       "      <td>4870</td>\n",
       "      <td>&lt; 100 DM</td>\n",
       "      <td>1 - 4 years</td>\n",
       "      <td>3</td>\n",
       "      <td>4</td>\n",
       "      <td>53</td>\n",
       "      <td>none</td>\n",
       "      <td>other</td>\n",
       "      <td>2</td>\n",
       "      <td>skilled</td>\n",
       "      <td>2</td>\n",
       "      <td>no</td>\n",
       "      <td>yes</td>\n",
       "    </tr>\n",
       "    <tr>\n",
       "      <th>5</th>\n",
       "      <td>unknown</td>\n",
       "      <td>36</td>\n",
       "      <td>good</td>\n",
       "      <td>education</td>\n",
       "      <td>9055</td>\n",
       "      <td>unknown</td>\n",
       "      <td>1 - 4 years</td>\n",
       "      <td>2</td>\n",
       "      <td>4</td>\n",
       "      <td>35</td>\n",
       "      <td>none</td>\n",
       "      <td>other</td>\n",
       "      <td>1</td>\n",
       "      <td>unskilled</td>\n",
       "      <td>2</td>\n",
       "      <td>yes</td>\n",
       "      <td>no</td>\n",
       "    </tr>\n",
       "    <tr>\n",
       "      <th>6</th>\n",
       "      <td>unknown</td>\n",
       "      <td>24</td>\n",
       "      <td>good</td>\n",
       "      <td>furniture/appliances</td>\n",
       "      <td>2835</td>\n",
       "      <td>500 - 1000 DM</td>\n",
       "      <td>&gt; 7 years</td>\n",
       "      <td>3</td>\n",
       "      <td>4</td>\n",
       "      <td>53</td>\n",
       "      <td>none</td>\n",
       "      <td>own</td>\n",
       "      <td>1</td>\n",
       "      <td>skilled</td>\n",
       "      <td>1</td>\n",
       "      <td>no</td>\n",
       "      <td>no</td>\n",
       "    </tr>\n",
       "    <tr>\n",
       "      <th>7</th>\n",
       "      <td>1 - 200 DM</td>\n",
       "      <td>36</td>\n",
       "      <td>good</td>\n",
       "      <td>car</td>\n",
       "      <td>6948</td>\n",
       "      <td>&lt; 100 DM</td>\n",
       "      <td>1 - 4 years</td>\n",
       "      <td>2</td>\n",
       "      <td>2</td>\n",
       "      <td>35</td>\n",
       "      <td>none</td>\n",
       "      <td>rent</td>\n",
       "      <td>1</td>\n",
       "      <td>management</td>\n",
       "      <td>1</td>\n",
       "      <td>yes</td>\n",
       "      <td>no</td>\n",
       "    </tr>\n",
       "    <tr>\n",
       "      <th>8</th>\n",
       "      <td>unknown</td>\n",
       "      <td>12</td>\n",
       "      <td>good</td>\n",
       "      <td>furniture/appliances</td>\n",
       "      <td>3059</td>\n",
       "      <td>&gt; 1000 DM</td>\n",
       "      <td>4 - 7 years</td>\n",
       "      <td>2</td>\n",
       "      <td>4</td>\n",
       "      <td>61</td>\n",
       "      <td>none</td>\n",
       "      <td>own</td>\n",
       "      <td>1</td>\n",
       "      <td>unskilled</td>\n",
       "      <td>1</td>\n",
       "      <td>no</td>\n",
       "      <td>no</td>\n",
       "    </tr>\n",
       "    <tr>\n",
       "      <th>9</th>\n",
       "      <td>1 - 200 DM</td>\n",
       "      <td>30</td>\n",
       "      <td>critical</td>\n",
       "      <td>car</td>\n",
       "      <td>5234</td>\n",
       "      <td>&lt; 100 DM</td>\n",
       "      <td>unemployed</td>\n",
       "      <td>4</td>\n",
       "      <td>2</td>\n",
       "      <td>28</td>\n",
       "      <td>none</td>\n",
       "      <td>own</td>\n",
       "      <td>2</td>\n",
       "      <td>management</td>\n",
       "      <td>1</td>\n",
       "      <td>no</td>\n",
       "      <td>yes</td>\n",
       "    </tr>\n",
       "  </tbody>\n",
       "</table>\n",
       "</div>"
      ],
      "text/plain": [
       "  checking_balance  months_loan_duration credit_history               purpose  \\\n",
       "0           < 0 DM                     6       critical  furniture/appliances   \n",
       "1       1 - 200 DM                    48           good  furniture/appliances   \n",
       "2          unknown                    12       critical             education   \n",
       "3           < 0 DM                    42           good  furniture/appliances   \n",
       "4           < 0 DM                    24           poor                   car   \n",
       "5          unknown                    36           good             education   \n",
       "6          unknown                    24           good  furniture/appliances   \n",
       "7       1 - 200 DM                    36           good                   car   \n",
       "8          unknown                    12           good  furniture/appliances   \n",
       "9       1 - 200 DM                    30       critical                   car   \n",
       "\n",
       "   amount savings_balance employment_duration  percent_of_income  \\\n",
       "0    1169         unknown           > 7 years                  4   \n",
       "1    5951        < 100 DM         1 - 4 years                  2   \n",
       "2    2096        < 100 DM         4 - 7 years                  2   \n",
       "3    7882        < 100 DM         4 - 7 years                  2   \n",
       "4    4870        < 100 DM         1 - 4 years                  3   \n",
       "5    9055         unknown         1 - 4 years                  2   \n",
       "6    2835   500 - 1000 DM           > 7 years                  3   \n",
       "7    6948        < 100 DM         1 - 4 years                  2   \n",
       "8    3059       > 1000 DM         4 - 7 years                  2   \n",
       "9    5234        < 100 DM          unemployed                  4   \n",
       "\n",
       "   years_at_residence  age other_credit housing  existing_loans_count  \\\n",
       "0                   4   67         none     own                     2   \n",
       "1                   2   22         none     own                     1   \n",
       "2                   3   49         none     own                     1   \n",
       "3                   4   45         none   other                     1   \n",
       "4                   4   53         none   other                     2   \n",
       "5                   4   35         none   other                     1   \n",
       "6                   4   53         none     own                     1   \n",
       "7                   2   35         none    rent                     1   \n",
       "8                   4   61         none     own                     1   \n",
       "9                   2   28         none     own                     2   \n",
       "\n",
       "          job  dependents phone default  \n",
       "0     skilled           1   yes      no  \n",
       "1     skilled           1    no     yes  \n",
       "2   unskilled           2    no      no  \n",
       "3     skilled           2    no      no  \n",
       "4     skilled           2    no     yes  \n",
       "5   unskilled           2   yes      no  \n",
       "6     skilled           1    no      no  \n",
       "7  management           1   yes      no  \n",
       "8   unskilled           1    no      no  \n",
       "9  management           1    no     yes  "
      ]
     },
     "execution_count": 2,
     "metadata": {},
     "output_type": "execute_result"
    }
   ],
   "source": [
    "main_data.head(10)"
   ]
  },
  {
   "cell_type": "code",
   "execution_count": 3,
   "id": "d7579fd1",
   "metadata": {},
   "outputs": [
    {
     "data": {
      "text/plain": [
       "(1000, 17)"
      ]
     },
     "execution_count": 3,
     "metadata": {},
     "output_type": "execute_result"
    }
   ],
   "source": [
    "main_data.shape"
   ]
  },
  {
   "cell_type": "code",
   "execution_count": 4,
   "id": "628963fd",
   "metadata": {},
   "outputs": [
    {
     "name": "stdout",
     "output_type": "stream",
     "text": [
      "<class 'pandas.core.frame.DataFrame'>\n",
      "RangeIndex: 1000 entries, 0 to 999\n",
      "Data columns (total 17 columns):\n",
      " #   Column                Non-Null Count  Dtype \n",
      "---  ------                --------------  ----- \n",
      " 0   checking_balance      1000 non-null   object\n",
      " 1   months_loan_duration  1000 non-null   int64 \n",
      " 2   credit_history        1000 non-null   object\n",
      " 3   purpose               1000 non-null   object\n",
      " 4   amount                1000 non-null   int64 \n",
      " 5   savings_balance       1000 non-null   object\n",
      " 6   employment_duration   1000 non-null   object\n",
      " 7   percent_of_income     1000 non-null   int64 \n",
      " 8   years_at_residence    1000 non-null   int64 \n",
      " 9   age                   1000 non-null   int64 \n",
      " 10  other_credit          1000 non-null   object\n",
      " 11  housing               1000 non-null   object\n",
      " 12  existing_loans_count  1000 non-null   int64 \n",
      " 13  job                   1000 non-null   object\n",
      " 14  dependents            1000 non-null   int64 \n",
      " 15  phone                 1000 non-null   object\n",
      " 16  default               1000 non-null   object\n",
      "dtypes: int64(7), object(10)\n",
      "memory usage: 132.9+ KB\n"
     ]
    }
   ],
   "source": [
    "main_data.info()"
   ]
  },
  {
   "cell_type": "code",
   "execution_count": 5,
   "id": "fa9ff9c9",
   "metadata": {},
   "outputs": [
    {
     "name": "stdout",
     "output_type": "stream",
     "text": [
      "<class 'pandas.core.frame.DataFrame'>\n",
      "RangeIndex: 1000 entries, 0 to 999\n",
      "Data columns (total 17 columns):\n",
      " #   Column                Non-Null Count  Dtype   \n",
      "---  ------                --------------  -----   \n",
      " 0   checking_balance      1000 non-null   category\n",
      " 1   months_loan_duration  1000 non-null   int64   \n",
      " 2   credit_history        1000 non-null   category\n",
      " 3   purpose               1000 non-null   category\n",
      " 4   amount                1000 non-null   int64   \n",
      " 5   savings_balance       1000 non-null   category\n",
      " 6   employment_duration   1000 non-null   category\n",
      " 7   percent_of_income     1000 non-null   int64   \n",
      " 8   years_at_residence    1000 non-null   int64   \n",
      " 9   age                   1000 non-null   int64   \n",
      " 10  other_credit          1000 non-null   category\n",
      " 11  housing               1000 non-null   category\n",
      " 12  existing_loans_count  1000 non-null   int64   \n",
      " 13  job                   1000 non-null   category\n",
      " 14  dependents            1000 non-null   int64   \n",
      " 15  phone                 1000 non-null   category\n",
      " 16  default               1000 non-null   category\n",
      "dtypes: category(10), int64(7)\n",
      "memory usage: 66.3 KB\n"
     ]
    }
   ],
   "source": [
    "def ConvertColTo(fromType, toType):\n",
    "    for col_name in main_data.columns:\n",
    "        if main_data[col_name].dtype == fromType:\n",
    "            main_data[col_name] = main_data[col_name].astype(toType)\n",
    "        \n",
    "    main_data.info()\n",
    "\n",
    "ConvertColTo(\"object\", \"category\")"
   ]
  },
  {
   "cell_type": "code",
   "execution_count": 6,
   "id": "1e78a959",
   "metadata": {},
   "outputs": [],
   "source": [
    "# replace columns with  integers in the appropreate order\n",
    "replace_struct = {\n",
    "    \"checking_balance\"    : {\"< 0 DM\": 1, \"1 - 200 DM\": 2, \"> 200 DM\": 3, \"unknown\": -1},\n",
    "    \"credit_history\"      : {\"critical\": 1, \"poor\": 2, \"good\": 3, \"very good\": 4, \"perfect\": 5},\n",
    "    \"savings_balance\"     : {\"< 100 DM\": 1, \"100 - 500 DM\": 2, \"500 - 1000 DM\": 3, \"> 1000 DM\": 4, \"unknown\": -1},\n",
    "    \"employment_duration\" : {\"unemployed\": 1, \"< 1 year\": 2, \"1 - 4 years\": 3, \"4 - 7 years\":4, \"> 7 years\": 5},\n",
    "    \"default\"             : {\"no\":0, \"yes\":1},\n",
    "    \"phone\"               : {\"no\":0, \"yes\":1}\n",
    "}\n",
    "\n",
    "oneHotCols = [\"purpose\", \"housing\", \"other_credit\",\"job\"]"
   ]
  },
  {
   "cell_type": "code",
   "execution_count": 7,
   "id": "7f927b74",
   "metadata": {},
   "outputs": [
    {
     "data": {
      "text/html": [
       "<div>\n",
       "<style scoped>\n",
       "    .dataframe tbody tr th:only-of-type {\n",
       "        vertical-align: middle;\n",
       "    }\n",
       "\n",
       "    .dataframe tbody tr th {\n",
       "        vertical-align: top;\n",
       "    }\n",
       "\n",
       "    .dataframe thead th {\n",
       "        text-align: right;\n",
       "    }\n",
       "</style>\n",
       "<table border=\"1\" class=\"dataframe\">\n",
       "  <thead>\n",
       "    <tr style=\"text-align: right;\">\n",
       "      <th></th>\n",
       "      <th>checking_balance</th>\n",
       "      <th>months_loan_duration</th>\n",
       "      <th>credit_history</th>\n",
       "      <th>amount</th>\n",
       "      <th>savings_balance</th>\n",
       "      <th>employment_duration</th>\n",
       "      <th>percent_of_income</th>\n",
       "      <th>years_at_residence</th>\n",
       "      <th>age</th>\n",
       "      <th>existing_loans_count</th>\n",
       "      <th>...</th>\n",
       "      <th>housing_other</th>\n",
       "      <th>housing_own</th>\n",
       "      <th>housing_rent</th>\n",
       "      <th>other_credit_bank</th>\n",
       "      <th>other_credit_none</th>\n",
       "      <th>other_credit_store</th>\n",
       "      <th>job_management</th>\n",
       "      <th>job_skilled</th>\n",
       "      <th>job_unemployed</th>\n",
       "      <th>job_unskilled</th>\n",
       "    </tr>\n",
       "  </thead>\n",
       "  <tbody>\n",
       "    <tr>\n",
       "      <th>0</th>\n",
       "      <td>1</td>\n",
       "      <td>6</td>\n",
       "      <td>1</td>\n",
       "      <td>1169</td>\n",
       "      <td>-1</td>\n",
       "      <td>5</td>\n",
       "      <td>4</td>\n",
       "      <td>4</td>\n",
       "      <td>67</td>\n",
       "      <td>2</td>\n",
       "      <td>...</td>\n",
       "      <td>0</td>\n",
       "      <td>1</td>\n",
       "      <td>0</td>\n",
       "      <td>0</td>\n",
       "      <td>1</td>\n",
       "      <td>0</td>\n",
       "      <td>0</td>\n",
       "      <td>1</td>\n",
       "      <td>0</td>\n",
       "      <td>0</td>\n",
       "    </tr>\n",
       "    <tr>\n",
       "      <th>1</th>\n",
       "      <td>2</td>\n",
       "      <td>48</td>\n",
       "      <td>3</td>\n",
       "      <td>5951</td>\n",
       "      <td>1</td>\n",
       "      <td>3</td>\n",
       "      <td>2</td>\n",
       "      <td>2</td>\n",
       "      <td>22</td>\n",
       "      <td>1</td>\n",
       "      <td>...</td>\n",
       "      <td>0</td>\n",
       "      <td>1</td>\n",
       "      <td>0</td>\n",
       "      <td>0</td>\n",
       "      <td>1</td>\n",
       "      <td>0</td>\n",
       "      <td>0</td>\n",
       "      <td>1</td>\n",
       "      <td>0</td>\n",
       "      <td>0</td>\n",
       "    </tr>\n",
       "    <tr>\n",
       "      <th>2</th>\n",
       "      <td>-1</td>\n",
       "      <td>12</td>\n",
       "      <td>1</td>\n",
       "      <td>2096</td>\n",
       "      <td>1</td>\n",
       "      <td>4</td>\n",
       "      <td>2</td>\n",
       "      <td>3</td>\n",
       "      <td>49</td>\n",
       "      <td>1</td>\n",
       "      <td>...</td>\n",
       "      <td>0</td>\n",
       "      <td>1</td>\n",
       "      <td>0</td>\n",
       "      <td>0</td>\n",
       "      <td>1</td>\n",
       "      <td>0</td>\n",
       "      <td>0</td>\n",
       "      <td>0</td>\n",
       "      <td>0</td>\n",
       "      <td>1</td>\n",
       "    </tr>\n",
       "    <tr>\n",
       "      <th>3</th>\n",
       "      <td>1</td>\n",
       "      <td>42</td>\n",
       "      <td>3</td>\n",
       "      <td>7882</td>\n",
       "      <td>1</td>\n",
       "      <td>4</td>\n",
       "      <td>2</td>\n",
       "      <td>4</td>\n",
       "      <td>45</td>\n",
       "      <td>1</td>\n",
       "      <td>...</td>\n",
       "      <td>1</td>\n",
       "      <td>0</td>\n",
       "      <td>0</td>\n",
       "      <td>0</td>\n",
       "      <td>1</td>\n",
       "      <td>0</td>\n",
       "      <td>0</td>\n",
       "      <td>1</td>\n",
       "      <td>0</td>\n",
       "      <td>0</td>\n",
       "    </tr>\n",
       "    <tr>\n",
       "      <th>4</th>\n",
       "      <td>1</td>\n",
       "      <td>24</td>\n",
       "      <td>2</td>\n",
       "      <td>4870</td>\n",
       "      <td>1</td>\n",
       "      <td>3</td>\n",
       "      <td>3</td>\n",
       "      <td>4</td>\n",
       "      <td>53</td>\n",
       "      <td>2</td>\n",
       "      <td>...</td>\n",
       "      <td>1</td>\n",
       "      <td>0</td>\n",
       "      <td>0</td>\n",
       "      <td>0</td>\n",
       "      <td>1</td>\n",
       "      <td>0</td>\n",
       "      <td>0</td>\n",
       "      <td>1</td>\n",
       "      <td>0</td>\n",
       "      <td>0</td>\n",
       "    </tr>\n",
       "    <tr>\n",
       "      <th>5</th>\n",
       "      <td>-1</td>\n",
       "      <td>36</td>\n",
       "      <td>3</td>\n",
       "      <td>9055</td>\n",
       "      <td>-1</td>\n",
       "      <td>3</td>\n",
       "      <td>2</td>\n",
       "      <td>4</td>\n",
       "      <td>35</td>\n",
       "      <td>1</td>\n",
       "      <td>...</td>\n",
       "      <td>1</td>\n",
       "      <td>0</td>\n",
       "      <td>0</td>\n",
       "      <td>0</td>\n",
       "      <td>1</td>\n",
       "      <td>0</td>\n",
       "      <td>0</td>\n",
       "      <td>0</td>\n",
       "      <td>0</td>\n",
       "      <td>1</td>\n",
       "    </tr>\n",
       "    <tr>\n",
       "      <th>6</th>\n",
       "      <td>-1</td>\n",
       "      <td>24</td>\n",
       "      <td>3</td>\n",
       "      <td>2835</td>\n",
       "      <td>3</td>\n",
       "      <td>5</td>\n",
       "      <td>3</td>\n",
       "      <td>4</td>\n",
       "      <td>53</td>\n",
       "      <td>1</td>\n",
       "      <td>...</td>\n",
       "      <td>0</td>\n",
       "      <td>1</td>\n",
       "      <td>0</td>\n",
       "      <td>0</td>\n",
       "      <td>1</td>\n",
       "      <td>0</td>\n",
       "      <td>0</td>\n",
       "      <td>1</td>\n",
       "      <td>0</td>\n",
       "      <td>0</td>\n",
       "    </tr>\n",
       "    <tr>\n",
       "      <th>7</th>\n",
       "      <td>2</td>\n",
       "      <td>36</td>\n",
       "      <td>3</td>\n",
       "      <td>6948</td>\n",
       "      <td>1</td>\n",
       "      <td>3</td>\n",
       "      <td>2</td>\n",
       "      <td>2</td>\n",
       "      <td>35</td>\n",
       "      <td>1</td>\n",
       "      <td>...</td>\n",
       "      <td>0</td>\n",
       "      <td>0</td>\n",
       "      <td>1</td>\n",
       "      <td>0</td>\n",
       "      <td>1</td>\n",
       "      <td>0</td>\n",
       "      <td>1</td>\n",
       "      <td>0</td>\n",
       "      <td>0</td>\n",
       "      <td>0</td>\n",
       "    </tr>\n",
       "    <tr>\n",
       "      <th>8</th>\n",
       "      <td>-1</td>\n",
       "      <td>12</td>\n",
       "      <td>3</td>\n",
       "      <td>3059</td>\n",
       "      <td>4</td>\n",
       "      <td>4</td>\n",
       "      <td>2</td>\n",
       "      <td>4</td>\n",
       "      <td>61</td>\n",
       "      <td>1</td>\n",
       "      <td>...</td>\n",
       "      <td>0</td>\n",
       "      <td>1</td>\n",
       "      <td>0</td>\n",
       "      <td>0</td>\n",
       "      <td>1</td>\n",
       "      <td>0</td>\n",
       "      <td>0</td>\n",
       "      <td>0</td>\n",
       "      <td>0</td>\n",
       "      <td>1</td>\n",
       "    </tr>\n",
       "    <tr>\n",
       "      <th>9</th>\n",
       "      <td>2</td>\n",
       "      <td>30</td>\n",
       "      <td>1</td>\n",
       "      <td>5234</td>\n",
       "      <td>1</td>\n",
       "      <td>1</td>\n",
       "      <td>4</td>\n",
       "      <td>2</td>\n",
       "      <td>28</td>\n",
       "      <td>2</td>\n",
       "      <td>...</td>\n",
       "      <td>0</td>\n",
       "      <td>1</td>\n",
       "      <td>0</td>\n",
       "      <td>0</td>\n",
       "      <td>1</td>\n",
       "      <td>0</td>\n",
       "      <td>1</td>\n",
       "      <td>0</td>\n",
       "      <td>0</td>\n",
       "      <td>0</td>\n",
       "    </tr>\n",
       "  </tbody>\n",
       "</table>\n",
       "<p>10 rows × 29 columns</p>\n",
       "</div>"
      ],
      "text/plain": [
       "   checking_balance  months_loan_duration  credit_history  amount  \\\n",
       "0                 1                     6               1    1169   \n",
       "1                 2                    48               3    5951   \n",
       "2                -1                    12               1    2096   \n",
       "3                 1                    42               3    7882   \n",
       "4                 1                    24               2    4870   \n",
       "5                -1                    36               3    9055   \n",
       "6                -1                    24               3    2835   \n",
       "7                 2                    36               3    6948   \n",
       "8                -1                    12               3    3059   \n",
       "9                 2                    30               1    5234   \n",
       "\n",
       "   savings_balance  employment_duration  percent_of_income  \\\n",
       "0               -1                    5                  4   \n",
       "1                1                    3                  2   \n",
       "2                1                    4                  2   \n",
       "3                1                    4                  2   \n",
       "4                1                    3                  3   \n",
       "5               -1                    3                  2   \n",
       "6                3                    5                  3   \n",
       "7                1                    3                  2   \n",
       "8                4                    4                  2   \n",
       "9                1                    1                  4   \n",
       "\n",
       "   years_at_residence  age  existing_loans_count  ...  housing_other  \\\n",
       "0                   4   67                     2  ...              0   \n",
       "1                   2   22                     1  ...              0   \n",
       "2                   3   49                     1  ...              0   \n",
       "3                   4   45                     1  ...              1   \n",
       "4                   4   53                     2  ...              1   \n",
       "5                   4   35                     1  ...              1   \n",
       "6                   4   53                     1  ...              0   \n",
       "7                   2   35                     1  ...              0   \n",
       "8                   4   61                     1  ...              0   \n",
       "9                   2   28                     2  ...              0   \n",
       "\n",
       "   housing_own  housing_rent  other_credit_bank  other_credit_none  \\\n",
       "0            1             0                  0                  1   \n",
       "1            1             0                  0                  1   \n",
       "2            1             0                  0                  1   \n",
       "3            0             0                  0                  1   \n",
       "4            0             0                  0                  1   \n",
       "5            0             0                  0                  1   \n",
       "6            1             0                  0                  1   \n",
       "7            0             1                  0                  1   \n",
       "8            1             0                  0                  1   \n",
       "9            1             0                  0                  1   \n",
       "\n",
       "   other_credit_store  job_management  job_skilled  job_unemployed  \\\n",
       "0                   0               0            1               0   \n",
       "1                   0               0            1               0   \n",
       "2                   0               0            0               0   \n",
       "3                   0               0            1               0   \n",
       "4                   0               0            1               0   \n",
       "5                   0               0            0               0   \n",
       "6                   0               0            1               0   \n",
       "7                   0               1            0               0   \n",
       "8                   0               0            0               0   \n",
       "9                   0               1            0               0   \n",
       "\n",
       "   job_unskilled  \n",
       "0              0  \n",
       "1              0  \n",
       "2              1  \n",
       "3              0  \n",
       "4              0  \n",
       "5              1  \n",
       "6              0  \n",
       "7              0  \n",
       "8              1  \n",
       "9              0  \n",
       "\n",
       "[10 rows x 29 columns]"
      ]
     },
     "execution_count": 7,
     "metadata": {},
     "output_type": "execute_result"
    }
   ],
   "source": [
    "main_data = main_data.replace(replace_struct)\n",
    "main_data = pd.get_dummies(main_data, columns=oneHotCols)\n",
    "main_data.head(10)"
   ]
  },
  {
   "cell_type": "code",
   "execution_count": 9,
   "id": "6d006c48",
   "metadata": {},
   "outputs": [],
   "source": [
    "X = main_data.drop(\"default\", axis=1)\n",
    "Y = main_data.pop(\"default\")"
   ]
  },
  {
   "cell_type": "code",
   "execution_count": 10,
   "id": "4353309d",
   "metadata": {},
   "outputs": [],
   "source": [
    "x_train, x_test, y_train, y_test = train_test_split(X, Y, test_size=0.3, random_state=1, stratify=Y)"
   ]
  },
  {
   "cell_type": "code",
   "execution_count": 33,
   "id": "3732f1e7",
   "metadata": {},
   "outputs": [],
   "source": [
    "# Functions to calculate different metrics\n",
    "\n",
    "def DisplayConfusionMatrix(model, y_actual, labels=[1,0]):\n",
    "    y_predict = model.predict(x_test)\n",
    "    confusion_matrix = metrics.confusion_matrix(y_actual, y_predict, labels=[0, 1])\n",
    "    confusion_matix_df = pd.DataFrame(\n",
    "        confusion_matrix,\n",
    "        index   = [i for i in [\"Actual No\", \"Actual Yes\"]],\n",
    "        columns = [i for i in [\"Predicted - No\", \"Predicted - Yes\"]])\n",
    "    \n",
    "    group_counts = [\"{0:0.0f}\".format(value) for value in confusion_matrix.flatten()]\n",
    "    group_percetages = [\"{0:.2%}\".format(value) for value in confusion_matrix.flatten()/np.sum(confusion_matrix)]\n",
    "    \n",
    "    labels = [f\"{v1}\\n{v2}\" for v1, v2 in zip(group_counts, group_percetages)]\n",
    "    labels = np.array(labels).reshape(2, 2)\n",
    "    plt.figure(figsize= (10,7))\n",
    "    sns.heatmap(confusion_matix_df, annot=labels,fmt='')\n",
    "    plt.ylabel(\"True Label\")\n",
    "    plt.xlabel(\"Predicted Label\")\n",
    "    \n",
    "def GetMetricsScore(model):\n",
    "    \n",
    "    pred_train = model.predict(x_train)\n",
    "    pred_test  = model.predict(x_test)\n",
    "    \n",
    "    train_accuracy = model.score(x_train, y_train)\n",
    "    test_accuracy  = model.score(x_test, y_test)\n",
    "    \n",
    "    train_recall = metrics.recall_score(y_train, pred_train)\n",
    "    test_recall  = metrics.recall_score(y_test, pred_test)\n",
    "    \n",
    "    train_precision = metrics.precision_score(y_train, pred_train)\n",
    "    test_precision  = metrics.precision_score(y_test, pred_test)\n",
    "        \n",
    "    return {\n",
    "        'Accuracy_Test'   : test_accuracy,\n",
    "        'Accuracy_Train'  : train_accuracy,\n",
    "        'Recall_Test'     : test_recall,\n",
    "        'Recall_Train'    : train_recall,\n",
    "        'Precision_Test'  : test_precision,\n",
    "        'Precision_Train' : train_precision\n",
    "    }\n",
    "        \n",
    "\n",
    "def DisplayImportance(model):\n",
    "    gini_importances = pd.DataFrame(dTree.feature_importances_, columns=[\"Imp\"], index=x_train.columns).sort_values(by = \"Imp\")\n",
    "    print(gini_importances)\n",
    "    \n",
    "def DisplayImportanceChart(model):\n",
    "    importances = model.feature_importances_\n",
    "    indices = np.argsort(importances)\n",
    "\n",
    "    plt.figure(figsize=(12, 12))\n",
    "    plt.title('Feature Importance')\n",
    "    plt.barh(range(len(indices)), importances[indices], color='violet', align='center')\n",
    "    plt.yticks(range(len(indices)), [list(X.columns)[i] for i in indices])\n",
    "    plt.xlabel('Relative Importance')\n",
    "    plt.show()\n",
    "    \n",
    "def DisplayScore(model):\n",
    "    print(f\"Training Score :{dTree1.score(x_train, y_train)}\")\n",
    "    print(f\"Test Score : {dTree1.score(x_test, y_test)}\")\n",
    "    DisplayRecallScore(model)"
   ]
  },
  {
   "cell_type": "markdown",
   "id": "90ab255b",
   "metadata": {},
   "source": [
    "####  <span style=\"font-family: Arial; font-weight:bold;font-size:1.9em;color:#0e92ea\"> Build Bagging Classifier"
   ]
  },
  {
   "cell_type": "code",
   "execution_count": 11,
   "id": "33539348",
   "metadata": {},
   "outputs": [
    {
     "data": {
      "text/plain": [
       "BaggingClassifier(random_state=1)"
      ]
     },
     "execution_count": 11,
     "metadata": {},
     "output_type": "execute_result"
    }
   ],
   "source": [
    "bagging_estimator_model = BaggingClassifier(random_state=1)\n",
    "bagging_estimator_model.fit(x_train, y_train)"
   ]
  },
  {
   "cell_type": "code",
   "execution_count": 12,
   "id": "01525e50",
   "metadata": {},
   "outputs": [
    {
     "name": "stdout",
     "output_type": "stream",
     "text": [
      "{'Accuracy_Test': 0.7433333333333333,\n",
      " 'Accuracy_Train': 0.9814285714285714,\n",
      " 'Precision_Test': 0.589041095890411,\n",
      " 'Precision_Train': 0.9949748743718593,\n",
      " 'Recall_Test': 0.4777777777777778,\n",
      " 'Recall_Train': 0.9428571428571428}\n"
     ]
    }
   ],
   "source": [
    "baggingEst_model_score = GetMetricsScore(bagging_estimator_model)\n",
    "pprint.pprint(baggingEst_model_score)"
   ]
  },
  {
   "cell_type": "code",
   "execution_count": 13,
   "id": "f3672dd6",
   "metadata": {},
   "outputs": [
    {
     "data": {
      "image/png": "[encoded data removed]",
      "text/plain": [
       "<Figure size 720x504 with 2 Axes>"
      ]
     },
     "metadata": {
      "needs_background": "light"
     },
     "output_type": "display_data"
    }
   ],
   "source": [
    "DisplayConfusionMatrix(bagging_estimator_model, y_test)"
   ]
  },
  {
   "cell_type": "markdown",
   "id": "454974f3",
   "metadata": {},
   "source": [
    "####  <span style=\"font-family: Arial; font-weight:bold;font-size:1.9em;color:#0e92ea\"> Build Random Forest Classifier"
   ]
  },
  {
   "cell_type": "code",
   "execution_count": 14,
   "id": "af70bd72",
   "metadata": {},
   "outputs": [
    {
     "data": {
      "text/plain": [
       "RandomForestClassifier(random_state=1)"
      ]
     },
     "execution_count": 14,
     "metadata": {},
     "output_type": "execute_result"
    }
   ],
   "source": [
    "randomForest_model = RandomForestClassifier(random_state=1)\n",
    "randomForest_model.fit(x_train, y_train)"
   ]
  },
  {
   "cell_type": "code",
   "execution_count": 15,
   "id": "557013c2",
   "metadata": {},
   "outputs": [
    {
     "name": "stdout",
     "output_type": "stream",
     "text": [
      "{'Accuracy_Test': 0.7533333333333333,\n",
      " 'Accuracy_Train': 1.0,\n",
      " 'Precision_Test': 0.6333333333333333,\n",
      " 'Precision_Train': 1.0,\n",
      " 'Recall_Test': 0.4222222222222222,\n",
      " 'Recall_Train': 1.0}\n"
     ]
    }
   ],
   "source": [
    "randomForest_model_scores = GetMetricsScore(randomForest_model)\n",
    "pprint.pprint(randomForest_model_scores)"
   ]
  },
  {
   "cell_type": "code",
   "execution_count": 16,
   "id": "a926ac62",
   "metadata": {},
   "outputs": [
    {
     "data": {
      "image/png": "[encoded data removed]",
      "text/plain": [
       "<Figure size 720x504 with 2 Axes>"
      ]
     },
     "metadata": {
      "needs_background": "light"
     },
     "output_type": "display_data"
    }
   ],
   "source": [
    "DisplayConfusionMatrix(randomForest_model, y_test)"
   ]
  },
  {
   "cell_type": "markdown",
   "id": "f7c366df",
   "metadata": {},
   "source": [
    "####  <span style=\"font-family: Arial; font-weight:bold;font-size:1.9em;color:#0e92ea\"> Hyperparamter Tuning and Grid Search"
   ]
  },
  {
   "cell_type": "code",
   "execution_count": 17,
   "id": "d3613394",
   "metadata": {},
   "outputs": [
    {
     "data": {
      "text/plain": [
       "BaggingClassifier(max_features=0.9, max_samples=0.8, n_estimators=40,\n",
       "                  random_state=1)"
      ]
     },
     "execution_count": 17,
     "metadata": {},
     "output_type": "execute_result"
    }
   ],
   "source": [
    "bagging_estimator_tuned_model = BaggingClassifier(random_state=1)\n",
    "\n",
    "parameters = {\n",
    "    'max_samples'  : [0.7, 0.8, 0.9, 1],\n",
    "    'max_features' : [0.7, 0.8, 0.9, 1],\n",
    "    'n_estimators' : [10, 20, 30, 40, 50]\n",
    "}\n",
    "\n",
    "acc_scorer = metrics.make_scorer(metrics.recall_score)\n",
    "\n",
    "grid_obj = GridSearchCV(bagging_estimator_tuned_model, parameters, scoring=acc_scorer, cv=5)\n",
    "gird_obj = grid_obj.fit(x_train, y_train)\n",
    "\n",
    "bagging_estimator_tuned_model = grid_obj.best_estimator_\n",
    "bagging_estimator_tuned_model.fit(x_train, y_train)\n"
   ]
  },
  {
   "cell_type": "code",
   "execution_count": 18,
   "id": "4b024dda",
   "metadata": {},
   "outputs": [
    {
     "name": "stdout",
     "output_type": "stream",
     "text": [
      "{'Accuracy_Test': 0.7533333333333333,\n",
      " 'Accuracy_Train': 0.9885714285714285,\n",
      " 'Precision_Test': 0.6212121212121212,\n",
      " 'Precision_Train': 1.0,\n",
      " 'Recall_Test': 0.45555555555555555,\n",
      " 'Recall_Train': 0.9619047619047619}\n"
     ]
    }
   ],
   "source": [
    "baggingEst_model_score = GetMetricsScore(bagging_estimator_tuned_model)\n",
    "pprint.pprint(baggingEst_model_score)"
   ]
  },
  {
   "cell_type": "code",
   "execution_count": 19,
   "id": "6699a390",
   "metadata": {
    "scrolled": true
   },
   "outputs": [
    {
     "data": {
      "image/png": "[encoded data removed]",
      "text/plain": [
       "<Figure size 720x504 with 2 Axes>"
      ]
     },
     "metadata": {
      "needs_background": "light"
     },
     "output_type": "display_data"
    }
   ],
   "source": [
    "DisplayConfusionMatrix(bagging_estimator_tuned_model, y_test)"
   ]
  },
  {
   "cell_type": "code",
   "execution_count": 20,
   "id": "0479de48",
   "metadata": {},
   "outputs": [
    {
     "data": {
      "text/plain": [
       "BaggingClassifier(base_estimator=LogisticRegression(max_iter=1000,\n",
       "                                                    random_state=1),\n",
       "                  random_state=1)"
      ]
     },
     "execution_count": 20,
     "metadata": {},
     "output_type": "execute_result"
    }
   ],
   "source": [
    "bagging_estimator_lr_model = BaggingClassifier(base_estimator=LogisticRegression(random_state=1, max_iter=1000), random_state=1)\n",
    "bagging_estimator_lr_model.fit(x_train, y_train)"
   ]
  },
  {
   "cell_type": "code",
   "execution_count": 21,
   "id": "7b81fa67",
   "metadata": {},
   "outputs": [
    {
     "name": "stdout",
     "output_type": "stream",
     "text": [
      "{'Accuracy_Test': 0.7166666666666667,\n",
      " 'Accuracy_Train': 0.74,\n",
      " 'Precision_Test': 0.5423728813559322,\n",
      " 'Precision_Train': 0.6206896551724138,\n",
      " 'Recall_Test': 0.35555555555555557,\n",
      " 'Recall_Train': 0.34285714285714286}\n"
     ]
    }
   ],
   "source": [
    "bagging_estimator_lr_model_score = GetMetricsScore(bagging_estimator_lr_model)\n",
    "pprint.pprint(bagging_estimator_lr_model_score)"
   ]
  },
  {
   "cell_type": "code",
   "execution_count": 22,
   "id": "bf48d52a",
   "metadata": {},
   "outputs": [
    {
     "data": {
      "image/png": "[encoded data removed]",
      "text/plain": [
       "<Figure size 720x504 with 2 Axes>"
      ]
     },
     "metadata": {
      "needs_background": "light"
     },
     "output_type": "display_data"
    }
   ],
   "source": [
    "DisplayConfusionMatrix(bagging_estimator_lr_model, y_test)"
   ]
  },
  {
   "cell_type": "code",
   "execution_count": 23,
   "id": "ebc51296",
   "metadata": {},
   "outputs": [
    {
     "data": {
      "text/plain": [
       "RandomForestClassifier(max_features=0.6000000000000001,\n",
       "                       max_samples=0.6000000000000001, min_samples_leaf=5,\n",
       "                       n_estimators=150, random_state=1)"
      ]
     },
     "execution_count": 23,
     "metadata": {},
     "output_type": "execute_result"
    }
   ],
   "source": [
    "randomForest_tuned_model = RandomForestClassifier(random_state=1)\n",
    "\n",
    "parameters = {\n",
    "    'min_samples_leaf'  : np.arange(5, 10),\n",
    "    'max_features'      : np.arange(0.2,0.7, 0.1),\n",
    "    'max_samples'       : np.arange(0.3, 0.7, 0.1),\n",
    "    \"n_estimators\"      : [150, 200, 250]\n",
    "}\n",
    "\n",
    "acc_scorer = metrics.make_scorer(metrics.recall_score)\n",
    "\n",
    "grid_obj = GridSearchCV(randomForest_tuned_model, parameters, scoring=acc_scorer, cv=5)\n",
    "gird_obj = grid_obj.fit(x_train, y_train)\n",
    "\n",
    "randomForest_tuned_model = grid_obj.best_estimator_\n",
    "randomForest_tuned_model.fit(x_train, y_train)\n"
   ]
  },
  {
   "cell_type": "code",
   "execution_count": 24,
   "id": "abd3e884",
   "metadata": {},
   "outputs": [
    {
     "name": "stdout",
     "output_type": "stream",
     "text": [
      "{'Accuracy_Test': 0.76,\n",
      " 'Accuracy_Train': 0.8657142857142858,\n",
      " 'Precision_Test': 0.6551724137931034,\n",
      " 'Precision_Train': 0.8918918918918919,\n",
      " 'Recall_Test': 0.4222222222222222,\n",
      " 'Recall_Train': 0.6285714285714286}\n"
     ]
    }
   ],
   "source": [
    "randomForest_tuned_model_score = GetMetricsScore(randomForest_tuned_model)\n",
    "pprint.pprint(randomForest_tuned_model_score)"
   ]
  },
  {
   "cell_type": "code",
   "execution_count": 25,
   "id": "9e03210a",
   "metadata": {},
   "outputs": [
    {
     "data": {
      "image/png": "[encoded data removed]",
      "text/plain": [
       "<Figure size 720x504 with 2 Axes>"
      ]
     },
     "metadata": {
      "needs_background": "light"
     },
     "output_type": "display_data"
    }
   ],
   "source": [
    "DisplayConfusionMatrix(randomForest_tuned_model, y_test)"
   ]
  },
  {
   "cell_type": "code",
   "execution_count": 26,
   "id": "265bd436",
   "metadata": {},
   "outputs": [
    {
     "data": {
      "text/plain": [
       "RandomForestClassifier(class_weight={0: 0.3, 1: 0.7}, max_features=0.2,\n",
       "                       max_samples=0.6000000000000001, min_samples_leaf=9,\n",
       "                       n_estimators=150, random_state=1)"
      ]
     },
     "execution_count": 26,
     "metadata": {},
     "output_type": "execute_result"
    }
   ],
   "source": [
    "randomForest_weightedScore_model = RandomForestClassifier(random_state=1)\n",
    "\n",
    "parameters = {\n",
    "    'class_weight'      : [{0: 0.3, 1: 0.7}],\n",
    "    'min_samples_leaf'  : np.arange(5, 10),\n",
    "    'max_features'      : np.arange(0.2,0.7, 0.1),\n",
    "    'max_samples'       : np.arange(0.3, 0.7, 0.1),\n",
    "    \"n_estimators\"      : [100, 150, 200, 250]\n",
    "}\n",
    "\n",
    "acc_scorer = metrics.make_scorer(metrics.recall_score)\n",
    "\n",
    "grid_obj = GridSearchCV(randomForest_weightedScore_model, parameters, scoring=acc_scorer, cv=5)\n",
    "gird_obj = grid_obj.fit(x_train, y_train)\n",
    "\n",
    "randomForest_weightedScore_model = grid_obj.best_estimator_\n",
    "randomForest_weightedScore_model.fit(x_train, y_train)\n"
   ]
  },
  {
   "cell_type": "code",
   "execution_count": 27,
   "id": "f3fd5962",
   "metadata": {},
   "outputs": [
    {
     "name": "stdout",
     "output_type": "stream",
     "text": [
      "{'Accuracy_Test': 0.7133333333333334,\n",
      " 'Accuracy_Train': 0.7957142857142857,\n",
      " 'Precision_Test': 0.5175438596491229,\n",
      " 'Precision_Train': 0.6264150943396226,\n",
      " 'Recall_Test': 0.6555555555555556,\n",
      " 'Recall_Train': 0.7904761904761904}\n"
     ]
    }
   ],
   "source": [
    "randomForest_weightedScore_model_score = GetMetricsScore(randomForest_weightedScore_model)\n",
    "pprint.pprint(randomForest_weightedScore_model_score)"
   ]
  },
  {
   "cell_type": "code",
   "execution_count": 28,
   "id": "d95e7295",
   "metadata": {},
   "outputs": [
    {
     "data": {
      "image/png": "[encoded data removed]",
      "text/plain": [
       "<Figure size 720x504 with 2 Axes>"
      ]
     },
     "metadata": {
      "needs_background": "light"
     },
     "output_type": "display_data"
    }
   ],
   "source": [
    "DisplayConfusionMatrix(randomForest_weightedScore_model, y_test)"
   ]
  },
  {
   "cell_type": "code",
   "execution_count": 34,
   "id": "55f98b77",
   "metadata": {},
   "outputs": [
    {
     "data": {
      "image/png": "[encoded data removed]",
      "text/plain": [
       "<Figure size 864x864 with 1 Axes>"
      ]
     },
     "metadata": {
      "needs_background": "light"
     },
     "output_type": "display_data"
    }
   ],
   "source": [
    "DisplayImportanceChart(randomForest_weightedScore_model)"
   ]
  },
  {
   "cell_type": "code",
   "execution_count": 85,
   "id": "1bb2e43e",
   "metadata": {},
   "outputs": [
    {
     "data": {
      "text/html": [
       "<div>\n",
       "<style scoped>\n",
       "    .dataframe tbody tr th:only-of-type {\n",
       "        vertical-align: middle;\n",
       "    }\n",
       "\n",
       "    .dataframe tbody tr th {\n",
       "        vertical-align: top;\n",
       "    }\n",
       "\n",
       "    .dataframe thead th {\n",
       "        text-align: right;\n",
       "    }\n",
       "</style>\n",
       "<table border=\"1\" class=\"dataframe\">\n",
       "  <thead>\n",
       "    <tr style=\"text-align: right;\">\n",
       "      <th></th>\n",
       "      <th>Accuracy_Test</th>\n",
       "      <th>Accuracy_Train</th>\n",
       "      <th>Recall_Test</th>\n",
       "      <th>Recall_Train</th>\n",
       "      <th>Precision_Test</th>\n",
       "      <th>Precision_Train</th>\n",
       "    </tr>\n",
       "  </thead>\n",
       "  <tbody>\n",
       "    <tr>\n",
       "      <th>RandomForest With Class Weights</th>\n",
       "      <td>0.713333</td>\n",
       "      <td>0.795714</td>\n",
       "      <td>0.655556</td>\n",
       "      <td>0.790476</td>\n",
       "      <td>0.517544</td>\n",
       "      <td>0.626415</td>\n",
       "    </tr>\n",
       "  </tbody>\n",
       "</table>\n",
       "</div>"
      ],
      "text/plain": [
       "                                 Accuracy_Test  Accuracy_Train  Recall_Test  \\\n",
       "RandomForest With Class Weights       0.713333        0.795714     0.655556   \n",
       "\n",
       "                                 Recall_Train  Precision_Test  Precision_Train  \n",
       "RandomForest With Class Weights      0.790476        0.517544         0.626415  "
      ]
     },
     "execution_count": 85,
     "metadata": {},
     "output_type": "execute_result"
    }
   ],
   "source": [
    "models = {\n",
    "    'Bagging Classifier With Default Params'    : bagging_estimator_model,\n",
    "    'Bagging Classifier Tuned'                  : bagging_estimator_tuned_model,\n",
    "    'Bagging Classifier with base_estimator=LR' : bagging_estimator_lr_model,\n",
    "    'RandomForest Model With DefaultParams'     : randomForest_model,\n",
    "    'RandomForest Model Tuned'                  : randomForest_tuned_model,\n",
    "    'RandomForest With Class Weights'           : randomForest_weightedScore_model\n",
    "}\n"
   ]
  },
  {
   "cell_type": "code",
   "execution_count": 89,
   "id": "de1f77b7",
   "metadata": {},
   "outputs": [
    {
     "name": "stdout",
     "output_type": "stream",
     "text": [
      "Bagging Classifier With Default Params \n",
      " {'Accuracy_Test': 0.7433333333333333, 'Accuracy_Train': 0.9814285714285714, 'Recall_Test': 0.4777777777777778, 'Recall_Train': 0.9428571428571428, 'Precision_Test': 0.589041095890411, 'Precision_Train': 0.9949748743718593}\n",
      "\n",
      "\n",
      "Bagging Classifier Tuned \n",
      " {'Accuracy_Test': 0.7533333333333333, 'Accuracy_Train': 0.9885714285714285, 'Recall_Test': 0.45555555555555555, 'Recall_Train': 0.9619047619047619, 'Precision_Test': 0.6212121212121212, 'Precision_Train': 1.0}\n",
      "\n",
      "\n",
      "Bagging Classifier with base_estimator=LR \n",
      " {'Accuracy_Test': 0.7166666666666667, 'Accuracy_Train': 0.74, 'Recall_Test': 0.35555555555555557, 'Recall_Train': 0.34285714285714286, 'Precision_Test': 0.5423728813559322, 'Precision_Train': 0.6206896551724138}\n",
      "\n",
      "\n",
      "RandomForest Model With DefaultParams \n",
      " {'Accuracy_Test': 0.7533333333333333, 'Accuracy_Train': 1.0, 'Recall_Test': 0.4222222222222222, 'Recall_Train': 1.0, 'Precision_Test': 0.6333333333333333, 'Precision_Train': 1.0}\n",
      "\n",
      "\n",
      "RandomForest Model Tuned \n",
      " {'Accuracy_Test': 0.76, 'Accuracy_Train': 0.8657142857142858, 'Recall_Test': 0.4222222222222222, 'Recall_Train': 0.6285714285714286, 'Precision_Test': 0.6551724137931034, 'Precision_Train': 0.8918918918918919}\n",
      "\n",
      "\n",
      "RandomForest With Class Weights \n",
      " {'Accuracy_Test': 0.7133333333333334, 'Accuracy_Train': 0.7957142857142857, 'Recall_Test': 0.6555555555555556, 'Recall_Train': 0.7904761904761904, 'Precision_Test': 0.5175438596491229, 'Precision_Train': 0.6264150943396226}\n",
      "\n",
      "\n"
     ]
    }
   ],
   "source": [
    "scores = None\n",
    "for model_name in models:\n",
    "    scores = GetMetricsScore(models[model_name])\n",
    "    print(f\"{model_name} \\n {scores}\\n\\n\")"
   ]
  },
  {
   "cell_type": "code",
   "execution_count": 91,
   "id": "9a4a5f28",
   "metadata": {},
   "outputs": [
    {
     "data": {
      "text/html": [
       "<div>\n",
       "<style scoped>\n",
       "    .dataframe tbody tr th:only-of-type {\n",
       "        vertical-align: middle;\n",
       "    }\n",
       "\n",
       "    .dataframe tbody tr th {\n",
       "        vertical-align: top;\n",
       "    }\n",
       "\n",
       "    .dataframe thead th {\n",
       "        text-align: right;\n",
       "    }\n",
       "</style>\n",
       "<table border=\"1\" class=\"dataframe\">\n",
       "  <thead>\n",
       "    <tr style=\"text-align: right;\">\n",
       "      <th></th>\n",
       "      <th>Accuracy_Test</th>\n",
       "      <th>Accuracy_Train</th>\n",
       "      <th>Recall_Test</th>\n",
       "      <th>Recall_Train</th>\n",
       "      <th>Precision_Test</th>\n",
       "      <th>Precision_Train</th>\n",
       "    </tr>\n",
       "  </thead>\n",
       "  <tbody>\n",
       "    <tr>\n",
       "      <th>Bagging Classifier With Default Params</th>\n",
       "      <td>0.743333</td>\n",
       "      <td>0.981429</td>\n",
       "      <td>0.477778</td>\n",
       "      <td>0.942857</td>\n",
       "      <td>0.589041</td>\n",
       "      <td>0.994975</td>\n",
       "    </tr>\n",
       "    <tr>\n",
       "      <th>Bagging Classifier Tuned</th>\n",
       "      <td>0.753333</td>\n",
       "      <td>0.988571</td>\n",
       "      <td>0.455556</td>\n",
       "      <td>0.961905</td>\n",
       "      <td>0.621212</td>\n",
       "      <td>1.000000</td>\n",
       "    </tr>\n",
       "    <tr>\n",
       "      <th>Bagging Classifier with base_estimator=LR</th>\n",
       "      <td>0.716667</td>\n",
       "      <td>0.740000</td>\n",
       "      <td>0.355556</td>\n",
       "      <td>0.342857</td>\n",
       "      <td>0.542373</td>\n",
       "      <td>0.620690</td>\n",
       "    </tr>\n",
       "    <tr>\n",
       "      <th>RandomForest Model With DefaultParams</th>\n",
       "      <td>0.753333</td>\n",
       "      <td>1.000000</td>\n",
       "      <td>0.422222</td>\n",
       "      <td>1.000000</td>\n",
       "      <td>0.633333</td>\n",
       "      <td>1.000000</td>\n",
       "    </tr>\n",
       "    <tr>\n",
       "      <th>RandomForest Model Tuned</th>\n",
       "      <td>0.760000</td>\n",
       "      <td>0.865714</td>\n",
       "      <td>0.422222</td>\n",
       "      <td>0.628571</td>\n",
       "      <td>0.655172</td>\n",
       "      <td>0.891892</td>\n",
       "    </tr>\n",
       "    <tr>\n",
       "      <th>RandomForest With Class Weights</th>\n",
       "      <td>0.713333</td>\n",
       "      <td>0.795714</td>\n",
       "      <td>0.655556</td>\n",
       "      <td>0.790476</td>\n",
       "      <td>0.517544</td>\n",
       "      <td>0.626415</td>\n",
       "    </tr>\n",
       "  </tbody>\n",
       "</table>\n",
       "</div>"
      ],
      "text/plain": [
       "                                           Accuracy_Test  Accuracy_Train  \\\n",
       "Bagging Classifier With Default Params          0.743333        0.981429   \n",
       "Bagging Classifier Tuned                        0.753333        0.988571   \n",
       "Bagging Classifier with base_estimator=LR       0.716667        0.740000   \n",
       "RandomForest Model With DefaultParams           0.753333        1.000000   \n",
       "RandomForest Model Tuned                        0.760000        0.865714   \n",
       "RandomForest With Class Weights                 0.713333        0.795714   \n",
       "\n",
       "                                           Recall_Test  Recall_Train  \\\n",
       "Bagging Classifier With Default Params        0.477778      0.942857   \n",
       "Bagging Classifier Tuned                      0.455556      0.961905   \n",
       "Bagging Classifier with base_estimator=LR     0.355556      0.342857   \n",
       "RandomForest Model With DefaultParams         0.422222      1.000000   \n",
       "RandomForest Model Tuned                      0.422222      0.628571   \n",
       "RandomForest With Class Weights               0.655556      0.790476   \n",
       "\n",
       "                                           Precision_Test  Precision_Train  \n",
       "Bagging Classifier With Default Params           0.589041         0.994975  \n",
       "Bagging Classifier Tuned                         0.621212         1.000000  \n",
       "Bagging Classifier with base_estimator=LR        0.542373         0.620690  \n",
       "RandomForest Model With DefaultParams            0.633333         1.000000  \n",
       "RandomForest Model Tuned                         0.655172         0.891892  \n",
       "RandomForest With Class Weights                  0.517544         0.626415  "
      ]
     },
     "execution_count": 91,
     "metadata": {},
     "output_type": "execute_result"
    }
   ],
   "source": [
    "scores_overview_df = pd.DataFrame(columns=scores.keys())\n",
    "\n",
    "for model_name in models:\n",
    "    scores = GetMetricsScore(models[model_name])\n",
    "    scores_overview_df.loc[model_name] = scores\n",
    "\n",
    "scores_overview_df.head(10)"
   ]
  },
  {
   "cell_type": "code",
   "execution_count": null,
   "id": "d67e3bde",
   "metadata": {},
   "outputs": [],
   "source": []
  }
 ],
 "metadata": {
  "kernelspec": {
   "display_name": "Python 3",
   "language": "python",
   "name": "python3"
  },
  "language_info": {
   "codemirror_mode": {
    "name": "ipython",
    "version": 3
   },
   "file_extension": ".py",
   "mimetype": "text/x-python",
   "name": "python",
   "nbconvert_exporter": "python",
   "pygments_lexer": "ipython3",
   "version": "3.8.8"
  }
 },
 "nbformat": 4,
 "nbformat_minor": 5
}
