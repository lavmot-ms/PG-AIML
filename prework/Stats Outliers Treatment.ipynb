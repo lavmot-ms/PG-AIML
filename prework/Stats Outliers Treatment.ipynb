{
 "cells": [
  {
   "cell_type": "code",
   "execution_count": 1,
   "id": "e5bb7ef0",
   "metadata": {},
   "outputs": [],
   "source": [
    "# To help with reading and manipulation of data\n",
    "import numpy as np\n",
    "import pandas as pd\n",
    "import pprint\n",
    "\n",
    "# To help with data visualization\n",
    "import matplotlib.pyplot as plt\n",
    "import seaborn as sns\n",
    "\n",
    "# To split the data\n",
    "from sklearn.model_selection import train_test_split\n",
    "\n",
    "from sklearn.linear_model import LogisticRegression\n",
    "\n",
    "# to create k folds of data and get cross validation score\n",
    "from sklearn.model_selection import KFold\n",
    "from sklearn.model_selection import cross_val_score\n",
    "from sklearn.model_selection import StratifiedKFold\n",
    "\n",
    "# to create pipeline and make_pipeline\n",
    "from sklearn.pipeline import Pipeline, make_pipeline\n",
    "\n",
    "# to use standard scaler\n",
    "from sklearn.preprocessing import StandardScaler\n",
    "\n",
    "# To impute missing values\n",
    "from sklearn.impute import SimpleImputer\n",
    "\n",
    "# To build a Random forest classifier\n",
    "from sklearn.ensemble import AdaBoostClassifier, BaggingClassifier, RandomForestClassifier\n",
    "\n",
    "# To tune a model\n",
    "from sklearn.model_selection import GridSearchCV\n",
    "from sklearn.model_selection import RandomizedSearchCV\n",
    "from sklearn.tree import DecisionTreeClassifier\n",
    "\n",
    "# To get different performance metrics\n",
    "import sklearn.metrics as metrics\n",
    "from sklearn.metrics import (\n",
    "    classification_report,\n",
    "    confusion_matrix,\n",
    "    recall_score,\n",
    "    accuracy_score,\n",
    "    precision_score,\n",
    "    f1_score,\n",
    ")\n",
    "\n",
    "# To undersample and oversample the data\n",
    "from imblearn.over_sampling import SMOTE\n",
    "from imblearn.under_sampling import RandomUnderSampler\n",
    "\n",
    "\n",
    "# To suppress warnings\n",
    "import warnings"
   ]
  },
  {
   "cell_type": "code",
   "execution_count": 97,
   "id": "439cbe1e",
   "metadata": {},
   "outputs": [
    {
     "data": {
      "text/html": [
       "<div>\n",
       "<style scoped>\n",
       "    .dataframe tbody tr th:only-of-type {\n",
       "        vertical-align: middle;\n",
       "    }\n",
       "\n",
       "    .dataframe tbody tr th {\n",
       "        vertical-align: top;\n",
       "    }\n",
       "\n",
       "    .dataframe thead th {\n",
       "        text-align: right;\n",
       "    }\n",
       "</style>\n",
       "<table border=\"1\" class=\"dataframe\">\n",
       "  <thead>\n",
       "    <tr style=\"text-align: right;\">\n",
       "      <th></th>\n",
       "      <th>feature_1</th>\n",
       "      <th>feature_2</th>\n",
       "      <th>target</th>\n",
       "    </tr>\n",
       "  </thead>\n",
       "  <tbody>\n",
       "    <tr>\n",
       "      <th>0</th>\n",
       "      <td>1</td>\n",
       "      <td>8</td>\n",
       "      <td>1</td>\n",
       "    </tr>\n",
       "    <tr>\n",
       "      <th>1</th>\n",
       "      <td>1</td>\n",
       "      <td>60</td>\n",
       "      <td>2</td>\n",
       "    </tr>\n",
       "    <tr>\n",
       "      <th>2</th>\n",
       "      <td>6</td>\n",
       "      <td>6</td>\n",
       "      <td>5</td>\n",
       "    </tr>\n",
       "    <tr>\n",
       "      <th>3</th>\n",
       "      <td>13</td>\n",
       "      <td>13</td>\n",
       "      <td>15</td>\n",
       "    </tr>\n",
       "    <tr>\n",
       "      <th>4</th>\n",
       "      <td>13</td>\n",
       "      <td>13</td>\n",
       "      <td>13</td>\n",
       "    </tr>\n",
       "    <tr>\n",
       "      <th>5</th>\n",
       "      <td>14</td>\n",
       "      <td>14</td>\n",
       "      <td>18</td>\n",
       "    </tr>\n",
       "    <tr>\n",
       "      <th>6</th>\n",
       "      <td>14</td>\n",
       "      <td>14</td>\n",
       "      <td>14</td>\n",
       "    </tr>\n",
       "    <tr>\n",
       "      <th>7</th>\n",
       "      <td>15</td>\n",
       "      <td>15</td>\n",
       "      <td>15</td>\n",
       "    </tr>\n",
       "    <tr>\n",
       "      <th>8</th>\n",
       "      <td>15</td>\n",
       "      <td>15</td>\n",
       "      <td>14</td>\n",
       "    </tr>\n",
       "    <tr>\n",
       "      <th>9</th>\n",
       "      <td>16</td>\n",
       "      <td>16</td>\n",
       "      <td>16</td>\n",
       "    </tr>\n",
       "    <tr>\n",
       "      <th>10</th>\n",
       "      <td>18</td>\n",
       "      <td>18</td>\n",
       "      <td>18</td>\n",
       "    </tr>\n",
       "    <tr>\n",
       "      <th>11</th>\n",
       "      <td>18</td>\n",
       "      <td>18</td>\n",
       "      <td>18</td>\n",
       "    </tr>\n",
       "    <tr>\n",
       "      <th>12</th>\n",
       "      <td>18</td>\n",
       "      <td>18</td>\n",
       "      <td>18</td>\n",
       "    </tr>\n",
       "    <tr>\n",
       "      <th>13</th>\n",
       "      <td>19</td>\n",
       "      <td>19</td>\n",
       "      <td>25</td>\n",
       "    </tr>\n",
       "    <tr>\n",
       "      <th>14</th>\n",
       "      <td>100</td>\n",
       "      <td>100</td>\n",
       "      <td>30</td>\n",
       "    </tr>\n",
       "    <tr>\n",
       "      <th>15</th>\n",
       "      <td>300</td>\n",
       "      <td>300</td>\n",
       "      <td>14</td>\n",
       "    </tr>\n",
       "  </tbody>\n",
       "</table>\n",
       "</div>"
      ],
      "text/plain": [
       "    feature_1  feature_2  target\n",
       "0           1          8       1\n",
       "1           1         60       2\n",
       "2           6          6       5\n",
       "3          13         13      15\n",
       "4          13         13      13\n",
       "5          14         14      18\n",
       "6          14         14      14\n",
       "7          15         15      15\n",
       "8          15         15      14\n",
       "9          16         16      16\n",
       "10         18         18      18\n",
       "11         18         18      18\n",
       "12         18         18      18\n",
       "13         19         19      25\n",
       "14        100        100      30\n",
       "15        300        300      14"
      ]
     },
     "execution_count": 97,
     "metadata": {},
     "output_type": "execute_result"
    }
   ],
   "source": [
    "data = pd.Series([1, 1, 6, 13, 13, 14, 14, 15, 15, 16, 18, 18, 18, 19, 100, 300], name=\"feature_1\")\n",
    "data2 = pd.Series([8, 60, 6, 13, 13, 14, 14, 15, 15, 16, 18, 18, 18, 19, 100, 300], name=\"feature_2\")\n",
    "target = pd.Series([1, 2, 5, 15, 13, 18, 14, 15, 14, 16, 18, 18, 18, 25, 30, 14], name=\"target\")\n",
    "main_data = pd.concat([data, data2, target], axis=1).reset_index()\n",
    "main_data.drop(\"index\", axis=1, inplace=True)\n",
    "\n",
    "main_data"
   ]
  },
  {
   "cell_type": "code",
   "execution_count": 101,
   "id": "6760a344",
   "metadata": {},
   "outputs": [
    {
     "data": {
      "text/html": [
       "<div>\n",
       "<style scoped>\n",
       "    .dataframe tbody tr th:only-of-type {\n",
       "        vertical-align: middle;\n",
       "    }\n",
       "\n",
       "    .dataframe tbody tr th {\n",
       "        vertical-align: top;\n",
       "    }\n",
       "\n",
       "    .dataframe thead th {\n",
       "        text-align: right;\n",
       "    }\n",
       "</style>\n",
       "<table border=\"1\" class=\"dataframe\">\n",
       "  <thead>\n",
       "    <tr style=\"text-align: right;\">\n",
       "      <th></th>\n",
       "      <th>target</th>\n",
       "      <th>After</th>\n",
       "    </tr>\n",
       "  </thead>\n",
       "  <tbody>\n",
       "    <tr>\n",
       "      <th>feature_1</th>\n",
       "      <td>4317.792826</td>\n",
       "      <td>8541.529299</td>\n",
       "    </tr>\n",
       "    <tr>\n",
       "      <th>feature_2</th>\n",
       "      <td>2064.628388</td>\n",
       "      <td>4084.282080</td>\n",
       "    </tr>\n",
       "    <tr>\n",
       "      <th>target</th>\n",
       "      <td>22081.000000</td>\n",
       "      <td>43681.000000</td>\n",
       "    </tr>\n",
       "  </tbody>\n",
       "</table>\n",
       "</div>"
      ],
      "text/plain": [
       "                 target         After\n",
       "feature_1   4317.792826   8541.529299\n",
       "feature_2   2064.628388   4084.282080\n",
       "target     22081.000000  43681.000000"
      ]
     },
     "execution_count": 101,
     "metadata": {},
     "output_type": "execute_result"
    }
   ],
   "source": [
    "import random\n",
    "def addTwo(x):\n",
    "    return x * random.randrange(20, 500, 3) * random.randrange(20, 500, 3)\n",
    "\n",
    "main_data_copy = main_data.copy()\n",
    "main_data_copy = main_data_copy.apply(addTwo)\n",
    "corl = main_data_copy.corr().apply(addTwo)\n",
    "\n",
    "corl.columns = corl.columns.str.replace('target', 'After')\n",
    "\n",
    "df = pd.concat([main_data.corr()[['target']].apply(addTwo), corl[['After']]], axis=1)\n",
    "sns.relplot(data=df, kind=\"line\")"
   ]
  },
  {
   "cell_type": "code",
   "execution_count": 102,
   "id": "533f9647",
   "metadata": {},
   "outputs": [
    {
     "data": {
      "text/plain": [
       "<seaborn.axisgrid.FacetGrid at 0x7fbf57dffd60>"
      ]
     },
     "execution_count": 102,
     "metadata": {},
     "output_type": "execute_result"
    },
    {
     "data": {
      "image/png": "[encoded data removed]",
      "text/plain": [
       "<Figure size 426.375x360 with 1 Axes>"
      ]
     },
     "metadata": {
      "needs_background": "light"
     },
     "output_type": "display_data"
    }
   ],
   "source": [
    "sns.relplot(data=df, kind=\"line\")"
   ]
  },
  {
   "cell_type": "code",
   "execution_count": 3,
   "id": "ba919350",
   "metadata": {},
   "outputs": [
    {
     "data": {
      "image/png": "[encoded data removed]",
      "text/plain": [
       "<Figure size 1296x1296 with 2 Axes>"
      ]
     },
     "metadata": {
      "needs_background": "light"
     },
     "output_type": "display_data"
    }
   ],
   "source": [
    "def corr():\n",
    "    fig, ax = plt.subplots(figsize=(18,18)) \n",
    "    sns.heatmap(data=main_data.corr(), annot=True, linewidths=.5, ax=ax)\n",
    "    plt.show()\n",
    "corr()"
   ]
  },
  {
   "cell_type": "code",
   "execution_count": 4,
   "id": "a8e39dfa",
   "metadata": {},
   "outputs": [
    {
     "data": {
      "image/png": "[encoded data removed]",
      "text/plain": [
       "<Figure size 1080x504 with 3 Axes>"
      ]
     },
     "metadata": {
      "needs_background": "light"
     },
     "output_type": "display_data"
    }
   ],
   "source": [
    "def PlotBoxes():\n",
    "    columns = main_data.select_dtypes(include=['float', 'int64']).columns.tolist()\n",
    "    fig, axs = plt.subplots(\n",
    "        nrows=len(columns),\n",
    "        ncols=1,                                                                # Number of columns of the grid.\n",
    "        figsize=(15,7),                                                         # The size each figure\n",
    "        constrained_layout=True)                                                # To avoid overlap between values\n",
    "    \n",
    "    count =0\n",
    "    for ax in axs.flat:\n",
    "        column_name = columns[count]\n",
    "        ax = sns.boxplot(data=main_data[column_name], orient=\"h\", palette=\"Set2\", ax = ax)\n",
    "        ax.set_xlabel(column_name)                                           \n",
    "        ax.set_title(column_name + ' Profile', fontsize=14)\n",
    "        count = count + 1\n",
    "        \n",
    "PlotBoxes()"
   ]
  },
  {
   "cell_type": "code",
   "execution_count": 5,
   "id": "057ff66c",
   "metadata": {},
   "outputs": [],
   "source": [
    "def Get_IQR(data):\n",
    "    quartiles = np.quantile(data, [.25, .75])\n",
    "    iqr = (quartiles[1] - quartiles[0])\n",
    "    print(f'Q1 = {quartiles[0]}, Q3 = {quartiles[1]}, IQR = {iqr}')\n",
    "    return {\n",
    "        \"Q1\": quartiles[0],\n",
    "        \"Q3\": quartiles[1],\n",
    "        \"IQR\": iqr\n",
    "    }"
   ]
  },
  {
   "cell_type": "code",
   "execution_count": 6,
   "id": "5cc4737e",
   "metadata": {},
   "outputs": [],
   "source": [
    "def ReplaceOutlier(x, replacement_value, quatiles, scale):\n",
    "    if x < quatiles[\"Q1\"] - scale * quatiles[\"IQR\"]  or x > quatiles[\"Q3\"] + scale * quatiles[\"IQR\"]:\n",
    "        return replacement_value\n",
    "    return x"
   ]
  },
  {
   "cell_type": "code",
   "execution_count": 7,
   "id": "a9b45c63",
   "metadata": {},
   "outputs": [
    {
     "name": "stdout",
     "output_type": "stream",
     "text": [
      "Q1 = 13.0, Q3 = 18.0, IQR = 5.0\n",
      "IQR Scale: 0, Scale Corrolation : 0.8442634687045236\n",
      "Q1 = 13.0, Q3 = 18.0, IQR = 5.0\n",
      "IQR Scale: 1, Scale Corrolation : 0.8442634687045236\n",
      "Q1 = 13.0, Q3 = 18.0, IQR = 5.0\n",
      "IQR Scale: 2, Scale Corrolation : 0.8442634687045236\n",
      "Q1 = 13.0, Q3 = 18.0, IQR = 5.0\n",
      "IQR Scale: 3, Scale Corrolation : 0.8442634687045236\n",
      "Q1 = 13.0, Q3 = 18.0, IQR = 5.0\n",
      "IQR Scale: 4, Scale Corrolation : 0.8442634687045236\n",
      "Q1 = 13.0, Q3 = 18.0, IQR = 5.0\n",
      "IQR Scale: 5, Scale Corrolation : 0.8442634687045236\n",
      "Q1 = 13.0, Q3 = 18.0, IQR = 5.0\n",
      "IQR Scale: 6, Scale Corrolation : 0.8442634687045236\n",
      "Q1 = 13.0, Q3 = 18.0, IQR = 5.0\n",
      "IQR Scale: 7, Scale Corrolation : 0.8442634687045236\n",
      "Q1 = 13.0, Q3 = 18.0, IQR = 5.0\n",
      "IQR Scale: 8, Scale Corrolation : 0.8442634687045236\n",
      "Q1 = 13.0, Q3 = 18.0, IQR = 5.0\n",
      "IQR Scale: 9, Scale Corrolation : 0.8442634687045236\n",
      "Q1 = 13.75, Q3 = 18.25, IQR = 4.5\n",
      "IQR Scale: 0, Scale Corrolation : 0.6595279218008461\n",
      "Q1 = 13.75, Q3 = 18.25, IQR = 4.5\n",
      "IQR Scale: 1, Scale Corrolation : 0.6595279218008461\n",
      "Q1 = 13.75, Q3 = 18.25, IQR = 4.5\n",
      "IQR Scale: 2, Scale Corrolation : 0.6595279218008461\n",
      "Q1 = 13.75, Q3 = 18.25, IQR = 4.5\n",
      "IQR Scale: 3, Scale Corrolation : 0.6595279218008461\n",
      "Q1 = 13.75, Q3 = 18.25, IQR = 4.5\n",
      "IQR Scale: 4, Scale Corrolation : 0.6595279218008461\n",
      "Q1 = 13.75, Q3 = 18.25, IQR = 4.5\n",
      "IQR Scale: 5, Scale Corrolation : 0.6595279218008461\n",
      "Q1 = 13.75, Q3 = 18.25, IQR = 4.5\n",
      "IQR Scale: 6, Scale Corrolation : 0.6595279218008461\n",
      "Q1 = 13.75, Q3 = 18.25, IQR = 4.5\n",
      "IQR Scale: 7, Scale Corrolation : 0.6595279218008461\n",
      "Q1 = 13.75, Q3 = 18.25, IQR = 4.5\n",
      "IQR Scale: 8, Scale Corrolation : 0.6595279218008461\n",
      "Q1 = 13.75, Q3 = 18.25, IQR = 4.5\n",
      "IQR Scale: 9, Scale Corrolation : 0.6595279218008461\n"
     ]
    }
   ],
   "source": [
    "\n",
    "def BestCorrOutlierTreatment(feature_column, target, df):\n",
    "    max_corr = 0.0\n",
    "    best_feature = df[feature_column]\n",
    "    for r in range(10):\n",
    "        main_data_copy = df.copy()\n",
    "        main_data_copy[feature_column] = main_data_copy[feature_column].apply(\n",
    "            ReplaceOutlier,\n",
    "            convert_dtype     = True,\n",
    "            replacement_value = main_data_copy[feature_column].median(),\n",
    "            scale             = 4, \n",
    "            quatiles          = Get_IQR(main_data_copy[feature_column]))\n",
    "        \n",
    "        current_corr = main_data_copy.corr()[feature_column][target]\n",
    "        print(f\"IQR Scale: {r}, Scale Corrolation : {current_corr}\")\n",
    "        \n",
    "        if current_corr > max_corr:\n",
    "            max_corr = current_corr\n",
    "            best_feature = main_data_copy[feature_column]\n",
    "            \n",
    "    return best_feature\n",
    "        \n",
    "main_data['feature_1'] = BestCorrOutlierTreatment('feature_1', 'target', main_data)\n",
    "main_data['feature_2'] = BestCorrOutlierTreatment('feature_2', 'target', main_data)"
   ]
  },
  {
   "cell_type": "code",
   "execution_count": 8,
   "id": "5a55d5bf",
   "metadata": {},
   "outputs": [
    {
     "data": {
      "image/png": "[encoded data removed]",
      "text/plain": [
       "<Figure size 1080x504 with 3 Axes>"
      ]
     },
     "metadata": {
      "needs_background": "light"
     },
     "output_type": "display_data"
    }
   ],
   "source": [
    "PlotBoxes()"
   ]
  },
  {
   "cell_type": "code",
   "execution_count": 9,
   "id": "fcb7a6d2",
   "metadata": {},
   "outputs": [
    {
     "data": {
      "image/png": "[encoded data removed]",
      "text/plain": [
       "<Figure size 1296x1296 with 2 Axes>"
      ]
     },
     "metadata": {
      "needs_background": "light"
     },
     "output_type": "display_data"
    }
   ],
   "source": [
    "corr()"
   ]
  },
  {
   "cell_type": "code",
   "execution_count": 10,
   "id": "bdf0971c",
   "metadata": {},
   "outputs": [
    {
     "data": {
      "text/html": [
       "<div>\n",
       "<style scoped>\n",
       "    .dataframe tbody tr th:only-of-type {\n",
       "        vertical-align: middle;\n",
       "    }\n",
       "\n",
       "    .dataframe tbody tr th {\n",
       "        vertical-align: top;\n",
       "    }\n",
       "\n",
       "    .dataframe thead th {\n",
       "        text-align: right;\n",
       "    }\n",
       "</style>\n",
       "<table border=\"1\" class=\"dataframe\">\n",
       "  <thead>\n",
       "    <tr style=\"text-align: right;\">\n",
       "      <th></th>\n",
       "      <th>feature_1</th>\n",
       "      <th>feature_2</th>\n",
       "      <th>target</th>\n",
       "    </tr>\n",
       "  </thead>\n",
       "  <tbody>\n",
       "    <tr>\n",
       "      <th>0</th>\n",
       "      <td>1.0</td>\n",
       "      <td>8.0</td>\n",
       "      <td>1</td>\n",
       "    </tr>\n",
       "    <tr>\n",
       "      <th>1</th>\n",
       "      <td>1.0</td>\n",
       "      <td>15.5</td>\n",
       "      <td>2</td>\n",
       "    </tr>\n",
       "    <tr>\n",
       "      <th>2</th>\n",
       "      <td>6.0</td>\n",
       "      <td>6.0</td>\n",
       "      <td>5</td>\n",
       "    </tr>\n",
       "    <tr>\n",
       "      <th>3</th>\n",
       "      <td>13.0</td>\n",
       "      <td>13.0</td>\n",
       "      <td>15</td>\n",
       "    </tr>\n",
       "    <tr>\n",
       "      <th>4</th>\n",
       "      <td>13.0</td>\n",
       "      <td>13.0</td>\n",
       "      <td>13</td>\n",
       "    </tr>\n",
       "    <tr>\n",
       "      <th>5</th>\n",
       "      <td>14.0</td>\n",
       "      <td>14.0</td>\n",
       "      <td>18</td>\n",
       "    </tr>\n",
       "    <tr>\n",
       "      <th>6</th>\n",
       "      <td>14.0</td>\n",
       "      <td>14.0</td>\n",
       "      <td>14</td>\n",
       "    </tr>\n",
       "    <tr>\n",
       "      <th>7</th>\n",
       "      <td>15.0</td>\n",
       "      <td>15.0</td>\n",
       "      <td>15</td>\n",
       "    </tr>\n",
       "    <tr>\n",
       "      <th>8</th>\n",
       "      <td>15.0</td>\n",
       "      <td>15.0</td>\n",
       "      <td>14</td>\n",
       "    </tr>\n",
       "    <tr>\n",
       "      <th>9</th>\n",
       "      <td>16.0</td>\n",
       "      <td>16.0</td>\n",
       "      <td>16</td>\n",
       "    </tr>\n",
       "    <tr>\n",
       "      <th>10</th>\n",
       "      <td>18.0</td>\n",
       "      <td>18.0</td>\n",
       "      <td>18</td>\n",
       "    </tr>\n",
       "    <tr>\n",
       "      <th>11</th>\n",
       "      <td>18.0</td>\n",
       "      <td>18.0</td>\n",
       "      <td>18</td>\n",
       "    </tr>\n",
       "    <tr>\n",
       "      <th>12</th>\n",
       "      <td>18.0</td>\n",
       "      <td>18.0</td>\n",
       "      <td>18</td>\n",
       "    </tr>\n",
       "    <tr>\n",
       "      <th>13</th>\n",
       "      <td>19.0</td>\n",
       "      <td>19.0</td>\n",
       "      <td>25</td>\n",
       "    </tr>\n",
       "    <tr>\n",
       "      <th>14</th>\n",
       "      <td>15.0</td>\n",
       "      <td>15.5</td>\n",
       "      <td>30</td>\n",
       "    </tr>\n",
       "    <tr>\n",
       "      <th>15</th>\n",
       "      <td>15.0</td>\n",
       "      <td>15.5</td>\n",
       "      <td>14</td>\n",
       "    </tr>\n",
       "  </tbody>\n",
       "</table>\n",
       "</div>"
      ],
      "text/plain": [
       "    feature_1  feature_2  target\n",
       "0         1.0        8.0       1\n",
       "1         1.0       15.5       2\n",
       "2         6.0        6.0       5\n",
       "3        13.0       13.0      15\n",
       "4        13.0       13.0      13\n",
       "5        14.0       14.0      18\n",
       "6        14.0       14.0      14\n",
       "7        15.0       15.0      15\n",
       "8        15.0       15.0      14\n",
       "9        16.0       16.0      16\n",
       "10       18.0       18.0      18\n",
       "11       18.0       18.0      18\n",
       "12       18.0       18.0      18\n",
       "13       19.0       19.0      25\n",
       "14       15.0       15.5      30\n",
       "15       15.0       15.5      14"
      ]
     },
     "execution_count": 10,
     "metadata": {},
     "output_type": "execute_result"
    }
   ],
   "source": [
    "main_data.head(20)"
   ]
  },
  {
   "cell_type": "code",
   "execution_count": null,
   "id": "bea7cb61",
   "metadata": {},
   "outputs": [],
   "source": []
  }
 ],
 "metadata": {
  "kernelspec": {
   "display_name": "Python 3 (ipykernel)",
   "language": "python",
   "name": "python3"
  },
  "language_info": {
   "codemirror_mode": {
    "name": "ipython",
    "version": 3
   },
   "file_extension": ".py",
   "mimetype": "text/x-python",
   "name": "python",
   "nbconvert_exporter": "python",
   "pygments_lexer": "ipython3",
   "version": "3.8.11"
  }
 },
 "nbformat": 4,
 "nbformat_minor": 5
}
