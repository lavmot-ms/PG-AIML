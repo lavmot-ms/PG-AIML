{
 "cells": [
  {
   "cell_type": "code",
   "execution_count": null,
   "id": "a72e7098",
   "metadata": {},
   "outputs": [],
   "source": [
    "# To help with reading and manipulation of data\n",
    "import numpy as np\n",
    "import pandas as pd\n",
    "\n",
    "# To help with data visualization\n",
    "import matplotlib.pyplot as plt\n",
    "import seaborn as sns\n",
    "\n",
    "# To split the data\n",
    "from sklearn.model_selection import train_test_split\n",
    "\n",
    "from sklearn.linear_model import LogisticRegression\n",
    "\n",
    "# to create k folds of data and get cross validation score\n",
    "from sklearn.model_selection import KFold\n",
    "from sklearn.model_selection import cross_val_score\n",
    "\n",
    "# to create pipeline and make_pipeline\n",
    "from sklearn.pipeline import Pipeline, make_pipeline\n",
    "\n",
    "# to use standard scaler\n",
    "from sklearn.preprocessing import StandardScaler\n",
    "\n",
    "# To impute missing values\n",
    "from sklearn.impute import SimpleImputer\n",
    "\n",
    "# To build a Random forest classifier\n",
    "from sklearn.ensemble import RandomForestClassifier\n",
    "\n",
    "# To tune a model\n",
    "from sklearn.model_selection import GridSearchCV\n",
    "from sklearn.model_selection import RandomizedSearchCV\n",
    "\n",
    "# To get different performance metrics\n",
    "import sklearn.metrics as metrics\n",
    "from sklearn.metrics import (\n",
    "    classification_report,\n",
    "    confusion_matrix,\n",
    "    recall_score,\n",
    "    accuracy_score,\n",
    "    precision_score,\n",
    "    f1_score,\n",
    ")\n",
    "\n",
    "# To undersample and oversample the data\n",
    "from imblearn.over_sampling import SMOTE\n",
    "from imblearn.under_sampling import RandomUnderSampler\n",
    "\n",
    "\n",
    "# To suppress warnings\n",
    "import warnings\n",
    "\n",
    "warnings.filterwarnings(\"ignore\")\n",
    "df = pd.read_csv('Cardiac.csv')"
   ]
  },
  {
   "cell_type": "code",
   "execution_count": null,
   "id": "6caf1a38",
   "metadata": {},
   "outputs": [],
   "source": [
    "def ConvertColTo(toType, column_names=np.nan, df = np.nan):\n",
    "    for col_name in column_names:\n",
    "        if col_name != 'TARGET':\n",
    "            df[col_name] = df[col_name].astype(toType)\n",
    "\n",
    "ConvertColTo(\"category\", ['UnderRisk', 'Gender'], df)\n",
    "df.info()"
   ]
  },
  {
   "cell_type": "code",
   "execution_count": null,
   "id": "e6033fb2",
   "metadata": {},
   "outputs": [],
   "source": [
    "# Functions to calculate different metrics\n",
    "\n",
    "def DisplayConfusionMatrix(model, y_actual, labels=[1,0]):\n",
    "    y_predict             = model.predict(x_test)\n",
    "    confusion_matrix      = metrics.confusion_matrix(y_actual, y_predict, labels=[0, 1])\n",
    "    \n",
    "    confusion_matix_df = pd.DataFrame(\n",
    "        data    = confusion_matrix,\n",
    "        index   = [i for i in [\"Actual No\", \"Actual Yes\"]],\n",
    "        columns = [i for i in [\"Predicted - No\", \"Predicted - Yes\"]])\n",
    "    \n",
    "    group_counts     = [\"{0:0.0f}\".format(value) for value in confusion_matrix.flatten()]\n",
    "    group_percetages = [\"{0:.2%}\".format(value) for value in confusion_matrix.flatten()/np.sum(confusion_matrix)]\n",
    "    \n",
    "    labels = [f\"{v1}\\n{v2}\" for v1, v2 in zip(group_counts, group_percetages)]\n",
    "    labels = np.array(labels).reshape(2, 2)\n",
    "    plt.figure(figsize= (10,7))\n",
    "    sns.heatmap(confusion_matix_df, annot=labels,fmt='')\n",
    "    plt.ylabel(\"True Label\")\n",
    "    plt.xlabel(\"Predicted Label\")\n",
    "    \n",
    "def GetMetricsScore(model):\n",
    "    \n",
    "    pred_train      = model.predict(x_train)\n",
    "    pred_test       = model.predict(x_test)\n",
    "    \n",
    "    train_accuracy  = model.score(x_train, y_train)\n",
    "    test_accuracy   = model.score(x_test, y_test)\n",
    "    \n",
    "    train_recall    = metrics.recall_score(y_train, pred_train)\n",
    "    test_recall     = metrics.recall_score(y_test, pred_test)\n",
    "    \n",
    "    train_precision = metrics.precision_score(y_train, pred_train)\n",
    "    test_precision  = metrics.precision_score(y_test, pred_test)\n",
    "\n",
    "    f1_score_train  = 2 * ((train_precision * train_recall)/(train_precision + train_recall))\n",
    "    f1_score_test   = 2 * ((test_precision * test_recall)/(test_precision + test_recall))\n",
    "    \n",
    "    return {\n",
    "        'Accuracy_Test'   : test_accuracy,\n",
    "        'Accuracy_Train'  : train_accuracy,\n",
    "        'Recall_Test'     : test_recall,\n",
    "        'Recall_Train'    : train_recall,\n",
    "        'Precision_Test'  : test_precision,\n",
    "        'Precision_Train' : train_precision,\n",
    "        'F1_Score_Train'  : f1_score_train,\n",
    "        'F1_Score_Test'   : f1_score_test\n",
    "    }\n",
    "        \n",
    "\n",
    "def DisplayImportance(model):\n",
    "    gini_importances = pd.DataFrame(\n",
    "        data    = model.feature_importances_, \n",
    "        columns = [\"Imp\"],\n",
    "        index   = x_train.columns).sort_values(by = \"Imp\")\n",
    "    \n",
    "    print(gini_importances)\n",
    "    \n",
    "def DisplayImportanceChart(model):\n",
    "    importances = model.feature_importances_\n",
    "    indices     = np.argsort(importances)\n",
    "\n",
    "    plt.figure(figsize=(12, 12))\n",
    "    plt.title('Feature Importance')\n",
    "    plt.barh(range(len(indices)), importances[indices], color='violet', align='center')\n",
    "    plt.yticks(range(len(indices)), [list(X.columns)[i] for i in indices])\n",
    "    plt.xlabel('Relative Importance')\n",
    "    plt.show()\n",
    "    \n",
    "def PlotTree(model, size= [20, 30]):\n",
    "    plt.figure(figsize=(size[0],size[1]))\n",
    "    tree.plot_tree(model, feature_names=feature_names, filled=True, fontsize=9, node_ids=True, class_names=True)\n",
    "    plt.show()\n",
    "    \n",
    "def PrintCoeficients(model):\n",
    "    coefs = pd.DataFrame(\n",
    "        np.append(model.coef_, model.intercept_),\n",
    "        index=x_train.columns.tolist() + [\"Intercept\"],\n",
    "        columns=[\"Coefficients\"],\n",
    "    )\n",
    "\n",
    "    coefs.sort_values('Coefficients')"
   ]
  },
  {
   "cell_type": "code",
   "execution_count": null,
   "id": "2679a53c",
   "metadata": {},
   "outputs": [],
   "source": [
    "oneHotCols = df.select_dtypes(include=['category']).columns.tolist()\n",
    "df = pd.get_dummies(df, columns=['Gender'], drop_first=True)\n",
    "\n",
    "replace_struct = {\n",
    "    \"UnderRisk\"            : {\"no\":0, \"yes\":1}\n",
    "}\n",
    "df = df.replace(replace_struct)\n",
    "\n",
    "# separating data into X and Y\n",
    "X = df.drop(['UnderRisk'], axis = 1)\n",
    "y = df['UnderRisk']\n",
    "\n",
    "# first we split data into 2 parts, say temporary and test\n",
    "x_temp, x_test, y_temp, y_test = train_test_split(\n",
    "    X, y, test_size=0.2, random_state=5, stratify=y\n",
    ")\n",
    "\n",
    "# then we split the temporary set into train and validation\n",
    "x_train, x_val, y_train, y_val = train_test_split(\n",
    "    x_temp, y_temp, test_size=0.25, random_state=5, stratify=y_temp\n",
    ")\n",
    "\n",
    "print(x_train.shape, x_temp.shape, x_test.shape)"
   ]
  },
  {
   "cell_type": "code",
   "execution_count": null,
   "id": "8534b685",
   "metadata": {},
   "outputs": [],
   "source": [
    "df.info()"
   ]
  },
  {
   "cell_type": "code",
   "execution_count": null,
   "id": "e029979f",
   "metadata": {},
   "outputs": [],
   "source": [
    "from sklearn.linear_model import LogisticRegression\n",
    "\n",
    "# fit model on train\n",
    "logistic_reg_model = LogisticRegression()\n",
    "logistic_reg_model.fit(x_train,y_train)"
   ]
  },
  {
   "cell_type": "code",
   "execution_count": 7,
   "id": "8ade7714",
   "metadata": {},
   "outputs": [
    {
     "data": {
      "text/html": [
       "<div>\n",
       "<style scoped>\n",
       "    .dataframe tbody tr th:only-of-type {\n",
       "        vertical-align: middle;\n",
       "    }\n",
       "\n",
       "    .dataframe tbody tr th {\n",
       "        vertical-align: top;\n",
       "    }\n",
       "\n",
       "    .dataframe thead th {\n",
       "        text-align: right;\n",
       "    }\n",
       "</style>\n",
       "<table border=\"1\" class=\"dataframe\">\n",
       "  <thead>\n",
       "    <tr style=\"text-align: right;\">\n",
       "      <th></th>\n",
       "      <th>Coefficients</th>\n",
       "    </tr>\n",
       "  </thead>\n",
       "  <tbody>\n",
       "    <tr>\n",
       "      <th>Intercept</th>\n",
       "      <td>-3.561706</td>\n",
       "    </tr>\n",
       "    <tr>\n",
       "      <th>Chain_smoker</th>\n",
       "      <td>-1.314107</td>\n",
       "    </tr>\n",
       "    <tr>\n",
       "      <th>History_of_preeclampsia</th>\n",
       "      <td>-0.996345</td>\n",
       "    </tr>\n",
       "    <tr>\n",
       "      <th>CABG_history</th>\n",
       "      <td>-0.697155</td>\n",
       "    </tr>\n",
       "    <tr>\n",
       "      <th>Gender_Other</th>\n",
       "      <td>-0.310002</td>\n",
       "    </tr>\n",
       "    <tr>\n",
       "      <th>Diabetes</th>\n",
       "      <td>-0.129396</td>\n",
       "    </tr>\n",
       "    <tr>\n",
       "      <th>Obese</th>\n",
       "      <td>-0.110623</td>\n",
       "    </tr>\n",
       "    <tr>\n",
       "      <th>Use_of_stimulant_drugs</th>\n",
       "      <td>-0.040443</td>\n",
       "    </tr>\n",
       "    <tr>\n",
       "      <th>Respiratory_illness</th>\n",
       "      <td>0.063715</td>\n",
       "    </tr>\n",
       "    <tr>\n",
       "      <th>Metabolic_syndrome</th>\n",
       "      <td>0.192941</td>\n",
       "    </tr>\n",
       "    <tr>\n",
       "      <th>Consumes_other_tobacco_products</th>\n",
       "      <td>0.210694</td>\n",
       "    </tr>\n",
       "    <tr>\n",
       "      <th>HighBP</th>\n",
       "      <td>0.757764</td>\n",
       "    </tr>\n",
       "    <tr>\n",
       "      <th>Gender_Male</th>\n",
       "      <td>0.761791</td>\n",
       "    </tr>\n",
       "    <tr>\n",
       "      <th>Family_history</th>\n",
       "      <td>1.779182</td>\n",
       "    </tr>\n",
       "  </tbody>\n",
       "</table>\n",
       "</div>"
      ],
      "text/plain": [
       "                                 Coefficients\n",
       "Intercept                           -3.561706\n",
       "Chain_smoker                        -1.314107\n",
       "History_of_preeclampsia             -0.996345\n",
       "CABG_history                        -0.697155\n",
       "Gender_Other                        -0.310002\n",
       "Diabetes                            -0.129396\n",
       "Obese                               -0.110623\n",
       "Use_of_stimulant_drugs              -0.040443\n",
       "Respiratory_illness                  0.063715\n",
       "Metabolic_syndrome                   0.192941\n",
       "Consumes_other_tobacco_products      0.210694\n",
       "HighBP                               0.757764\n",
       "Gender_Male                          0.761791\n",
       "Family_history                       1.779182"
      ]
     },
     "execution_count": 7,
     "metadata": {},
     "output_type": "execute_result"
    }
   ],
   "source": [
    "coefs = pd.DataFrame(\n",
    "    np.append(logistic_reg_model.coef_, logistic_reg_model.intercept_),\n",
    "    index=x_train.columns.tolist() + [\"Intercept\"],\n",
    "    columns=[\"Coefficients\"],\n",
    ")\n",
    "\n",
    "coefs.sort_values('Coefficients')"
   ]
  },
  {
   "cell_type": "code",
   "execution_count": 8,
   "id": "76995b44",
   "metadata": {},
   "outputs": [
    {
     "name": "stdout",
     "output_type": "stream",
     "text": [
      "{'Accuracy_Test': 0.7865168539325843,\n",
      " 'Accuracy_Train': 0.7861163227016885,\n",
      " 'F1_Score_Test': nan,\n",
      " 'F1_Score_Train': nan,\n",
      " 'Precision_Test': 0.0,\n",
      " 'Precision_Train': 0.0,\n",
      " 'Recall_Test': 0.0,\n",
      " 'Recall_Train': 0.0}\n"
     ]
    }
   ],
   "source": [
    "import pprint\n",
    "\n",
    "main_data = df\n",
    "\n",
    "logistic_reg_model_score = GetMetricsScore(logistic_reg_model)\n",
    "pprint.pprint(logistic_reg_model_score)"
   ]
  },
  {
   "cell_type": "code",
   "execution_count": 9,
   "id": "3db77ecf",
   "metadata": {},
   "outputs": [
    {
     "name": "stdout",
     "output_type": "stream",
     "text": [
      "======================='UnderRisk'==================\n",
      "0 \t: 699 (78.63%)\n",
      "1 \t: 190 (21.37%)\n",
      "=========================================================\n",
      "\n"
     ]
    }
   ],
   "source": [
    "'''\n",
    "Input:\n",
    "N/A\n",
    "\n",
    "Output:\n",
    "Go through each categorial column and print unique values for that column.\n",
    "\n",
    "Retunrs:\n",
    "N/A\n",
    "'''\n",
    "def CountUniqueValues(col_names):\n",
    "    for col_name in col_names:\n",
    "        print(f\"======================='{col_name}'==================\")\n",
    "        for unique_col_value in  main_data[col_name].unique().tolist():\n",
    "            total_count = main_data[col_name].count()\n",
    "            unique_values_count = main_data[main_data[col_name] == unique_col_value][col_name].count()\n",
    "            percentage = str(round((unique_values_count/total_count) * 100, 2))\n",
    "            print(f\"{unique_col_value} \\t: {unique_values_count} ({percentage}%)\")\n",
    "        print(f\"=========================================================\\n\")\n",
    "\n",
    "catgry_col_names = main_data.select_dtypes(include=['category']).columns.tolist()\n",
    "CountUniqueValues(catgry_col_names)\n",
    "CountUniqueValues(['UnderRisk'])"
   ]
  },
  {
   "cell_type": "code",
   "execution_count": 10,
   "id": "703ef140",
   "metadata": {},
   "outputs": [],
   "source": [
    "sm = SMOTE(sampling_strategy=1, k_neighbors=5, random_state=1)\n",
    "x_train_over, y_train_over = sm.fit_resample(x_train, y_train)"
   ]
  },
  {
   "cell_type": "code",
   "execution_count": 12,
   "id": "35be335e",
   "metadata": {},
   "outputs": [
    {
     "name": "stdout",
     "output_type": "stream",
     "text": [
      "Before OverSampling, count of label '1': 114\n",
      "Before OverSampling, count of label '0': 419 \n",
      "\n",
      "After OverSampling, count of label '1': 419\n",
      "After OverSampling, count of label '0': 419 \n",
      "\n",
      "After OverSampling, the shape of train_X: (838, 13)\n",
      "After OverSampling, the shape of train_y: (838,) \n",
      "\n"
     ]
    }
   ],
   "source": [
    "print(\"Before OverSampling, count of label '1': {}\".format(sum(y_train == 1)))\n",
    "print(\"Before OverSampling, count of label '0': {} \\n\".format(sum(y_train == 0)))\n",
    "\n",
    "print(\"After OverSampling, count of label '1': {}\".format(sum(y_train_over == 1)))\n",
    "print(\"After OverSampling, count of label '0': {} \\n\".format(sum(y_train_over == 0)))\n",
    "\n",
    "print(\"After OverSampling, the shape of train_X: {}\".format(x_train_over.shape))\n",
    "print(\"After OverSampling, the shape of train_y: {} \\n\".format(y_train_over.shape))\n"
   ]
  },
  {
   "cell_type": "code",
   "execution_count": 15,
   "id": "b694db5b",
   "metadata": {},
   "outputs": [
    {
     "name": "stdout",
     "output_type": "stream",
     "text": [
      "{'Accuracy_Test': 0.6067415730337079,\n",
      " 'Accuracy_Train': 0.6153846153846154,\n",
      " 'F1_Score_Test': 0.375,\n",
      " 'F1_Score_Train': 0.4444444444444445,\n",
      " 'Precision_Test': 0.28378378378378377,\n",
      " 'Precision_Train': 0.3215686274509804,\n",
      " 'Recall_Test': 0.5526315789473685,\n",
      " 'Recall_Train': 0.7192982456140351}\n"
     ]
    }
   ],
   "source": [
    "logistic_reg_model = LogisticRegression()\n",
    "logistic_reg_model.fit(x_train_over,y_train_over)\n",
    "\n",
    "logistic_reg_model_score = GetMetricsScore(logistic_reg_model)\n",
    "pprint.pprint(logistic_reg_model_score)"
   ]
  },
  {
   "cell_type": "code",
   "execution_count": 17,
   "id": "253229f1",
   "metadata": {},
   "outputs": [
    {
     "data": {
      "text/plain": [
       "BaggingClassifier(random_state=1)"
      ]
     },
     "execution_count": 17,
     "metadata": {},
     "output_type": "execute_result"
    }
   ],
   "source": [
    "from sklearn.ensemble import BaggingClassifier, RandomForestClassifier\n",
    "\n",
    "#base_estimator for bagging classifier is a decision tree by default\n",
    "bagging_estimator=BaggingClassifier(random_state=1)\n",
    "bagging_estimator.fit(x_train_over,y_train_over)"
   ]
  },
  {
   "cell_type": "code",
   "execution_count": 20,
   "id": "13f75840",
   "metadata": {},
   "outputs": [],
   "source": [
    "pred_train = bagging_estimator.predict(x_train_over)\n",
    "pred_val = bagging_estimator.predict(x_val)"
   ]
  },
  {
   "cell_type": "code",
   "execution_count": 22,
   "id": "f475b98a",
   "metadata": {},
   "outputs": [
    {
     "name": "stdout",
     "output_type": "stream",
     "text": [
      "0.8066825775656324\n",
      "0.6578947368421053\n"
     ]
    }
   ],
   "source": [
    "# Checking recall score on oversampled train and validation set\n",
    "print(recall_score(y_train_over, pred_train))\n",
    "print(recall_score(y_val, pred_val))"
   ]
  },
  {
   "cell_type": "code",
   "execution_count": 26,
   "id": "37759139",
   "metadata": {},
   "outputs": [
    {
     "name": "stdout",
     "output_type": "stream",
     "text": [
      "0.7028639618138425\n",
      "0.5842696629213483\n"
     ]
    }
   ],
   "source": [
    "# Checking accuracy score on undersampled train and validation set\n",
    "print(accuracy_score(y_train_over, pred_train))\n",
    "print(accuracy_score(y_val, pred_val))"
   ]
  },
  {
   "cell_type": "code",
   "execution_count": 27,
   "id": "d09f1a5a",
   "metadata": {},
   "outputs": [
    {
     "name": "stdout",
     "output_type": "stream",
     "text": [
      "0.6679841897233202\n",
      "0.29069767441860467\n"
     ]
    }
   ],
   "source": [
    "# Checking accuracy score on undersampled train and validation set\n",
    "print(precision_score(y_train_over, pred_train))\n",
    "print(precision_score(y_val, pred_val))"
   ]
  },
  {
   "cell_type": "code",
   "execution_count": null,
   "id": "575fc958",
   "metadata": {},
   "outputs": [],
   "source": [
    "logistic_reg_model_score = GetMetricsScore(bagging_estimator)\n",
    "pprint.pprint(logistic_reg_model_score)"
   ]
  },
  {
   "cell_type": "code",
   "execution_count": null,
   "id": "6eac9350",
   "metadata": {},
   "outputs": [],
   "source": [
    "precision_score"
   ]
  },
  {
   "cell_type": "code",
   "execution_count": 28,
   "id": "e86b6d40",
   "metadata": {},
   "outputs": [
    {
     "data": {
      "text/plain": [
       "RandomForestClassifier(random_state=1)"
      ]
     },
     "execution_count": 28,
     "metadata": {},
     "output_type": "execute_result"
    }
   ],
   "source": [
    "rf_estimator=RandomForestClassifier(random_state=1)\n",
    "rf_estimator.fit(x_train_over,y_train_over)"
   ]
  },
  {
   "cell_type": "code",
   "execution_count": 29,
   "id": "c5f42b99",
   "metadata": {},
   "outputs": [],
   "source": [
    "pred_train = rf_estimator.predict(x_train_over)\n",
    "pred_val = rf_estimator.predict(x_val)"
   ]
  },
  {
   "cell_type": "code",
   "execution_count": 32,
   "id": "8face3b2",
   "metadata": {},
   "outputs": [
    {
     "data": {
      "image/png": "[encoded data removed]",
      "text/plain": [
       "<Figure size 504x360 with 2 Axes>"
      ]
     },
     "metadata": {
      "needs_background": "light"
     },
     "output_type": "display_data"
    }
   ],
   "source": [
    "cm = confusion_matrix(y_val, pred_val)\n",
    "plt.figure(figsize=(7, 5))\n",
    "sns.heatmap(cm, annot=True, fmt=\"g\")\n",
    "plt.xlabel(\"Predicted Values\")\n",
    "plt.ylabel(\"Actual Values\")\n",
    "plt.show()"
   ]
  },
  {
   "cell_type": "code",
   "execution_count": null,
   "id": "ab1039d2",
   "metadata": {},
   "outputs": [],
   "source": [
    "print(y_test.value_counts(1))"
   ]
  },
  {
   "cell_type": "code",
   "execution_count": 34,
   "id": "b4f149b7",
   "metadata": {},
   "outputs": [
    {
     "data": {
      "text/plain": [
       "DecisionTreeClassifier(max_depth=4, random_state=1)"
      ]
     },
     "execution_count": 34,
     "metadata": {},
     "output_type": "execute_result"
    }
   ],
   "source": [
    "from sklearn.tree import DecisionTreeClassifier\n",
    "\n",
    "bagging_estimator=BaggingClassifier(random_state=1)\n",
    "bagging_estimator.fit(x_train_over,y_train_over)\n",
    "\n",
    "rf_estimator=RandomForestClassifier(random_state=1)\n",
    "rf_estimator.fit(x_train_over,y_train_over)\n",
    "\n",
    "logistic_reg_model = LogisticRegression()\n",
    "logistic_reg_model.fit(x_train_over,y_train_over)\n",
    "\n",
    "dtree1 = DecisionTreeClassifier(random_state=1, max_depth=4)\n",
    "dtree1.fit(x_train_over,y_train_over)"
   ]
  },
  {
   "cell_type": "code",
   "execution_count": null,
   "id": "b8a92b5e",
   "metadata": {},
   "outputs": [],
   "source": []
  },
  {
   "cell_type": "code",
   "execution_count": 42,
   "id": "fab7fb34",
   "metadata": {},
   "outputs": [
    {
     "name": "stdout",
     "output_type": "stream",
     "text": [
      " bagging : 0.7877796901893287\n",
      " RF : 0.792570281124498\n",
      " log : 0.7567125645438899\n",
      " dtree : 0.7924268502581755\n"
     ]
    }
   ],
   "source": [
    "from sklearn.model_selection import StratifiedKFold\n",
    "scoring = \"recall\"\n",
    "\n",
    "kfold = StratifiedKFold(\n",
    "\n",
    "    n_splits=5, shuffle=True, random_state=1\n",
    "\n",
    ")  # Setting number of splits equal to 5\n",
    "\n",
    "count = 0\n",
    "print(f\" bagging : {cross_val_score(estimator=bagging_estimator, X=x_train_over, y=y_train_over, scoring=scoring, cv=kfold).mean()}\")\n",
    "print(f\" RF : {cross_val_score(estimator=rf_estimator, X=x_train_over, y=y_train_over, scoring=scoring, cv=kfold).mean()}\")\n",
    "print(f\" log : {cross_val_score(estimator=logistic_reg_model, X=x_train_over, y=y_train_over, scoring=scoring, cv=kfold).mean()}\")\n",
    "print(f\" dtree : {cross_val_score(estimator=dtree1, X=x_train_over, y=y_train_over, scoring=scoring, cv=kfold).mean()}\")"
   ]
  },
  {
   "cell_type": "code",
   "execution_count": 51,
   "id": "ceb74862",
   "metadata": {},
   "outputs": [
    {
     "data": {
      "text/plain": [
       "AdaBoostClassifier(base_estimator=DecisionTreeClassifier(max_depth=1,\n",
       "                                                         random_state=1),\n",
       "                   learning_rate=0.01, random_state=1)"
      ]
     },
     "execution_count": 51,
     "metadata": {},
     "output_type": "execute_result"
    }
   ],
   "source": [
    "from sklearn.ensemble import AdaBoostClassifier\n",
    "\n",
    "adaBoostingClassf_Tuned_Model = AdaBoostClassifier(random_state=1)\n",
    "\n",
    "parameters = {\n",
    "    \"n_estimators\": np.arange(10, 110, 10),\n",
    "\n",
    "    \"learning_rate\": [0.1, 0.01, 0.2, 0.05, 1],\n",
    "\n",
    "    \"base_estimator\": [\n",
    "        DecisionTreeClassifier(max_depth=1, random_state=1),\n",
    "\n",
    "        DecisionTreeClassifier(max_depth=2, random_state=1),\n",
    "\n",
    "        DecisionTreeClassifier(max_depth=3, random_state=1),\n",
    "\n",
    "    ],\n",
    "}\n",
    "\n",
    "acc_scorer = metrics.make_scorer(metrics.recall_score)\n",
    "\n",
    "scorer = metrics.make_scorer(metrics.recall_score)\n",
    "\n",
    "grid_obj = RandomizedSearchCV(\n",
    "\n",
    "    estimator=adaBoostingClassf_Tuned_Model,\n",
    "\n",
    "    param_distributions=parameters,\n",
    "\n",
    "    n_jobs=-1,\n",
    "\n",
    "    n_iter=50,\n",
    "\n",
    "    scoring=scorer,\n",
    "\n",
    "    cv=5,\n",
    "\n",
    "    random_state=1,\n",
    "\n",
    ")\n",
    "\n",
    "gird_obj = grid_obj.fit(x_train_over,y_train_over)\n",
    "adaBoostingClassf_Tuned_Model = grid_obj.best_estimator_\n",
    "adaBoostingClassf_Tuned_Model.fit(x_train_over,y_train_over)"
   ]
  },
  {
   "cell_type": "code",
   "execution_count": 52,
   "id": "fe07e813",
   "metadata": {},
   "outputs": [
    {
     "data": {
      "text/plain": [
       "{'n_estimators': 50,\n",
       " 'learning_rate': 0.01,\n",
       " 'base_estimator': DecisionTreeClassifier(max_depth=1, random_state=1)}"
      ]
     },
     "execution_count": 52,
     "metadata": {},
     "output_type": "execute_result"
    }
   ],
   "source": [
    "gird_obj.best_params_"
   ]
  },
  {
   "cell_type": "code",
   "execution_count": 55,
   "id": "3861bc30",
   "metadata": {},
   "outputs": [
    {
     "name": "stdout",
     "output_type": "stream",
     "text": [
      "{'Accuracy_Test': 0.42134831460674155,\n",
      " 'Accuracy_Train': 0.37523452157598497,\n",
      " 'F1_Score_Test': 0.4114285714285715,\n",
      " 'F1_Score_Train': 0.39783001808318263,\n",
      " 'Precision_Test': 0.26277372262773724,\n",
      " 'Precision_Train': 0.2505694760820046,\n",
      " 'Recall_Test': 0.9473684210526315,\n",
      " 'Recall_Train': 0.9649122807017544}\n"
     ]
    }
   ],
   "source": [
    "logistic_reg_model_score = GetMetricsScore(adaBoostingClassf_Tuned_Model)\n",
    "pprint.pprint(logistic_reg_model_score)"
   ]
  },
  {
   "cell_type": "code",
   "execution_count": 54,
   "id": "28bbbc35",
   "metadata": {},
   "outputs": [],
   "source": [
    "rus = RandomUnderSampler(random_state=1, sampling_strategy = 1)\n",
    "x_train_un, y_train_un = rus.fit_resample(x_train, y_train)"
   ]
  },
  {
   "cell_type": "code",
   "execution_count": 56,
   "id": "c6c7626f",
   "metadata": {},
   "outputs": [
    {
     "data": {
      "text/plain": [
       "AdaBoostClassifier(base_estimator=DecisionTreeClassifier(max_depth=1,\n",
       "                                                         random_state=1),\n",
       "                   learning_rate=0.01, random_state=1)"
      ]
     },
     "execution_count": 56,
     "metadata": {},
     "output_type": "execute_result"
    }
   ],
   "source": [
    "acc_scorer = metrics.make_scorer(metrics.recall_score)\n",
    "\n",
    "scorer = metrics.make_scorer(metrics.recall_score)\n",
    "\n",
    "grid_obj = RandomizedSearchCV(\n",
    "\n",
    "    estimator=adaBoostingClassf_Tuned_Model,\n",
    "\n",
    "    param_distributions=parameters,\n",
    "\n",
    "    n_jobs=-1,\n",
    "\n",
    "    n_iter=50,\n",
    "\n",
    "    scoring=scorer,\n",
    "\n",
    "    cv=5,\n",
    "\n",
    "    random_state=1,\n",
    "\n",
    ")\n",
    "\n",
    "gird_obj = grid_obj.fit(x_train_un,y_train_un)\n",
    "adaBoostingClassf_Tuned_Model = grid_obj.best_estimator_\n",
    "adaBoostingClassf_Tuned_Model.fit(x_train_un,y_train_un)"
   ]
  },
  {
   "cell_type": "code",
   "execution_count": 57,
   "id": "e133ff0f",
   "metadata": {},
   "outputs": [
    {
     "name": "stdout",
     "output_type": "stream",
     "text": [
      "{'Accuracy_Test': 0.43258426966292135,\n",
      " 'Accuracy_Train': 0.3883677298311445,\n",
      " 'F1_Score_Test': 0.4161849710982659,\n",
      " 'F1_Score_Train': 0.40293040293040294,\n",
      " 'Precision_Test': 0.26666666666666666,\n",
      " 'Precision_Train': 0.25462962962962965,\n",
      " 'Recall_Test': 0.9473684210526315,\n",
      " 'Recall_Train': 0.9649122807017544}\n"
     ]
    }
   ],
   "source": [
    "logistic_reg_model_score = GetMetricsScore(adaBoostingClassf_Tuned_Model)\n",
    "pprint.pprint(logistic_reg_model_score)"
   ]
  },
  {
   "cell_type": "code",
   "execution_count": null,
   "id": "1414bc02",
   "metadata": {},
   "outputs": [],
   "source": [
    "# dividing data into train and test sets\n",
    "X_train, X_test, Y_train, Y_test = train_test_split(X, Y, test_size=0.20, random_state=1, stratify = Y)"
   ]
  },
  {
   "cell_type": "code",
   "execution_count": null,
   "id": "558bd0f2",
   "metadata": {},
   "outputs": [],
   "source": [
    "print(Y_test.value_counts(1))"
   ]
  },
  {
   "cell_type": "code",
   "execution_count": null,
   "id": "79f5232e",
   "metadata": {},
   "outputs": [],
   "source": [
    "# pipeline takes a list of tuples as parameter. The last entry is the call to the modeling algorithm\n",
    "pipeline = Pipeline([\n",
    "    ('scaler',StandardScaler()),\n",
    "    ('clf', LogisticRegression())\n",
    "])\n",
    "\n",
    "# \"scaler\" is the name assigned to StandardScaler\n",
    "# \"clf\" is the name assigned to LogisticRegression"
   ]
  },
  {
   "cell_type": "code",
   "execution_count": null,
   "id": "2d80b7a1",
   "metadata": {},
   "outputs": [],
   "source": [
    "# Any element of the pipeline can be called later using the assigned name\n",
    "pipeline['scaler'].fit(X_train)"
   ]
  },
  {
   "cell_type": "code",
   "execution_count": null,
   "id": "379b2092",
   "metadata": {},
   "outputs": [],
   "source": [
    "pipeline.fit(X_train,Y_train)\n"
   ]
  },
  {
   "cell_type": "code",
   "execution_count": null,
   "id": "8cf14008",
   "metadata": {},
   "outputs": [],
   "source": [
    "pipeline.score(X_train, Y_train)\n"
   ]
  },
  {
   "cell_type": "code",
   "execution_count": null,
   "id": "d49b837c",
   "metadata": {},
   "outputs": [],
   "source": [
    "pipeline.score(X_test, Y_test)"
   ]
  },
  {
   "cell_type": "code",
   "execution_count": null,
   "id": "0b2b447c",
   "metadata": {},
   "outputs": [],
   "source": [
    "pipe = make_pipeline(StandardScaler(), (LogisticRegression())) \n"
   ]
  },
  {
   "cell_type": "code",
   "execution_count": null,
   "id": "88e7f012",
   "metadata": {},
   "outputs": [],
   "source": [
    "pipe.steps"
   ]
  },
  {
   "cell_type": "code",
   "execution_count": null,
   "id": "d52d9327",
   "metadata": {},
   "outputs": [],
   "source": [
    "pipe.fit(X_train,Y_train)"
   ]
  },
  {
   "cell_type": "code",
   "execution_count": null,
   "id": "ee91d6f4",
   "metadata": {},
   "outputs": [],
   "source": [
    "pipe.score(X_train, Y_train)"
   ]
  },
  {
   "cell_type": "code",
   "execution_count": null,
   "id": "399a21f2",
   "metadata": {},
   "outputs": [],
   "source": [
    "pipe.score(X_test, Y_test)"
   ]
  },
  {
   "cell_type": "code",
   "execution_count": null,
   "id": "d727436a",
   "metadata": {},
   "outputs": [],
   "source": []
  }
 ],
 "metadata": {
  "kernelspec": {
   "display_name": "Python 3 (ipykernel)",
   "language": "python",
   "name": "python3"
  },
  "language_info": {
   "codemirror_mode": {
    "name": "ipython",
    "version": 3
   },
   "file_extension": ".py",
   "mimetype": "text/x-python",
   "name": "python",
   "nbconvert_exporter": "python",
   "pygments_lexer": "ipython3",
   "version": "3.8.11"
  }
 },
 "nbformat": 4,
 "nbformat_minor": 5
}
