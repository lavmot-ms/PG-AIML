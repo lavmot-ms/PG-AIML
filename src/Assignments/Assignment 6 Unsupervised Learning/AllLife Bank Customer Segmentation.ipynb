{
 "cells": [
  {
   "cell_type": "markdown",
   "id": "37f8cf39",
   "metadata": {},
   "source": [
    "## <span style=\"font-family: Arial; font-weight:bold;font-size:1.9em;color:#0e92ea\">Assignment 6: AllLife Bank Customer Segmentation</span>\n",
    "\n",
    "&nbsp;\n",
    "\n",
    "<p align=\"center\" style=\"font-family: Arial;color:#0e92ea;font-size:1em;\">\n",
    "AllLife Bank wants to focus on its credit card customer base in the next financial year. They have been advised by their marketing research team, that the penetration in the market can be improved. Based on this input, the Marketing team proposes to run personalized campaigns to target new customers as well as upsell to existing customers. Another insight from the market research was that the customers perceive the support services of the back poorly. Based on this, the Operations team wants to upgrade the service delivery model, to ensure that customer queries are resolved faster. Head of Marketing and Head of Delivery both decide to reach out to the Data Science team for help\n",
    "</p>\n",
    "\n",
    "##  <span style=\"font-family: Arial; font-weight:bold;font-size:1.3em;color:#0e92ea\"> Objective:</span>\n",
    "<p align=\"center\" style=\"font-family: Arial;color:#0e92ea;font-size:1em;\">\n",
    "To identify different segments in the existing customer, based on their spending patterns as well as past interaction with the bank, using clustering algorithms, and provide recommendations to the bank on how to better market to and service these customers.\n",
    "</p>\n",
    "\n",
    "##  <span style=\"font-family: Arial; font-weight:bold;font-size:1.3em;color:#0e92ea\">Data Dictionary:</span>\n",
    "\n",
    "<ol style=\"font-family: Arial;color:#0e92ea;font-size:1em;\">\n",
    "    <li>Sl_No: Primary key of the records</li>\n",
    "    <li>Customer Key: Customer identification number</li>\n",
    "    <li>Average Credit Limit: Average credit limit of each customer for all credit cards</li>\n",
    "    <li>Total credit cards: Total number of credit cards possessed by the customer</li>\n",
    "    <li>Total visits bank: Total number of visits that customer made (yearly) personally to the bank</li>\n",
    "    <li>Total visits online: Total number of visits or online logins made by the customer (yearly)</li>\n",
    "    <li>Total calls made: Total number of calls made by the customer to the bank or its customer service department (yearly)</li>\n",
    "</ol>\n",
    "\n",
    "##  <span style=\"font-family: Arial; font-weight:bold;font-size:1.3em;color:#0e92ea\"> Contents:</span>\n",
    "\n",
    "<ol style=\"font-family: Arial;color:#0e92ea;font-size:1em;\">\n",
    "    <li>Exploratory Data Analysis and Insights</li>\n",
    "    <li>Data pre-processing</li>\n",
    "    <li>Model building</li>\n",
    "    <li>Model building - Oversampled data</li>\n",
    "    <li>Model building - Undersampled data</li>\n",
    "    <li>Hyperparameter tuning using random search</li>\n",
    "    <li>Model Performances</li>\n",
    "    <li>Productionize the model</li>\n",
    "    <li>Recommendations</li>\n",
    "</ol>"
   ]
  },
  {
   "cell_type": "code",
   "execution_count": null,
   "id": "437dc924",
   "metadata": {},
   "outputs": [],
   "source": []
  }
 ],
 "metadata": {
  "kernelspec": {
   "display_name": "Python 3 (ipykernel)",
   "language": "python",
   "name": "python3"
  },
  "language_info": {
   "codemirror_mode": {
    "name": "ipython",
    "version": 3
   },
   "file_extension": ".py",
   "mimetype": "text/x-python",
   "name": "python",
   "nbconvert_exporter": "python",
   "pygments_lexer": "ipython3",
   "version": "3.8.11"
  }
 },
 "nbformat": 4,
 "nbformat_minor": 5
}
