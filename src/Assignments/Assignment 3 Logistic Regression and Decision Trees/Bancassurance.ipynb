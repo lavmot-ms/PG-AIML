{
 "cells": [
  {
   "cell_type": "markdown",
   "id": "f1d39e22",
   "metadata": {},
   "source": [
    "## <span style=\"font-family: Arial; font-weight:bold;font-size:1.9em;color:#0e92ea\">Assignment 3: Bancassurance</span>\n",
    "\n",
    "&nbsp;\n",
    "\n",
    "<p align=\"center\" style=\"font-family: Arial;color:#0e92ea;font-size:1em;\">\n",
    "Exploring pricing models that can effectively predict the Rent for accommodation and can help hosts, travelers, and also the business in devising profitable strategies.\n",
    "    \n",
    "</p>\n",
    "\n",
    "##  <span style=\"font-family: Arial; font-weight:bold;font-size:1.9em;color:#0e92ea\"> Contents:</span>\n",
    "\n",
    "<ol style=\"font-family: Arial;color:#0e92ea;font-size:1em;\">\n",
    "    <li>Data Overview and EDA</li>\n",
    "    <li>Outlier Treatment and Feature Engineering</li>\n",
    "    <li>Building Logistic Regression Model and Analysis</li>\n",
    "    <li>Building Decision Tree Model and Analysis</li>\n",
    "    <li>Conclusions</li>\n",
    "</ol>"
   ]
  },
  {
   "cell_type": "code",
   "execution_count": 3,
   "id": "0e7f9039",
   "metadata": {},
   "outputs": [],
   "source": [
    "import os\n",
    "import warnings\n",
    "import pandas as pd\n",
    "import numpy as np\n",
    "import seaborn as sns\n",
    "import matplotlib.pyplot as plt\n",
    "import sklearn.metrics as metrics\n",
    "\n",
    "from matplotlib import gridspec\n",
    "from sklearn.linear_model import LogisticRegression\n",
    "from sklearn.model_selection import train_test_split\n",
    "from sklearn.tree import DecisionTreeClassifier\n",
    "from sklearn.model_selection import GridSearchCV\n",
    "from sklearn import tree\n",
    "from os import system\n",
    "from IPython.display import Image\n",
    "\n",
    "\n",
    "warnings.filterwarnings('ignore')\n",
    "\n",
    "main_data = pd.read_csv('My Bank.csv')"
   ]
  },
  {
   "cell_type": "code",
   "execution_count": null,
   "id": "a4f04230",
   "metadata": {},
   "outputs": [],
   "source": []
  }
 ],
 "metadata": {
  "kernelspec": {
   "display_name": "Python 3",
   "language": "python",
   "name": "python3"
  },
  "language_info": {
   "codemirror_mode": {
    "name": "ipython",
    "version": 3
   },
   "file_extension": ".py",
   "mimetype": "text/x-python",
   "name": "python",
   "nbconvert_exporter": "python",
   "pygments_lexer": "ipython3",
   "version": "3.8.8"
  }
 },
 "nbformat": 4,
 "nbformat_minor": 5
}
