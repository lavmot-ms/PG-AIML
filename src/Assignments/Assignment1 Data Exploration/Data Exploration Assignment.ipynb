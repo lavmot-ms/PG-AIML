{
 "cells": [
  {
   "cell_type": "markdown",
   "id": "0c53cc34",
   "metadata": {},
   "source": [
    "#  <span style=\"font-family: Arial; font-weight:bold;font-size:1.9em;color:#0e92ea\"> Cardio Good Fitness\n",
    "\n",
    "<font color=darkblue>\n",
    "\n",
    "&nbsp;\n",
    "\n",
    "<p align=\"center\">\n",
    "The data is about customers of the treadmill product(s) of a retail store called <b>Cardio Good Fitness</b>. This Dashboards explores the CSV data provided, generate key business insights identifying customer profiles and recommendations on the actions the company could take when targeting new customers.\n",
    "</p>\n",
    "\n",
    "##  <span style=\"font-family: Arial; font-weight:bold;font-size:1.9em;color:#0e92ea\"> Contents:\n",
    "  \n",
    "<font color=darkblue>\n",
    "\n",
    "&nbsp;\n",
    "\n",
    "1. Import necessary libraries and Load Data\n",
    "2. Univariate Data Analysis\n",
    "3. Checking distribution of data\n",
    "4. Multivariate Data Analysis\n",
    "5. Conclusion and Recommendations"
   ]
  },
  {
   "cell_type": "markdown",
   "id": "3ad00862",
   "metadata": {},
   "source": [
    "####  <span style=\"font-family: Arial; font-weight:bold;font-size:1.9em;color:#0e92ea\"> Setup (Import Modules):"
   ]
  },
  {
   "cell_type": "code",
   "execution_count": 1,
   "id": "2d75ee6a",
   "metadata": {},
   "outputs": [],
   "source": [
    "import pandas as pd\n",
    "import numpy as np\n",
    "import matplotlib.pyplot as plt\n",
    "import seaborn as sns\n",
    "import pandas_profiling                            # Used to create profile summary of the data\n",
    "\n",
    "sns.set(color_codes=True)                          # Displays charts with background colors\n",
    "%matplotlib inline\n",
    "\n",
    "main_data= pd.read_csv('CardioGoodFitness.csv');   # Load the data"
   ]
  },
  {
   "cell_type": "markdown",
   "id": "e0606cf9",
   "metadata": {},
   "source": [
    "####  <span style=\"font-family: Arial; font-weight:bold;font-size:1.9em;color:#0e92ea\"> 1. Scan The Data:\n",
    "   \n",
    "<p align=\"center\">\n",
    "Eplore the data structure\n",
    "</p>"
   ]
  },
  {
   "cell_type": "code",
   "execution_count": 2,
   "id": "08dfbdfd",
   "metadata": {},
   "outputs": [
    {
     "name": "stdout",
     "output_type": "stream",
     "text": [
      " \n",
      "Rows x Columns = (180, 9)\n",
      " \n",
      "               Nulls  Non-Nulls    Type\n",
      "Age                0        180   int64\n",
      "Education          0        180   int64\n",
      "Fitness            0        180   int64\n",
      "Gender             0        180  object\n",
      "Income             0        180   int64\n",
      "MaritalStatus      0        180  object\n",
      "Miles              0        180   int64\n",
      "Product            0        180  object\n",
      "Usage              0        180   int64\n"
     ]
    }
   ],
   "source": [
    "nulls_series             = main_data.isna().sum()      # Get a series counting number of empty values for each column\n",
    "nonnulls_series          = main_data.notnull().sum()   # Get a series counting number of non empty valuesfor each column \n",
    "column_datatypes         = main_data.dtypes            # Get a series containing data types for each column \n",
    "\n",
    "\n",
    "nulls_count_df = pd.concat(\n",
    "    [nulls_series, nonnulls_series, column_datatypes],               \n",
    "    axis=1,                                            # Concatenate using columns as axis. \n",
    "    keys=[\"Nulls\", \"Non-Nulls\", \"Type\"],               # Add Columns as for the nulls and non-nulls values\n",
    "    sort=True)\n",
    "\n",
    "\n",
    "print(\" \")\n",
    "print(\"Rows x Columns = \" + str(main_data.shape))      # Print out the dimensions of the data frame\n",
    "\n",
    "\n",
    "print(\" \")\n",
    "print(nulls_count_df)                                  # Display the nulls count table"
   ]
  },
  {
   "cell_type": "code",
   "execution_count": 3,
   "id": "0a129ccc",
   "metadata": {},
   "outputs": [
    {
     "data": {
      "text/html": [
       "<div>\n",
       "<style scoped>\n",
       "    .dataframe tbody tr th:only-of-type {\n",
       "        vertical-align: middle;\n",
       "    }\n",
       "\n",
       "    .dataframe tbody tr th {\n",
       "        vertical-align: top;\n",
       "    }\n",
       "\n",
       "    .dataframe thead th {\n",
       "        text-align: right;\n",
       "    }\n",
       "</style>\n",
       "<table border=\"1\" class=\"dataframe\">\n",
       "  <thead>\n",
       "    <tr style=\"text-align: right;\">\n",
       "      <th></th>\n",
       "      <th>Age</th>\n",
       "      <th>Education</th>\n",
       "      <th>Usage</th>\n",
       "      <th>Fitness</th>\n",
       "      <th>Income</th>\n",
       "      <th>Miles</th>\n",
       "    </tr>\n",
       "  </thead>\n",
       "  <tbody>\n",
       "    <tr>\n",
       "      <th>count</th>\n",
       "      <td>180.000000</td>\n",
       "      <td>180.000000</td>\n",
       "      <td>180.000000</td>\n",
       "      <td>180.000000</td>\n",
       "      <td>180.000000</td>\n",
       "      <td>180.000000</td>\n",
       "    </tr>\n",
       "    <tr>\n",
       "      <th>mean</th>\n",
       "      <td>28.788889</td>\n",
       "      <td>15.572222</td>\n",
       "      <td>3.455556</td>\n",
       "      <td>3.311111</td>\n",
       "      <td>53719.577778</td>\n",
       "      <td>103.194444</td>\n",
       "    </tr>\n",
       "    <tr>\n",
       "      <th>std</th>\n",
       "      <td>6.943498</td>\n",
       "      <td>1.617055</td>\n",
       "      <td>1.084797</td>\n",
       "      <td>0.958869</td>\n",
       "      <td>16506.684226</td>\n",
       "      <td>51.863605</td>\n",
       "    </tr>\n",
       "    <tr>\n",
       "      <th>min</th>\n",
       "      <td>18.000000</td>\n",
       "      <td>12.000000</td>\n",
       "      <td>2.000000</td>\n",
       "      <td>1.000000</td>\n",
       "      <td>29562.000000</td>\n",
       "      <td>21.000000</td>\n",
       "    </tr>\n",
       "    <tr>\n",
       "      <th>25%</th>\n",
       "      <td>24.000000</td>\n",
       "      <td>14.000000</td>\n",
       "      <td>3.000000</td>\n",
       "      <td>3.000000</td>\n",
       "      <td>44058.750000</td>\n",
       "      <td>66.000000</td>\n",
       "    </tr>\n",
       "    <tr>\n",
       "      <th>50%</th>\n",
       "      <td>26.000000</td>\n",
       "      <td>16.000000</td>\n",
       "      <td>3.000000</td>\n",
       "      <td>3.000000</td>\n",
       "      <td>50596.500000</td>\n",
       "      <td>94.000000</td>\n",
       "    </tr>\n",
       "    <tr>\n",
       "      <th>75%</th>\n",
       "      <td>33.000000</td>\n",
       "      <td>16.000000</td>\n",
       "      <td>4.000000</td>\n",
       "      <td>4.000000</td>\n",
       "      <td>58668.000000</td>\n",
       "      <td>114.750000</td>\n",
       "    </tr>\n",
       "    <tr>\n",
       "      <th>max</th>\n",
       "      <td>50.000000</td>\n",
       "      <td>21.000000</td>\n",
       "      <td>7.000000</td>\n",
       "      <td>5.000000</td>\n",
       "      <td>104581.000000</td>\n",
       "      <td>360.000000</td>\n",
       "    </tr>\n",
       "  </tbody>\n",
       "</table>\n",
       "</div>"
      ],
      "text/plain": [
       "              Age   Education       Usage     Fitness         Income  \\\n",
       "count  180.000000  180.000000  180.000000  180.000000     180.000000   \n",
       "mean    28.788889   15.572222    3.455556    3.311111   53719.577778   \n",
       "std      6.943498    1.617055    1.084797    0.958869   16506.684226   \n",
       "min     18.000000   12.000000    2.000000    1.000000   29562.000000   \n",
       "25%     24.000000   14.000000    3.000000    3.000000   44058.750000   \n",
       "50%     26.000000   16.000000    3.000000    3.000000   50596.500000   \n",
       "75%     33.000000   16.000000    4.000000    4.000000   58668.000000   \n",
       "max     50.000000   21.000000    7.000000    5.000000  104581.000000   \n",
       "\n",
       "            Miles  \n",
       "count  180.000000  \n",
       "mean   103.194444  \n",
       "std     51.863605  \n",
       "min     21.000000  \n",
       "25%     66.000000  \n",
       "50%     94.000000  \n",
       "75%    114.750000  \n",
       "max    360.000000  "
      ]
     },
     "execution_count": 3,
     "metadata": {},
     "output_type": "execute_result"
    }
   ],
   "source": [
    "main_data.describe()"
   ]
  },
  {
   "cell_type": "code",
   "execution_count": 4,
   "id": "4eac4306",
   "metadata": {},
   "outputs": [
    {
     "data": {
      "text/html": [
       "<div>\n",
       "<style scoped>\n",
       "    .dataframe tbody tr th:only-of-type {\n",
       "        vertical-align: middle;\n",
       "    }\n",
       "\n",
       "    .dataframe tbody tr th {\n",
       "        vertical-align: top;\n",
       "    }\n",
       "\n",
       "    .dataframe thead th {\n",
       "        text-align: right;\n",
       "    }\n",
       "</style>\n",
       "<table border=\"1\" class=\"dataframe\">\n",
       "  <thead>\n",
       "    <tr style=\"text-align: right;\">\n",
       "      <th></th>\n",
       "      <th>Product</th>\n",
       "      <th>Age</th>\n",
       "      <th>Gender</th>\n",
       "      <th>Education</th>\n",
       "      <th>MaritalStatus</th>\n",
       "      <th>Usage</th>\n",
       "      <th>Fitness</th>\n",
       "      <th>Income</th>\n",
       "      <th>Miles</th>\n",
       "    </tr>\n",
       "  </thead>\n",
       "  <tbody>\n",
       "    <tr>\n",
       "      <th>0</th>\n",
       "      <td>TM195</td>\n",
       "      <td>18</td>\n",
       "      <td>Male</td>\n",
       "      <td>14</td>\n",
       "      <td>Single</td>\n",
       "      <td>3</td>\n",
       "      <td>4</td>\n",
       "      <td>29562</td>\n",
       "      <td>112</td>\n",
       "    </tr>\n",
       "    <tr>\n",
       "      <th>1</th>\n",
       "      <td>TM195</td>\n",
       "      <td>19</td>\n",
       "      <td>Male</td>\n",
       "      <td>15</td>\n",
       "      <td>Single</td>\n",
       "      <td>2</td>\n",
       "      <td>3</td>\n",
       "      <td>31836</td>\n",
       "      <td>75</td>\n",
       "    </tr>\n",
       "    <tr>\n",
       "      <th>2</th>\n",
       "      <td>TM195</td>\n",
       "      <td>19</td>\n",
       "      <td>Female</td>\n",
       "      <td>14</td>\n",
       "      <td>Partnered</td>\n",
       "      <td>4</td>\n",
       "      <td>3</td>\n",
       "      <td>30699</td>\n",
       "      <td>66</td>\n",
       "    </tr>\n",
       "    <tr>\n",
       "      <th>3</th>\n",
       "      <td>TM195</td>\n",
       "      <td>19</td>\n",
       "      <td>Male</td>\n",
       "      <td>12</td>\n",
       "      <td>Single</td>\n",
       "      <td>3</td>\n",
       "      <td>3</td>\n",
       "      <td>32973</td>\n",
       "      <td>85</td>\n",
       "    </tr>\n",
       "    <tr>\n",
       "      <th>4</th>\n",
       "      <td>TM195</td>\n",
       "      <td>20</td>\n",
       "      <td>Male</td>\n",
       "      <td>13</td>\n",
       "      <td>Partnered</td>\n",
       "      <td>4</td>\n",
       "      <td>2</td>\n",
       "      <td>35247</td>\n",
       "      <td>47</td>\n",
       "    </tr>\n",
       "  </tbody>\n",
       "</table>\n",
       "</div>"
      ],
      "text/plain": [
       "  Product  Age  Gender  Education MaritalStatus  Usage  Fitness  Income  Miles\n",
       "0   TM195   18    Male         14        Single      3        4   29562    112\n",
       "1   TM195   19    Male         15        Single      2        3   31836     75\n",
       "2   TM195   19  Female         14     Partnered      4        3   30699     66\n",
       "3   TM195   19    Male         12        Single      3        3   32973     85\n",
       "4   TM195   20    Male         13     Partnered      4        2   35247     47"
      ]
     },
     "execution_count": 4,
     "metadata": {},
     "output_type": "execute_result"
    }
   ],
   "source": [
    "main_data.head()"
   ]
  },
  {
   "cell_type": "code",
   "execution_count": 5,
   "id": "f686f52b",
   "metadata": {},
   "outputs": [],
   "source": [
    "#pandas_profiling.ProfileReport(main_data)"
   ]
  },
  {
   "cell_type": "markdown",
   "id": "7d069f21",
   "metadata": {},
   "source": [
    "####  <span style=\"font-family: Arial; font-weight:bold;font-size:1.9em;color:#0e92ea\"> 2. Univariate Data Analysis:\n",
    "   \n",
    "<p align=\"center\">\n",
    "Eplore indiviual columns.\n",
    "</p>"
   ]
  },
  {
   "cell_type": "markdown",
   "id": "0083fc57",
   "metadata": {},
   "source": [
    " <span style=\"font-family: Arial; font-weight:bold;font-size:1.2em;color:#0e92ea\">2.1 Set Up Dashboard Theme:"
   ]
  },
  {
   "cell_type": "code",
   "execution_count": 6,
   "id": "4fb9020a",
   "metadata": {},
   "outputs": [],
   "source": [
    "good_and_bad_colors = [\"#D50000\", \"00E676\"]            # Set red and blue for good and bad colors\n",
    "gender_colors       = [\"#EC407A\", \"#42A5F5\"]           # Set of gender based colors to use (pink and blue)\n",
    "\n",
    "sns.set_theme(\n",
    "    context=\"notebook\",\n",
    "    font_scale=1.5,                                    # Set default font size.\n",
    "    style=\"darkgrid\");                                 # Set theme style\n",
    "\n",
    "sns.set_palette(sns.color_palette(gender_colors))      # Set default colors"
   ]
  },
  {
   "cell_type": "code",
   "execution_count": 7,
   "id": "590028d5",
   "metadata": {},
   "outputs": [
    {
     "ename": "TypeError",
     "evalue": "example_plot() missing 1 required positional argument: 'df_column'",
     "output_type": "error",
     "traceback": [
      "\u001b[1;31m---------------------------------------------------------------------------\u001b[0m",
      "\u001b[1;31mTypeError\u001b[0m                                 Traceback (most recent call last)",
      "\u001b[1;32m<ipython-input-7-f9e96a1b7c0d>\u001b[0m in \u001b[0;36m<module>\u001b[1;34m\u001b[0m\n\u001b[0;32m     18\u001b[0m \u001b[1;33m\u001b[0m\u001b[0m\n\u001b[0;32m     19\u001b[0m \u001b[1;32mfor\u001b[0m \u001b[0max\u001b[0m \u001b[1;32min\u001b[0m \u001b[0maxs\u001b[0m\u001b[1;33m.\u001b[0m\u001b[0mflat\u001b[0m\u001b[1;33m:\u001b[0m\u001b[1;33m\u001b[0m\u001b[1;33m\u001b[0m\u001b[0m\n\u001b[1;32m---> 20\u001b[1;33m     \u001b[0mexample_plot\u001b[0m\u001b[1;33m(\u001b[0m\u001b[0max\u001b[0m\u001b[1;33m)\u001b[0m\u001b[1;33m\u001b[0m\u001b[1;33m\u001b[0m\u001b[0m\n\u001b[0m",
      "\u001b[1;31mTypeError\u001b[0m: example_plot() missing 1 required positional argument: 'df_column'"
     ]
    },
    {
     "data": {
      "image/png": "[encoded data removed]",
      "text/plain": [
       "<Figure size 1080x1080 with 4 Axes>"
      ]
     },
     "metadata": {},
     "output_type": "display_data"
    }
   ],
   "source": [
    "def example_plot(ax, df_column):\n",
    "    np.random.seed(19680801)\n",
    "    mu = 100\n",
    "    sigma = 15\n",
    "    x = mu + sigma * np.random.randn(437)\n",
    "    num_bins = 10\n",
    "    y = ((1 / (np.sqrt(2 * np.pi) * sigma)) * np.exp(-0.5 * (1 / sigma * (bins - mu))**2))\n",
    "    ax.plot(bins, y, '--')\n",
    "    ax.hist(x, num_bins, density=True)\n",
    "    # ax.plot([1, 2])\n",
    "    ax.set_xlabel('x-label', fontsize=12)\n",
    "    ax.set_ylabel('y-label', fontsize=12)\n",
    "    ax.set_title('Title', fontsize=14)\n",
    "\n",
    "\n",
    "fig, axs = plt.subplots(nrows=2, ncols=2, figsize=(15,15), constrained_layout=True)\n",
    "#fig.subplots_adjust(hspace=0.4, wspace=0.4)\n",
    "\n",
    "for ax in axs.flat:\n",
    "    example_plot(ax)"
   ]
  },
  {
   "cell_type": "markdown",
   "id": "dee6e810",
   "metadata": {},
   "source": [
    "####  <span style=\"font-family: Arial; font-weight:bold;font-size:1.9em;color:#0e92ea\"> 3. Multivariate Data Analysis:\n",
    "   \n",
    "<p align=\"center\">\n",
    "Multivariate Data Analysis\n",
    "</p>"
   ]
  },
  {
   "cell_type": "code",
   "execution_count": null,
   "id": "7f9d225e",
   "metadata": {},
   "outputs": [],
   "source": [
    "plt.subplots(figsize=(15, 6))                          # Set chart size\n",
    "axs = sns.boxplot(x=\"Age\",\n",
    "            y=\"MaritalStatus\",\n",
    "            data=main_data,\n",
    "            hue=\"Gender\")\n",
    "axs.set_title(\"Age Profile Distribution\")\n",
    "sns.stripplot(x=main_data['Age'], y=main_data['MaritalStatus'], hue=main_data['Gender'])\n",
    "\n",
    "plt.subplots(figsize=(15, 6))\n",
    "sns.set_palette(sns.color_palette(gender_colors))\n",
    "axs = sns.boxplot(\n",
    "            x=\"Income\",\n",
    "            y=\"MaritalStatus\",\n",
    "            data=main_data,\n",
    "            hue=\"Gender\")\n",
    "axs.set_title(\"Icome Profile Distribution\")\n",
    "sns.stripplot(x=main_data['Income'], y=main_data['MaritalStatus'], hue=main_data['Gender'])\n",
    "\n",
    "plt.show()"
   ]
  },
  {
   "cell_type": "code",
   "execution_count": null,
   "id": "c7826432",
   "metadata": {},
   "outputs": [],
   "source": [
    "sns.pairplot(data=main_data, hue=\"Gender\", kind=\"kde\");"
   ]
  },
  {
   "cell_type": "markdown",
   "id": "b1f84647",
   "metadata": {},
   "source": [
    "####  <span style=\"font-family: Arial; font-weight:bold;font-size:1.9em;color:#0e92ea\"> 4. Recommendations:\n",
    "   \n",
    "<p align=\"center\">\n",
    "Multivariate Data Analysis\n",
    "</p>"
   ]
  }
 ],
 "metadata": {
  "kernelspec": {
   "display_name": "Python 3",
   "language": "python",
   "name": "python3"
  },
  "language_info": {
   "codemirror_mode": {
    "name": "ipython",
    "version": 3
   },
   "file_extension": ".py",
   "mimetype": "text/x-python",
   "name": "python",
   "nbconvert_exporter": "python",
   "pygments_lexer": "ipython3",
   "version": "3.8.8"
  }
 },
 "nbformat": 4,
 "nbformat_minor": 5
}
