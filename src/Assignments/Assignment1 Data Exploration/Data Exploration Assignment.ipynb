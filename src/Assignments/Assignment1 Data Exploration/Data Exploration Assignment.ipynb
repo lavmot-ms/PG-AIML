{
 "cells": [
  {
   "cell_type": "markdown",
   "id": "b368d6a8",
   "metadata": {},
   "source": [
    "###  <span style=\"font-family: Arial; font-weight:bold;font-size:1.9em;color:#0e92ea\"> Cardio Good Fitness </span>\n",
    "\n",
    "<p align=\"center\">\n",
    "The data is about customers of the treadmill product(s) of a retail store called <b>Cardio Good Fitness</b>. This Dashboards explores the CSV data provided, generate key business insights identifying customer profiles and recommendations on the actions the company could take when targeting new customers.\n",
    "</p>\n",
    "\n",
    "###  <span style=\"font-family: Arial; font-weight:bold;font-size:1.9em;color:#0e92ea\"> Contents:\n",
    "  \n",
    "<font color=darkblue>\n",
    "\n",
    "&nbsp;\n",
    "\n",
    "1. Import necessary libraries and Load Data\n",
    "2. Univariate Data Analysis\n",
    "3. Checking distribution of data - distplot, violin plot, histograms, commulative distributions\n",
    "4. Multivariate Data Analysis"
   ]
  },
  {
   "cell_type": "code",
   "execution_count": null,
   "id": "1959cbf1",
   "metadata": {},
   "outputs": [],
   "source": []
  }
 ],
 "metadata": {
  "kernelspec": {
   "display_name": "Python 3",
   "language": "python",
   "name": "python3"
  },
  "language_info": {
   "codemirror_mode": {
    "name": "ipython",
    "version": 3
   },
   "file_extension": ".py",
   "mimetype": "text/x-python",
   "name": "python",
   "nbconvert_exporter": "python",
   "pygments_lexer": "ipython3",
   "version": "3.8.8"
  }
 },
 "nbformat": 4,
 "nbformat_minor": 5
}
