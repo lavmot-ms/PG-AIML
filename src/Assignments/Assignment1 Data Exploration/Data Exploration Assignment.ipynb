{
 "cells": [
  {
   "cell_type": "markdown",
   "id": "0c53cc34",
   "metadata": {},
   "source": [
    "#  <span style=\"font-family: Arial; font-weight:bold;font-size:1.9em;color:#0e92ea\"> Cardio Good Fitness </span>\n",
    "\n",
    "<p align=\"center\">\n",
    "The data is about customers of the treadmill product(s) of a retail store called <b>Cardio Good Fitness</b>. This Dashboards explores the CSV data provided, generate key business insights identifying customer profiles and recommendations on the actions the company could take when targeting new customers.\n",
    "</p>\n",
    "\n",
    "###  <span style=\"font-family: Arial; font-weight:bold;font-size:1.9em;color:#0e92ea\"> Contents:\n",
    "  \n",
    "<font color=darkblue>\n",
    "\n",
    "&nbsp;\n",
    "\n",
    "1. Import necessary libraries and Load Data\n",
    "2. Univariate Data Analysis\n",
    "3. Checking distribution of data\n",
    "4. Multivariate Data Analysis\n",
    "5. Conclusion and Recommendations"
   ]
  },
  {
   "cell_type": "markdown",
   "id": "3ad00862",
   "metadata": {},
   "source": [
    "####  <span style=\"font-family: Arial; font-weight:bold;font-size:1.9em;color:#0e92ea\"> Setup (Import Modules):"
   ]
  },
  {
   "cell_type": "code",
   "execution_count": 52,
   "id": "2d75ee6a",
   "metadata": {},
   "outputs": [],
   "source": [
    "import pandas as pd\n",
    "import matplotlib.pyplot as plt\n",
    "import seaborn as sns\n",
    "import pandas_profiling                            # Used to create profile summary of the data\n",
    "\n",
    "sns.set(color_codes=True)                          # Displays charts with background colors\n",
    "%matplotlib inline                                 # Display output directly on the cell that produced it\n",
    "\n",
    "main_data= pd.read_csv('CardioGoodFitness.csv');   # Load the data"
   ]
  },
  {
   "cell_type": "markdown",
   "id": "e0606cf9",
   "metadata": {},
   "source": [
    "####  <span style=\"font-family: Arial; font-weight:bold;font-size:1.9em;color:#0e92ea\"> 1. Scan The Data:\n",
    "   \n",
    "<p align=\"center\">\n",
    "Eplore the data structure\n",
    "</p>"
   ]
  },
  {
   "cell_type": "code",
   "execution_count": 53,
   "id": "73f5bdc9",
   "metadata": {},
   "outputs": [
    {
     "name": "stdout",
     "output_type": "stream",
     "text": [
      " \n",
      "Rows x Columns = (180, 9)\n",
      " \n",
      "               Nulls  Non-Nulls    Type\n",
      "Age                0        180   int64\n",
      "Education          0        180   int64\n",
      "Fitness            0        180   int64\n",
      "Gender             0        180  object\n",
      "Income             0        180   int64\n",
      "MaritalStatus      0        180  object\n",
      "Miles              0        180   int64\n",
      "Product            0        180  object\n",
      "Usage              0        180   int64\n"
     ]
    }
   ],
   "source": [
    "nulls_series             = main_data.isna().sum()    # Get a series counting number of empty values for each column\n",
    "nonnulls_sereis          = main_data.notnull().sum() # Get a series counting number of non empty valuesfor each column \n",
    "column_datatypes         = main_data.dtypes          # Get a series containing data types for each column \n",
    "\n",
    "\n",
    "nulls_count_df = pd.concat(\n",
    "    [\n",
    "        nulls_series, \n",
    "        nonnulls_sereis, \n",
    "        column_datatypes\n",
    "    ],               \n",
    "    axis=1,                                          # Concatenate using columns as axis. \n",
    "    keys=[\"Nulls\", \"Non-Nulls\", \"Type\"],             # Add Columns as for the nulls and non-nulls values\n",
    "    sort=True)\n",
    "\n",
    "\n",
    "print(\" \")\n",
    "print(\"Rows x Columns = \" + str(main_data.shape))    # Print out the dimensions of the data frame\n",
    "\n",
    "\n",
    "print(\" \")\n",
    "print(nulls_count_df)                                # Display the nulls count table"
   ]
  },
  {
   "cell_type": "code",
   "execution_count": 28,
   "id": "ec492639",
   "metadata": {},
   "outputs": [
    {
     "name": "stdout",
     "output_type": "stream",
     "text": [
      "[ 0  1  2  3  4  5  6  7  8  9 10 11 12 13 14]\n",
      "[0. 0. 0. 0. 0. 0. 0. 0. 0. 0. 0. 0. 0. 0. 0.]\n"
     ]
    }
   ],
   "source": [
    "print(np.arange(0,15))\n",
    "print(np.zeros(15))"
   ]
  },
  {
   "cell_type": "code",
   "execution_count": 4,
   "id": "4eac4306",
   "metadata": {},
   "outputs": [
    {
     "data": {
      "text/html": [
       "<div>\n",
       "<style scoped>\n",
       "    .dataframe tbody tr th:only-of-type {\n",
       "        vertical-align: middle;\n",
       "    }\n",
       "\n",
       "    .dataframe tbody tr th {\n",
       "        vertical-align: top;\n",
       "    }\n",
       "\n",
       "    .dataframe thead th {\n",
       "        text-align: right;\n",
       "    }\n",
       "</style>\n",
       "<table border=\"1\" class=\"dataframe\">\n",
       "  <thead>\n",
       "    <tr style=\"text-align: right;\">\n",
       "      <th></th>\n",
       "      <th>Product</th>\n",
       "      <th>Age</th>\n",
       "      <th>Gender</th>\n",
       "      <th>Education</th>\n",
       "      <th>MaritalStatus</th>\n",
       "      <th>Usage</th>\n",
       "      <th>Fitness</th>\n",
       "      <th>Income</th>\n",
       "      <th>Miles</th>\n",
       "    </tr>\n",
       "  </thead>\n",
       "  <tbody>\n",
       "    <tr>\n",
       "      <th>0</th>\n",
       "      <td>TM195</td>\n",
       "      <td>18</td>\n",
       "      <td>Male</td>\n",
       "      <td>14</td>\n",
       "      <td>Single</td>\n",
       "      <td>3</td>\n",
       "      <td>4</td>\n",
       "      <td>29562</td>\n",
       "      <td>112</td>\n",
       "    </tr>\n",
       "    <tr>\n",
       "      <th>1</th>\n",
       "      <td>TM195</td>\n",
       "      <td>19</td>\n",
       "      <td>Male</td>\n",
       "      <td>15</td>\n",
       "      <td>Single</td>\n",
       "      <td>2</td>\n",
       "      <td>3</td>\n",
       "      <td>31836</td>\n",
       "      <td>75</td>\n",
       "    </tr>\n",
       "    <tr>\n",
       "      <th>2</th>\n",
       "      <td>TM195</td>\n",
       "      <td>19</td>\n",
       "      <td>Female</td>\n",
       "      <td>14</td>\n",
       "      <td>Partnered</td>\n",
       "      <td>4</td>\n",
       "      <td>3</td>\n",
       "      <td>30699</td>\n",
       "      <td>66</td>\n",
       "    </tr>\n",
       "    <tr>\n",
       "      <th>3</th>\n",
       "      <td>TM195</td>\n",
       "      <td>19</td>\n",
       "      <td>Male</td>\n",
       "      <td>12</td>\n",
       "      <td>Single</td>\n",
       "      <td>3</td>\n",
       "      <td>3</td>\n",
       "      <td>32973</td>\n",
       "      <td>85</td>\n",
       "    </tr>\n",
       "    <tr>\n",
       "      <th>4</th>\n",
       "      <td>TM195</td>\n",
       "      <td>20</td>\n",
       "      <td>Male</td>\n",
       "      <td>13</td>\n",
       "      <td>Partnered</td>\n",
       "      <td>4</td>\n",
       "      <td>2</td>\n",
       "      <td>35247</td>\n",
       "      <td>47</td>\n",
       "    </tr>\n",
       "  </tbody>\n",
       "</table>\n",
       "</div>"
      ],
      "text/plain": [
       "  Product  Age  Gender  Education MaritalStatus  Usage  Fitness  Income  Miles\n",
       "0   TM195   18    Male         14        Single      3        4   29562    112\n",
       "1   TM195   19    Male         15        Single      2        3   31836     75\n",
       "2   TM195   19  Female         14     Partnered      4        3   30699     66\n",
       "3   TM195   19    Male         12        Single      3        3   32973     85\n",
       "4   TM195   20    Male         13     Partnered      4        2   35247     47"
      ]
     },
     "execution_count": 4,
     "metadata": {},
     "output_type": "execute_result"
    }
   ],
   "source": [
    "main_data.head()"
   ]
  },
  {
   "cell_type": "code",
   "execution_count": 5,
   "id": "f686f52b",
   "metadata": {},
   "outputs": [],
   "source": [
    "#pandas_profiling.ProfileReport(main_data)"
   ]
  },
  {
   "cell_type": "markdown",
   "id": "7d069f21",
   "metadata": {},
   "source": [
    "####  <span style=\"font-family: Arial; font-weight:bold;font-size:1.9em;color:#0e92ea\"> 2. Univariate Data Analysis:\n",
    "   \n",
    "<p align=\"center\">\n",
    "Eplore indiviual columns.\n",
    "</p>"
   ]
  },
  {
   "cell_type": "markdown",
   "id": "dee6e810",
   "metadata": {},
   "source": [
    "####  <span style=\"font-family: Arial; font-weight:bold;font-size:1.9em;color:#0e92ea\"> 3. Multivariate Data Analysis:\n",
    "   \n",
    "<p align=\"center\">\n",
    "Multivariate Data Analysis\n",
    "</p>"
   ]
  },
  {
   "cell_type": "markdown",
   "id": "b1f84647",
   "metadata": {},
   "source": [
    "####  <span style=\"font-family: Arial; font-weight:bold;font-size:1.9em;color:#0e92ea\"> 4. Recommendations:\n",
    "   \n",
    "<p align=\"center\">\n",
    "Multivariate Data Analysis\n",
    "</p>"
   ]
  }
 ],
 "metadata": {
  "kernelspec": {
   "display_name": "Python 3",
   "language": "python",
   "name": "python3"
  },
  "language_info": {
   "codemirror_mode": {
    "name": "ipython",
    "version": 3
   },
   "file_extension": ".py",
   "mimetype": "text/x-python",
   "name": "python",
   "nbconvert_exporter": "python",
   "pygments_lexer": "ipython3",
   "version": "3.8.8"
  }
 },
 "nbformat": 4,
 "nbformat_minor": 5
}
