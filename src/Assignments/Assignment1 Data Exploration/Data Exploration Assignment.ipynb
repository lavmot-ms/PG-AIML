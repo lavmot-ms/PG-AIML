{
 "cells": [
  {
   "cell_type": "markdown",
   "id": "0c53cc34",
   "metadata": {},
   "source": [
    "## <span style=\"font-family: Arial; font-weight:bold;font-size:1.9em;color:#0e92ea\">Assignment 1: Cardio Good Fitness Data Exploration</span>\n",
    "\n",
    "&nbsp;\n",
    "\n",
    "<p align=\"center\" style=\"font-family: Arial;color:#0e92ea;font-size:1em;\">\n",
    "The data is about customers of the treadmill product(s) of a retail store called <b>Cardio Good Fitness</b>. This Dashboards explores the CSV data provided, generate key business insights identifying customer profiles and recommendations on the actions the company could take when targeting new customers.\n",
    "</p>\n",
    "\n",
    "##  <span style=\"font-family: Arial; font-weight:bold;font-size:1.9em;color:#0e92ea\"> Contents:</span>\n",
    "\n",
    "<ol style=\"font-family: Arial;color:#0e92ea;font-size:1em;\">\n",
    "    <li>Overview</li>\n",
    "    <li>Univariate Data Analysis</li>\n",
    "    <li>Multivariate Data Analysis</li>\n",
    "    <li>Conclusion and Recommendations</li>\n",
    "</ol>"
   ]
  },
  {
   "cell_type": "markdown",
   "id": "3ad00862",
   "metadata": {},
   "source": [
    "####  <span style=\"font-family: Arial; font-weight:bold;font-size:1.9em;color:#0e92ea\"> Setup (Import Modules):"
   ]
  },
  {
   "cell_type": "code",
   "execution_count": null,
   "id": "2d75ee6a",
   "metadata": {},
   "outputs": [],
   "source": [
    "import os\n",
    "import pandas as pd\n",
    "import numpy as np\n",
    "import matplotlib.pyplot as plt\n",
    "import seaborn as sns\n",
    "import warnings\n",
    "warnings.filterwarnings('ignore')                  # Ignore/Do not display warnings\n",
    "\n",
    "sns.set(color_codes=False)                          # Displays charts with background colors\n",
    "%matplotlib inline\n",
    "\n",
    "main_data= pd.read_csv('CardioGoodFitness.csv');   # Load the data"
   ]
  },
  {
   "cell_type": "markdown",
   "id": "4bf84240",
   "metadata": {},
   "source": [
    " <span style=\"font-family: Arial; font-weight:bold;font-size:1.2em;color:#0e92ea\"> Set Up Dashboard Theme:"
   ]
  },
  {
   "cell_type": "code",
   "execution_count": null,
   "id": "099e1f8a",
   "metadata": {},
   "outputs": [],
   "source": [
    "default_colors = [\"#4FC3F7\",\"#E65100\", \"#E91E63\", \"#1B5E20\", \"#42A5F5\", \"#FFEB3B\"]       # Set red and blue for good and bad colors.\n",
    "gender_palette = {\"Female\":\"#E91E63\", \"Male\":\"#42A5F5\"}            # Set of gender based color palette map (pink, blue).\n",
    "\n",
    "# sns.set_theme(\n",
    "#     context=\"notebook\",                                            # Sets default size for charts. \n",
    "#     font_scale=1.5,                                                # Default font size .\n",
    "#     style=\"darkgrid\");                                             # Dashboard chart background style.\n",
    "\n",
    "sns.set_palette(sns.color_palette(default_colors))                 # Initialize defaultcolor palette for the notebook charts"
   ]
  },
  {
   "cell_type": "markdown",
   "id": "e0606cf9",
   "metadata": {},
   "source": [
    "####  <span style=\"font-family: Arial; font-weight:bold;font-size:1.9em;color:#0e92ea\"> 1. Overview of The Data Attributes:\n",
    "\n",
    "&nbsp;\n",
    "    \n",
    "<span style=\"font-family: Arial; font-weight:bold;font-size:1em;color:#0e92ea\"> General Observations:\n",
    "<ul>\n",
    "    <li>The data is made up of 180 rows and 9 columns.</li>\n",
    "    <li>6 columns contain discrete data and theother 3 categorial data.</li>\n",
    "    <li>The data has no null values.</li>\n",
    "    <li>Another noticeable difference is a higher average income and mileage for males as compared to females.</li>\n",
    "</ul>"
   ]
  },
  {
   "cell_type": "code",
   "execution_count": null,
   "id": "de88dccd",
   "metadata": {},
   "outputs": [],
   "source": [
    "main_data.head()"
   ]
  },
  {
   "cell_type": "code",
   "execution_count": null,
   "id": "0d178cfe",
   "metadata": {},
   "outputs": [],
   "source": [
    "nulls_series             = main_data.isna().sum()         # Get a series counting number of empty values for each column\n",
    "nonnulls_series          = main_data.notnull().sum()      # Get a series counting number of non empty valuesfor each column \n",
    "column_datatypes         = main_data.dtypes               # Get a series containing data types for each column \n",
    "\n",
    "nulls_count_df = pd.concat(\n",
    "    [nulls_series, nonnulls_series, column_datatypes],    # Combine the series created above into a dataframe.\n",
    "    axis=1,                                               # Concatenate using columns as axis. \n",
    "    keys=[\"Nulls\", \"Non-Nulls\", \"Type\"],                  # Add Columns as for the nulls and non-nulls values\n",
    "    sort=True)\n",
    "\n",
    "print(\"Rows x Columns = \" + str(main_data.shape) + \"\\n\")  # Print out the dimensions of the data frame\n",
    "print(nulls_count_df)                                     # Display the nulls count table"
   ]
  },
  {
   "cell_type": "markdown",
   "id": "412536dd",
   "metadata": {},
   "source": [
    " <span style=\"font-family: Arial; font-weight:bold;font-size:1.2em;color:#0e92ea\"> Fix Data Types"
   ]
  },
  {
   "cell_type": "code",
   "execution_count": null,
   "id": "98f270e3",
   "metadata": {},
   "outputs": [],
   "source": [
    "main_data['Product']=main_data['Product'].astype(\"category\")\n",
    "main_data['Gender']=main_data['Gender'].astype(\"category\")\n",
    "main_data['MaritalStatus']=main_data['MaritalStatus'].astype(\"category\")"
   ]
  },
  {
   "cell_type": "code",
   "execution_count": null,
   "id": "8d483a92",
   "metadata": {},
   "outputs": [],
   "source": [
    "main_data['Gender'].value_counts()                        # Count number of females and males in the dataset."
   ]
  },
  {
   "cell_type": "code",
   "execution_count": null,
   "id": "0aaf714b",
   "metadata": {},
   "outputs": [],
   "source": [
    "main_data.describe()"
   ]
  },
  {
   "cell_type": "code",
   "execution_count": null,
   "id": "2bd9e808",
   "metadata": {},
   "outputs": [],
   "source": [
    "main_data.describe(include=[\"category\"])"
   ]
  },
  {
   "cell_type": "code",
   "execution_count": null,
   "id": "0bbc00c6",
   "metadata": {},
   "outputs": [],
   "source": [
    "main_data.groupby(['Gender']).mean() # Eplore mean by Gender for each column "
   ]
  },
  {
   "cell_type": "markdown",
   "id": "7d069f21",
   "metadata": {},
   "source": [
    "####  <span style=\"font-family: Arial; font-weight:bold;font-size:1.9em;color:#0e92ea\"> 2. Univariate Data Analysis:\n"
   ]
  },
  {
   "cell_type": "markdown",
   "id": "d492f21a",
   "metadata": {},
   "source": [
    "<span style=\"font-family: Arial; font-weight:bold;font-size:1.2em;color:#0e92ea\">2.1 Exploring Categorial Variables</span>\n",
    "    \n",
    "<span style=\"font-family: Arial; font-weight:bold;font-size:1em;color:#0e92ea\"> Observations:\n",
    "<ul>\n",
    "    <li>Gender profiles are only divided into male and female.</li>\n",
    "    <li>Cardio Good Fitness has only three products: TM195, TM498 and TM798</li>\n",
    "    <li>The data shows a difference of 31% more male customers than female customers.</li>\n",
    "    <li>Looks like there are some males who prefer threadmill TM798 more than other products</li>\n",
    "    <li>Another observation is a higher number of married customers (both male and female)</li>\n",
    "</ul>"
   ]
  },
  {
   "cell_type": "code",
   "execution_count": null,
   "id": "6fdf07ec",
   "metadata": {},
   "outputs": [],
   "source": [
    "fig, axs = plt.subplots(\n",
    "    nrows=1,                                                                # Number of rows of the grid\n",
    "    ncols=3,                                                                # Number of columns of the grid.\n",
    "    figsize=(15,5),                                                         # The size each figure\n",
    "    constrained_layout=True)                                                # To avoid overlap between values\n",
    "\n",
    "def plot_cartegorial_charts(ax, df_column_name):                            # Helperfunction, creates a count plot and puts it on the grid on the given axis\n",
    "    ax = sns.countplot(                                                     # Create the count plot\n",
    "        data=main_data,                                                     # Use the original data frame\n",
    "        x=main_data[df_column_name],                                        # Use the column name passed in to get the series/values of that column\n",
    "        hue=\"Gender\",                                                       # Split the visual into Male and Female\n",
    "        palette=gender_palette,                                             # Use gender specific colors (pink and blue)\n",
    "        ax=ax)                                                              # Plot on the given axis \n",
    "    ax.set_title(df_column_name + ' Profile', fontsize=14)                  # Set the title of the chart. \n",
    "    ax.legend(loc='upper right')                                            # Put the legend of the chart on the top right.\n",
    "\n",
    "categorial_data_column_names = ['Product', 'Gender', 'MaritalStatus']       # A list of categorial columns.\n",
    "column_names_index = 0;                                                     # Index variable used to loop\n",
    "\n",
    "for ax in axs.flat:                                                         # Go through every axis on the grid and plota chart on it.\n",
    "    plot_cartegorial_charts(ax, categorial_data_column_names[column_names_index])\n",
    "    column_names_index = column_names_index + 1"
   ]
  },
  {
   "cell_type": "markdown",
   "id": "f34dd968",
   "metadata": {},
   "source": [
    "<span style=\"font-family: Arial; font-weight:bold;font-size:1.2em;color:#0e92ea\">2.2 Exploring Continous Variables</span>\n",
    "    \n",
    "<span style=\"font-family: Arial; font-weight:bold;font-size:1em;color:#0e92ea\"> Observations 1:\n",
    "<ul>\n",
    "    <li>Most of the customers are in their mid 20s and 30s.</li>\n",
    "    <li>Most customers rate them selves on a fitnes score of 3.</li>\n",
    "    <li>Most customers seem to be making around 40k and 60k in income.</li>\n",
    "    <li>The average mile ran is around 100 Miles</li>\n",
    "</ul>"
   ]
  },
  {
   "cell_type": "code",
   "execution_count": null,
   "id": "cda13e83",
   "metadata": {},
   "outputs": [],
   "source": [
    "fig, (box, hist) = plt.subplots(\n",
    "    nrows=2,                                                                # Number of rows of the grid\n",
    "    ncols=3,                                                                # Number of columns of the grid.\n",
    "    figsize=(15,4),       \n",
    "            gridspec_kw={\"height_ratios\" : (0.25,0.7)},\n",
    "    constrained_layout=True)                                                # To avoid overlap between values\n",
    "\n",
    "\n",
    "def plot_distribution_chart(box_chart_ax, hist_chart_ax, df_column_name):   # Plot the probability density grap on the given axis\n",
    "    \n",
    "    sns.boxplot(\n",
    "        data=main_data,\n",
    "        x=main_data[df_column_name],\n",
    "        showmeans=True,\n",
    "        ax=box_chart_ax)\n",
    "    \n",
    "    sns.histplot(\n",
    "        data=main_data,\n",
    "        x=main_data[df_column_name],\n",
    "        kde=True,\n",
    "        ax=hist_chart_ax)\n",
    "    \n",
    "    hist_chart_ax.axvline(main_data[df_column_name].mean(),                 # Get the mean of the values in the given column and draw a vertical line that cuts the chart on the mean value \n",
    "               color=default_colors[0],                                     # Use on of the colors predefined on this notebook\n",
    "               label='Mean',                                                # Set the label to be diplayed on the legend\n",
    "               linestyle=\"dashed\");                                         # Make the line have dashes\n",
    "    \n",
    "    hist_chart_ax.axvline(main_data[df_column_name].median(),               # Plot the median line on the chart.\n",
    "               color=default_colors[1],                                     # Use on of the colors predefined on this notebook\n",
    "               label='Median',                                              # Set the label to be diplayed on the legend\n",
    "               linestyle=\"dashed\");                                         # Make the line have dashes\n",
    "    \n",
    "    hist_chart_ax.axvline(main_data[df_column_name].mode()[0],              # Plot the mode line on the chart.\n",
    "               color=default_colors[3],                                     # Use on of the colors predefined on this notebook \n",
    "               label='Mode',                                                # Set the label to be diplayed on the legend\n",
    "               linestyle=\"dashed\");                                         # Make the line have dashes\n",
    "    hist_chart_ax.legend(bbox_to_anchor=(1.2, 1), loc='upper right')\n",
    "\n",
    "column_names = ['Age', 'Income', 'Miles', 'Usage', 'Fitness', 'Education']\n",
    "\n",
    "for count in range(3):\n",
    "    plot_distribution_chart(box.flat[count], hist.flat[count], column_names[count])\n",
    "    \n",
    "\n",
    "fig, (box, hist) = plt.subplots(\n",
    "    nrows=2,                                                                # Number of rows of the grid\n",
    "    ncols=3,                                                                # Number of columns of the grid.\n",
    "    figsize=(15,4),       \n",
    "    gridspec_kw={\"height_ratios\" : (0.25,0.7)},\n",
    "    constrained_layout=True) \n",
    "\n",
    "column_names = ['Usage', 'Fitness', 'Education']\n",
    "for count in range(3):\n",
    "    plot_distribution_chart(box.flat[count], hist.flat[count], column_names[count])"
   ]
  },
  {
   "cell_type": "markdown",
   "id": "8ad8124f",
   "metadata": {},
   "source": [
    "<span style=\"font-family: Arial; font-weight:bold;font-size:1em;color:#0e92ea\"> Observations 2 (Same as 1):\n",
    "<ul>\n",
    "    <li>Most of the customers are in their mid 20s and 30s.</li>\n",
    "    <li>Most customers rate them selves on a fitnes score of 3.</li>\n",
    "    <li>Most customers seem to be making around 40k and 60k in income.</li>\n",
    "    <li>The average mile ran is around 100 Miles</li>\n",
    "</ul>"
   ]
  },
  {
   "cell_type": "code",
   "execution_count": null,
   "id": "efee962f",
   "metadata": {},
   "outputs": [],
   "source": [
    "fig, axs = plt.subplots(\n",
    "    nrows=2,                                                                # Number of rows of the grid\n",
    "    ncols=3,                                                                # Number of columns of the grid.\n",
    "    figsize=(15,5),                                                         # The size each figure\n",
    "    constrained_layout=True)                                                # To avoid overlap between values\n",
    "\n",
    "def plot_box_chart(ax, df_column_name):                                     # Helper function to plot the violin plot.\n",
    "    ax = sns.violinplot(                                                    # Plot the violin chart\n",
    "        x=df_column_name,                                                   # Set the input column name as the x-axis\n",
    "        data=main_data,                                                     # Use the main data loaded on start of the notebook\n",
    "        ax = ax,                                                            # plot the violin on the given grid axis\n",
    "        kind=\"box\")                                                         # Use boxplot\n",
    "    \n",
    "    sns.stripplot(x=main_data[df_column_name],                              # Plot the stripplot show were most of the data in the violin lies\n",
    "                  ax = ax,                                                  # Plot the violin on the given grid axis\n",
    "                  color=default_colors[1],                                  # use one the note-book'spredefined colors for the dots\n",
    "                  jitter=True)                                              # Allows stripplot to visualize number of datapoints for a given x-axis \n",
    "    \n",
    "    ax.axvline(main_data[df_column_name].mean(),                            # Plot the mean on the same axis as the violinplot. \n",
    "               color=default_colors[3],                                     # Use one of the notebook's predeined colors\n",
    "               label='Mean',                                                # Set the label to display on the legend\n",
    "               linestyle=\"dashed\");                                         # set the line style to have dashes.\n",
    "    \n",
    "    ax.set_xlabel(df_column_name)                                           # Set the x-axis label of the chart.                                           \n",
    "    ax.set_title(df_column_name + ' Profile', fontsize=14)                  # Set the title of the chart\n",
    "    \n",
    "    ax.legend()                                                             # Display the legend on the chart\n",
    "    ax.legend(loc='upper right')                                            # Move the legend to the upper right of the chart\n",
    "\n",
    "continuous_data_column_names = ['Age', 'Income', 'Miles', 'Usage', 'Fitness', 'Education']\n",
    "count =0\n",
    "\n",
    "for ax in axs.flat:\n",
    "    plot_box_chart(ax, continuous_data_column_names[count])\n",
    "    count = count + 1"
   ]
  },
  {
   "cell_type": "markdown",
   "id": "b7f36877",
   "metadata": {},
   "source": [
    "<span style=\"font-family: Arial; font-weight:bold;font-size:1em;color:#0e92ea\"> Observations 3 (Comparing by Gender):\n",
    "<ul>\n",
    "    <li>Males tend use the products more than females.</li>\n",
    "    <li>Males tend to run more miles than females.</li>\n",
    "    <li>More males have a fitness score of 4-6 than females</li>\n",
    "    <li>More males make more in income compared to females(might not be true since theres more males than females in the data</li>\n",
    "    <li>Most of the customers are between ages 30 and 40</li>\n",
    "</ul>"
   ]
  },
  {
   "cell_type": "code",
   "execution_count": null,
   "id": "95cfbed9",
   "metadata": {},
   "outputs": [],
   "source": [
    "fig, axs = plt.subplots(\n",
    "    nrows=2,                                                                # Number of rows of the grid\n",
    "    ncols=3,                                                                # Number of columns of the grid.\n",
    "    figsize=(15,10),                                                        # The size each figure\n",
    "    constrained_layout=True)                                                # To avoid overlap between values\n",
    "\n",
    "def plot_distribution_chart(ax, df_column_name):\n",
    "    ax = sns.kdeplot(main_data[df_column_name],\n",
    "                     ax=ax,                                                 # Plot the kds chart on the given axis\n",
    "                     palette=gender_palette,                                # Use gender specific colors defined at the start of this notebook\n",
    "                     hue=main_data[\"Gender\"],                               # Split the chart by gender\n",
    "                     shade=True);                                           # Shaded the area below the curve\n",
    "    \n",
    "    ax.set_xlabel(df_column_name)                                           # Set the x-axis label of the chart.                                           \n",
    "    ax.set_title(df_column_name + ' Profile', fontsize=14)                  # Set the title of the chart\n",
    "    \n",
    "continuous_data_column_names = ['Age', 'Income', 'Miles', 'Usage', 'Fitness', 'Education']\n",
    "count =0\n",
    "\n",
    "for ax in axs.flat:\n",
    "    plot_distribution_chart(ax, continuous_data_column_names[count])\n",
    "    count = count + 1"
   ]
  },
  {
   "cell_type": "markdown",
   "id": "303a005d",
   "metadata": {},
   "source": [
    "####  <span style=\"font-family: Arial; font-weight:bold;font-size:1.9em;color:#0e92ea\"> 3. Multivariate Data Analysis:"
   ]
  },
  {
   "cell_type": "markdown",
   "id": "844fe02a",
   "metadata": {},
   "source": [
    "<span style=\"font-family: Arial; font-weight:bold;font-size:1.2em;color:#0e92ea\">3.2 Overview"
   ]
  },
  {
   "cell_type": "markdown",
   "id": "33b9ff83",
   "metadata": {},
   "source": [
    "<span style=\"font-family: Arial; font-weight:bold;font-size:1em;color:#0e92ea\"> Observations (Comparing by Gender):\n",
    "<ul>\n",
    "    <li>The older the customer, the more them seem to be educated</li>\n",
    "    <li>The average income for both male and female seem to be around 50k both being higher for older customers.</li>\n",
    "    <li>There isnt that much correlation between the customer's age fitness (for both female and male)</li>\n",
    "    <li>Theres a high correlation between high education and high income.</li>\n",
    "    <li>Customers who want to use the machines more often tend to use them longer.</li>\n",
    "    <li>Fitness tends to increase with usage.</li>\n",
    "    <li>Males between ages 20 and 40 tend to earn (Income) more than females in the same age range.</li>\n",
    "    <li>Males between ages 20 and 40 tend to run more miles than females in the same age range.</li>\n",
    "    <li>Males between ages 20 and 40 tend to use the product more than females in the same age range.</li>\n",
    "    <li>Males tend to run more than females with the same level of education.</li>\n",
    "    <li>Theres positive corralation between income and usage for both males and females</li>\n",
    "</ul>"
   ]
  },
  {
   "cell_type": "code",
   "execution_count": null,
   "id": "44ada8db",
   "metadata": {},
   "outputs": [],
   "source": [
    "sns.pairplot(data=main_data, hue=\"Gender\", kind=\"reg\", palette=gender_palette);"
   ]
  },
  {
   "cell_type": "markdown",
   "id": "f8f275bc",
   "metadata": {},
   "source": [
    "<span style=\"font-family: Arial; font-weight:bold;font-size:1em;color:#0e92ea\"> Observations (Comparing by Gender):\n",
    "<ul>\n",
    "    <li>Product TM798 seesm to be more porpular amongest the higher educated, high earners, highly fit</li>\n",
    "</ul>"
   ]
  },
  {
   "cell_type": "code",
   "execution_count": null,
   "id": "60a69656",
   "metadata": {},
   "outputs": [],
   "source": [
    "sns.pairplot(data=main_data, hue=\"Product\", kind=\"reg\", palette={'TM798':default_colors[0], 'TM195':default_colors[1],'TM498':default_colors[2]});"
   ]
  },
  {
   "cell_type": "code",
   "execution_count": null,
   "id": "4f44732c",
   "metadata": {
    "scrolled": true
   },
   "outputs": [],
   "source": [
    "fig, ax = plt.subplots(figsize=(18,18)) \n",
    "sns.heatmap(data=main_data.corr(), annot=True, linewidths=.5, ax=ax)\n",
    "plt.show()"
   ]
  },
  {
   "cell_type": "markdown",
   "id": "3de42860",
   "metadata": {},
   "source": [
    "<span style=\"font-family: Arial; font-weight:bold;font-size:1em;color:#0e92ea\"> Observations 2 (Product Drill):\n",
    "<ul>\n",
    "    <li>Here we see that morepeople in their 20s to 30s want to use TM789. This agerange is where most of the cusomter sample lies.</li>\n",
    "</ul>"
   ]
  },
  {
   "cell_type": "code",
   "execution_count": null,
   "id": "80d2fc2d",
   "metadata": {
    "scrolled": true
   },
   "outputs": [],
   "source": [
    "sns.catplot(data=main_data, x=\"Product\", y=\"Usage\", hue=\"Gender\", kind=\"box\", palette=gender_palette);\n",
    "sns.catplot(data=main_data, x=\"Product\", y=\"Age\", hue=\"Gender\", kind=\"box\", palette=gender_palette);\n",
    "\n",
    "plt.legend(loc='upper right')"
   ]
  },
  {
   "cell_type": "markdown",
   "id": "ccb3c14a",
   "metadata": {},
   "source": [
    "<span style=\"font-family: Arial; font-weight:bold;font-size:1em;color:#0e92ea\"> Observations 2 (Product Drill):\n",
    "<ul>\n",
    "    <li>Married men seem to be earning higher than married women and non married customers</li>\n",
    "</ul>"
   ]
  },
  {
   "cell_type": "code",
   "execution_count": null,
   "id": "23f64955",
   "metadata": {},
   "outputs": [],
   "source": [
    "plt.subplots(figsize=(13, 6))                          # Set chart size\n",
    "axs = sns.boxplot(x=\"Age\",\n",
    "            y=\"MaritalStatus\",\n",
    "            data=main_data,\n",
    "            palette=gender_palette,\n",
    "            hue=\"Gender\")\n",
    "axs.set_title(\"Age Profile\")\n",
    "sns.swarmplot(x=main_data['Age'], y=main_data['MaritalStatus'], hue=main_data['Gender'], palette=gender_palette)\n",
    "\n",
    "plt.subplots(figsize=(13, 6))\n",
    "axs = sns.boxplot(\n",
    "            x=\"Income\",\n",
    "            y=\"MaritalStatus\",\n",
    "            data=main_data,\n",
    "            palette=gender_palette,\n",
    "            hue=\"Gender\")\n",
    "axs.set_title(\"Icome Profile\")\n",
    "sns.swarmplot(x=main_data['Income'], y=main_data['MaritalStatus'], hue=main_data['Gender'], palette=gender_palette)\n",
    "\n",
    "plt.subplots(figsize=(13, 6))\n",
    "axs = sns.boxplot(\n",
    "            x=\"Usage\",\n",
    "            y=\"MaritalStatus\",\n",
    "            data=main_data,\n",
    "            palette=gender_palette,\n",
    "            hue=\"Gender\")\n",
    "axs.set_title(\"Icome Profile\")\n",
    "sns.swarmplot(x=main_data['Usage'], y=main_data['MaritalStatus'], hue=main_data['Gender'], palette=gender_palette)\n",
    "\n",
    "\n",
    "plt.show()"
   ]
  },
  {
   "cell_type": "markdown",
   "id": "b1f84647",
   "metadata": {},
   "source": [
    "####  <span style=\"font-family: Arial; font-weight:bold;font-size:1.9em;color:#0e92ea\"> 4. Summary and Recommendations:\n",
    "   \n",
    "<p align=\"center\">\n",
    "Product TM798 seems be more used and and the business should consider stocking moreto avoid discouraging customers by having them wait for a vacant machine if they are all occupied.\n",
    "</p>"
   ]
  },
  {
   "cell_type": "code",
   "execution_count": null,
   "id": "652ccd0d",
   "metadata": {},
   "outputs": [],
   "source": [
    "os.system('jupyter nbconvert --to html \"Data Exploration Assignment.ipynb\"')"
   ]
  }
 ],
 "metadata": {
  "kernelspec": {
   "display_name": "Python 3",
   "language": "python",
   "name": "python3"
  },
  "language_info": {
   "codemirror_mode": {
    "name": "ipython",
    "version": 3
   },
   "file_extension": ".py",
   "mimetype": "text/x-python",
   "name": "python",
   "nbconvert_exporter": "python",
   "pygments_lexer": "ipython3",
   "version": "3.8.8"
  }
 },
 "nbformat": 4,
 "nbformat_minor": 5
}
